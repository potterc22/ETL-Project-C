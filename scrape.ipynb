{
 "cells": [
  {
   "cell_type": "code",
   "execution_count": 31,
   "metadata": {
    "collapsed": true
   },
   "outputs": [],
   "source": [
    "# Dependencies\n",
    "from bs4 import BeautifulSoup\n",
    "import requests\n",
    "import pandas as pd\n",
    "from splinter import Browser\n",
    "import os"
   ]
  },
  {
   "cell_type": "code",
   "execution_count": 9,
   "metadata": {
    "collapsed": true
   },
   "outputs": [],
   "source": [
    "# URL of page to be scraped\n",
    "#url = 'https://www.walgreens.com/store/c/halloween-candy/ID=520931-tier3'\n",
    "url = 'https://www.walgreens.com/store/store/category/productlist.jsp?N=520931&Eon=520931'\n"
   ]
  },
  {
   "cell_type": "code",
   "execution_count": 32,
   "metadata": {},
   "outputs": [],
   "source": [
    "# Read HTML from file\n",
    "filepath = os.path.join(\"Resources\", \"walgreens.html\")\n",
    "with open(filepath) as file:\n",
    "    wal_html = file.read()"
   ]
  },
  {
   "cell_type": "code",
   "execution_count": 33,
   "metadata": {},
   "outputs": [],
   "source": [
    "#browser.visit(url)\n",
    "html = browser.html\n",
    "soup = BeautifulSoup(wal_html, 'html.parser')\n"
   ]
  },
  {
   "cell_type": "code",
   "execution_count": 34,
   "metadata": {
    "tags": [
     "outputPrepend"
    ]
   },
   "outputs": [
    {
     "output_type": "stream",
     "name": "stdout",
     "text": [
      "t store</span></div><div class=\"avail-cta\" id=\"not-available-for-shippingcompare_sku6151899\" name=\"not-available-for-shipping compare_sku6151899\"><!-- react-text: 4398 -->Not available for shipping<!-- /react-text --><span class=\"sr-only\">Not available for shipping</span></div><button class=\"btn btn__blue\" id=\"pickup-ship-btncompare_sku6151899\" name=\"pickup-ship-btn\"><!-- react-text: 4401 -->Pick up<!-- /react-text --><span class=\"sr-only\">will open overlay</span></button></div></div><span aria-live=\"polite\" class=\"sr-only\" id=\"ownbrandAnnounce\"></span></div>, <div class=\"item card card__product\" id=\"productcard300400854\"><div aria-hidden=\"true\" id=\"productcardheight300400854\" style=\"text-align: center;\"><a href=\"/store/c/haribo-sweet-%26-scary-mix-assorted,-laydown-bag/ID=300400854-product\" id=\"productOmniSelectcompare_400622247\" tabindex=\"-1\"><figure class=\"product__img\"></figure><span class=\"sr-only\"><!-- react-text: 4410 -->Haribo Sweet &amp; Scary Mix Assorted, Laydown Bag<!-- /react-text --><!-- react-text: 4411 --> (<!-- /react-text --><!-- react-text: 4412 -->21.1 oz <!-- /react-text --><!-- react-text: 4413 -->)<!-- /react-text --></span></a></div><div class=\"product__details\"><div class=\"product__text\"><a class=\"color__text-black\" href=\"/store/c/haribo-sweet-%26-scary-mix-assorted,-laydown-bag/ID=300400854-product\"><div class=\"product__title font__fourteen\" id=\"title-secondary-0compare_400622247\" name=\"product-title\" title=\"Haribo Sweet &amp; Scary Mix Assorted, Laydown Bag\"><div class=\"brand\" id=\"prodBrandNamecompare_400622247\">Haribo</div><strong class=\"description\" id=\"prodTitleNamecompare_400622247\">Sweet &amp; Scary Mix Assorted, Laydown Bag</strong><span class=\"amount\" id=\"product-sizecompare_400622247\" name=\"wagproductsize\"><!-- react-text: 4421 --> - <!-- /react-text --><!-- react-text: 4422 -->21.1 oz <!-- /react-text --><!-- react-text: 4423 --> <!-- /react-text --><!-- react-text: 4424 --><!-- /react-text --></span></div><div class=\"product__price-contain\" name=\"wagproductprice\"><span class=\"price__contain\" id=\"regular-pricecompare_400622247\" name=\"regular-price\"><span class=\"product__price font__sixteen\"><!-- react-text: 4428 -->$6.99<!-- /react-text --><span class=\"sr-only\">$6.99</span></span><span class=\"product__weight font__twelve\"><!-- react-text: 4431 --> <!-- /react-text --><!-- react-text: 4432 -->$0.33<!-- /react-text --><!-- react-text: 4433 --> <!-- /react-text --><!-- react-text: 4434 --> / oz<!-- /react-text --></span></span></div></a><div class=\"product__deal-container font__fourteen\"><div class=\"product__deal color__text-red\" id=\"offer300400854\" title=\"Buy 1, Get 1 50% OFF\"><!-- react-text: 4437 -->Buy 1, Get 1 50% OFF<!-- /react-text --><span class=\"sr-only\">Buy 1, Get 1 50% OFF</span></div></div></div><div class=\"product__buttons\"><div class=\"avail-cta color__text-green-uc\" id=\"in-stock-at-storecompare_400622247\" name=\"in-stock-at-store compare_400622247\"><strong>In stock at store</strong><span class=\"sr-only\">In stock at store</span></div><div class=\"avail-cta\" id=\"out-of-stock-for-shippingcompare_400622247\" name=\"out-of-stock-for-shipping compare_400622247\"><!-- react-text: 4444 -->Out of stock for shipping<!-- /react-text --><span class=\"sr-only\">Out of stock for shipping</span></div><button class=\"btn btn__blue\" id=\"pickup-ship-btncompare_400622247\" name=\"pickup-ship-btn\"><!-- react-text: 4447 -->Pick up<!-- /react-text --><span class=\"sr-only\">will open overlay</span></button></div></div><span aria-live=\"polite\" class=\"sr-only\" id=\"ownbrandAnnounce\"></span></div>, <div class=\"item card card__product\" id=\"productcard300400858\"><div aria-hidden=\"true\" id=\"productcardheight300400858\" style=\"text-align: center;\"><a href=\"/store/c/mars-favorite-sugar-grab-bag-halloween/ID=300400858-product\" id=\"productOmniSelectcompare_400622251\" tabindex=\"-1\"><figure class=\"product__img\"></figure><span class=\"sr-only\"><!-- react-text: 4456 -->Mars Favorite Sugar Grab Bag Halloween<!-- /react-text --><!-- react-text: 4457 --> (<!-- /react-text --><!-- react-text: 4458 -->21.39 oz <!-- /react-text --><!-- react-text: 4459 -->)<!-- /react-text --></span></a></div><div class=\"product__details\"><div class=\"product__text\"><a class=\"color__text-black\" href=\"/store/c/mars-favorite-sugar-grab-bag-halloween/ID=300400858-product\"><div class=\"product__title font__fourteen\" id=\"title-secondary-0compare_400622251\" name=\"product-title\" title=\"Mars Favorite Sugar Grab Bag Halloween\"><div class=\"brand\" id=\"prodBrandNamecompare_400622251\">Mars</div><strong class=\"description\" id=\"prodTitleNamecompare_400622251\">Favorite Sugar Grab Bag Halloween</strong><span class=\"amount\" id=\"product-sizecompare_400622251\" name=\"wagproductsize\"><!-- react-text: 4467 --> - <!-- /react-text --><!-- react-text: 4468 -->21.39 oz <!-- /react-text --><!-- react-text: 4469 --> <!-- /react-text --><!-- react-text: 4470 --><!-- /react-text --></span></div><span class=\"product__rating\"><figure><img alt=\"5.0 out of 5 total 49 reviews\" id=\"reviewbazarcompare_400622251\" src=\"//www.walgreens.com/images/adaptive/bvrating/rating-5_0.gif\" title=\"5.0 out of 5\"/><figcaption>49</figcaption></figure></span><div class=\"product__price-contain\" name=\"wagproductprice\"><span class=\"price__contain\" id=\"sales-pricecompare_400622251\" name=\"sales-price\"><span class=\"product__price font__sixteen color__text-red\"><!-- react-text: 4478 -->$6.99<!-- /react-text --><span class=\"sr-only\">$6.99</span><!-- react-text: 4480 --> <!-- /react-text --></span><span class=\"product__weight font__twelve\"><!-- react-text: 4482 -->$0.33<!-- /react-text --><!-- react-text: 4483 --> <!-- /react-text --><span> / oz</span></span><span class=\"product__slashed font__twelve\">$7.79</span></span></div></a><div class=\"product__deal-container font__fourteen\"><div class=\"product__deal color__text-red\" id=\"offer300400858\" title=\"Buy 1, Get 1 50% OFF\"><!-- react-text: 4488 -->Buy 1, Get 1 50% OFF<!-- /react-text --><span class=\"sr-only\">Buy 1, Get 1 50% OFF</span></div></div></div><div class=\"product__buttons\"><div class=\"avail-cta color__text-green-uc\" id=\"in-stock-at-storecompare_400622251\" name=\"in-stock-at-store compare_400622251\"><strong>In stock at store</strong><span class=\"sr-only\">In stock at store</span></div><div class=\"avail-cta color__text-green-uc\" id=\"in-stock-for-shippingcompare_400622251\" name=\"in-stock-for-shipping compare_400622251\"><strong>In stock for shipping</strong><span class=\"sr-only\">In stock for shipping</span></div><button class=\"btn btn__blue\" id=\"pickup-ship-btncompare_400622251\" name=\"pickup-ship-btn\"><!-- react-text: 4498 -->Pick up or ship<!-- /react-text --><span class=\"sr-only\">will open overlay</span></button></div></div><span aria-live=\"polite\" class=\"sr-only\" id=\"ownbrandAnnounce\"></span></div>, <div class=\"item card card__product\" id=\"productcard300400860\"><div aria-hidden=\"true\" id=\"productcardheight300400860\" style=\"text-align: center;\"><a href=\"/store/c/mars-mixed-candy-halloween/ID=300400860-product\" id=\"productOmniSelectcompare_400622253\" tabindex=\"-1\"><figure class=\"product__img\"></figure><span class=\"sr-only\"><!-- react-text: 4507 -->Mars Mixed Candy Halloween<!-- /react-text --><!-- react-text: 4508 --> (<!-- /react-text --><!-- react-text: 4509 -->15.61 oz <!-- /react-text --><!-- react-text: 4510 -->)<!-- /react-text --></span></a></div><div class=\"product__details\"><div class=\"product__text\"><a class=\"color__text-black\" href=\"/store/c/mars-mixed-candy-halloween/ID=300400860-product\"><div class=\"product__title font__fourteen\" id=\"title-secondary-0compare_400622253\" name=\"product-title\" title=\"Mars Mixed Candy Halloween\"><div class=\"brand\" id=\"prodBrandNamecompare_400622253\">Mars</div><strong class=\"description\" id=\"prodTitleNamecompare_400622253\">Mixed Candy Halloween</strong><span class=\"amount\" id=\"product-sizecompare_400622253\" name=\"wagproductsize\"><!-- react-text: 4518 --> - <!-- /react-text --><!-- react-text: 4519 -->15.61 oz <!-- /react-text --><!-- react-text: 4520 --> <!-- /react-text --><!-- react-text: 4521 --><!-- /react-text --></span></div><span class=\"product__rating\"><figure><img alt=\"4.9 out of 5 total 122 reviews\" id=\"reviewbazarcompare_400622253\" src=\"//www.walgreens.com/images/adaptive/bvrating/rating-4_9.gif\" title=\"4.9 out of 5\"/><figcaption>122</figcaption></figure></span><div class=\"product__price-contain\" name=\"wagproductprice\"><span class=\"price__contain\" id=\"sales-pricecompare_400622253\" name=\"sales-price\"><span class=\"product__price font__sixteen color__text-red\"><!-- react-text: 4529 -->$6.99<!-- /react-text --><span class=\"sr-only\">$6.99</span><!-- react-text: 4531 --> <!-- /react-text --></span><span class=\"product__weight font__twelve\"><!-- react-text: 4533 -->$0.45<!-- /react-text --><!-- react-text: 4534 --> <!-- /react-text --><span> / oz</span></span><span class=\"product__slashed font__twelve\">$7.79</span></span></div></a><div class=\"product__deal-container font__fourteen\"><div class=\"product__deal color__text-red\" id=\"offer300400860\" title=\"Buy 1, Get 1 50% OFF\"><!-- react-text: 4539 -->Buy 1, Get 1 50% OFF<!-- /react-text --><span class=\"sr-only\">Buy 1, Get 1 50% OFF</span></div><div class=\"product__deal\" id=\"coupon300400860\"><a aria-describedby=\"coupon_overlay\" href=\"javascript:void(0)\" name=\"coupondetailsclick\">Save $1.25 Coupon</a><span class=\"sr-only\" id=\"coupon_overlay\">Open simulated dialog</span></div></div></div><div class=\"product__buttons\"><div class=\"avail-cta color__text-green-uc\" id=\"in-stock-at-storecompare_400622253\" name=\"in-stock-at-store compare_400622253\"><strong>In stock at store</strong><span class=\"sr-only\">In stock at store</span></div><div class=\"avail-cta color__text-green-uc\" id=\"in-stock-for-shippingcompare_400622253\" name=\"in-stock-for-shipping compare_400622253\"><strong>In stock for shipping</strong><span class=\"sr-only\">In stock for shipping</span></div><button class=\"btn btn__blue\" id=\"pickup-ship-btncompare_400622253\" name=\"pickup-ship-btn\"><!-- react-text: 4552 -->Pick up or ship<!-- /react-text --><span class=\"sr-only\">will open overlay</span></button></div></div><span aria-live=\"polite\" class=\"sr-only\" id=\"ownbrandAnnounce\"></span></div>, <div class=\"item card card__product\" id=\"productcardprod6365973\"><div aria-hidden=\"true\" id=\"productcardheightprod6365973\" style=\"text-align: center;\"><a href=\"/store/c/reese's-milk-chocolate-peanut-butter-pumpkin/ID=prod6365973-product\" id=\"productOmniSelectcompare_sku6064255\" tabindex=\"-1\"><figure class=\"product__img\"></figure><span class=\"sr-only\"><!-- react-text: 4561 -->Reese's Milk Chocolate Peanut Butter Pumpkin<!-- /react-text --><!-- react-text: 4562 --> (<!-- /react-text --><!-- react-text: 4563 -->1.2 oz <!-- /react-text --><!-- react-text: 4564 -->)<!-- /react-text --></span></a></div><div class=\"product__details\"><div class=\"product__text\"><a class=\"color__text-black\" href=\"/store/c/reese's-milk-chocolate-peanut-butter-pumpkin/ID=prod6365973-product\"><div class=\"product__title font__fourteen\" id=\"title-secondary-0compare_sku6064255\" name=\"product-title\" title=\"Reese's Milk Chocolate Peanut Butter Pumpkin\"><div class=\"brand\" id=\"prodBrandNamecompare_sku6064255\">Reese's</div><strong class=\"description\" id=\"prodTitleNamecompare_sku6064255\">Milk Chocolate Peanut Butter Pumpkin</strong><span class=\"amount\" id=\"product-sizecompare_sku6064255\" name=\"wagproductsize\"><!-- react-text: 4572 --> - <!-- /react-text --><!-- react-text: 4573 -->1.2 oz <!-- /react-text --><!-- react-text: 4574 --> <!-- /react-text --><!-- react-text: 4575 --><!-- /react-text --></span></div><span class=\"product__rating\"><figure><img alt=\"3.0 out of 5 total 2 reviews\" id=\"reviewbazarcompare_sku6064255\" src=\"//www.walgreens.com/images/adaptive/bvrating/rating-3_0.gif\" title=\"3.0 out of 5\"/><figcaption>2</figcaption></figure></span><div class=\"product__price-contain\" name=\"wagproductprice\"><span class=\"price__contain\" id=\"sales-pricecompare_sku6064255\" name=\"sales-price\"><span class=\"product__price font__sixteen color__text-red\"><span><!-- react-text: 4584 -->4/$3.00 <!-- /react-text --><span class=\"or\">or</span><!-- react-text: 4586 --> 1/$0.99<!-- /react-text --></span><span class=\"sr-only\"><!-- react-text: 4588 -->4/$3.00 <!-- /react-text --><span class=\"or\">or</span><!-- react-text: 4590 --> 1/$0.99<!-- /react-text --></span><!-- react-text: 4591 --> <!-- /react-text --></span><span class=\"product__weight font__twelve\"><!-- react-text: 4593 -->$0.83<!-- /react-text --><!-- react-text: 4594 --> <!-- /react-text --><span> / oz</span></span><span class=\"product__slashed font__twelve\">$1.39</span></span></div></a><div class=\"product__deal-container font__fourteen\"><div class=\"product__deal\" id=\"couponprod6365973\"><a aria-describedby=\"coupon_overlay\" href=\"javascript:void(0)\" name=\"coupondetailsclick\">$1 off with card (with purchase of 4) Coupon</a><span class=\"sr-only\" id=\"coupon_overlay\">Open simulated dialog</span></div></div></div><div class=\"product__buttons\"><div class=\"avail-cta color__text-green-uc\" id=\"in-stock-at-storecompare_sku6064255\" name=\"in-stock-at-store compare_sku6064255\"><strong>In stock at store</strong><span class=\"sr-only\">In stock at store</span></div><div class=\"avail-cta\" id=\"out-of-stock-for-shippingcompare_sku6064255\" name=\"out-of-stock-for-shipping compare_sku6064255\"><!-- react-text: 4606 -->Out of stock for shipping<!-- /react-text --><span class=\"sr-only\">Out of stock for shipping</span></div><button class=\"btn btn__blue\" id=\"pickup-ship-btncompare_sku6064255\" name=\"pickup-ship-btn\"><!-- react-text: 4609 -->Pick up<!-- /react-text --><span class=\"sr-only\">will open overlay</span></button></div></div><span aria-live=\"polite\" class=\"sr-only\" id=\"ownbrandAnnounce\"></span></div>, <div class=\"item card card__product\" id=\"productcardprod6377562\"><div aria-hidden=\"true\" id=\"productcardheightprod6377562\" style=\"text-align: center;\"><a href=\"/store/c/hershey's-halloween-candy-assorted/ID=prod6377562-product\" id=\"productOmniSelectcompare_sku6315472\" tabindex=\"-1\"><figure class=\"product__img\"></figure><span class=\"sr-only\"><!-- react-text: 4618 -->Hershey's Halloween Candy Assorted<!-- /react-text --><!-- react-text: 4619 --> (<!-- /react-text --><!-- react-text: 4620 -->60.8 oz <!-- /react-text --><!-- react-text: 4621 -->)<!-- /react-text --></span></a></div><div class=\"product__details\"><div class=\"product__text\"><a class=\"color__text-black\" href=\"/store/c/hershey's-halloween-candy-assorted/ID=prod6377562-product\"><div class=\"product__title font__fourteen\" id=\"title-secondary-0compare_sku6315472\" name=\"product-title\" title=\"Hershey's Halloween Candy Assorted\"><div class=\"brand\" id=\"prodBrandNamecompare_sku6315472\">Hershey's</div><strong class=\"description\" id=\"prodTitleNamecompare_sku6315472\">Halloween Candy Assorted</strong><span class=\"amount\" id=\"product-sizecompare_sku6315472\" name=\"wagproductsize\"><!-- react-text: 4629 --> - <!-- /react-text --><!-- react-text: 4630 -->60.8 oz <!-- /react-text --><!-- react-text: 4631 --> <!-- /react-text --><!-- react-text: 4632 --><!-- /react-text --></span></div><div class=\"product__price-contain\" name=\"wagproductprice\"><span class=\"price__contain\" id=\"regular-pricecompare_sku6315472\" name=\"regular-price\"><span class=\"product__price font__sixteen\"><!-- react-text: 4636 -->$19.99<!-- /react-text --><span class=\"sr-only\">$19.99</span></span><span class=\"product__weight font__twelve\"><!-- react-text: 4639 --> <!-- /react-text --><!-- react-text: 4640 -->$0.33<!-- /react-text --><!-- react-text: 4641 --> <!-- /react-text --><!-- react-text: 4642 --> / oz<!-- /react-text --></span></span></div></a><div class=\"product__deal-container font__fourteen\"><div class=\"product__deal color__text-red\" id=\"offerprod6377562\" title=\"Buy 1, Get 1 50% OFF\"><!-- react-text: 4645 -->Buy 1, Get 1 50% OFF<!-- /react-text --><span class=\"sr-only\">Buy 1, Get 1 50% OFF</span></div></div></div><div class=\"product__buttons\"><div class=\"avail-cta\" id=\"out-of-stockcompare_sku6315472\" name=\"out-of-stock compare_sku6315472\"><!-- react-text: 4649 -->Out of stock at store<!-- /react-text --><span class=\"sr-only\">Out of stock at store</span></div><div class=\"avail-cta\"><a href=\"javascript:void(0)\" id=\"find-at-store-btncompare_sku6315472\" name=\"find-at-store-btn\" role=\"button\"><!-- react-text: 4653 -->Check other stores<!-- /react-text --><span class=\"sr-only\">Opens a simulated dialog</span></a></div><div class=\"avail-cta color__text-green-uc\" id=\"in-stock-for-shippingcompare_sku6315472\" name=\"in-stock-for-shipping compare_sku6315472\"><strong>In stock for shipping</strong><span class=\"sr-only\">In stock for shipping</span></div><button class=\"btn btn__blue\" id=\"pickup-ship-btncompare_sku6315472\" name=\"pickup-ship-btn\"><!-- react-text: 4659 -->Ship it<!-- /react-text --><span class=\"sr-only\">will open overlay</span></button></div></div><span aria-live=\"polite\" class=\"sr-only\" id=\"ownbrandAnnounce\"></span></div>, <div class=\"item card card__product\" id=\"productcardprod6170725\"><div aria-hidden=\"true\" id=\"productcardheightprod6170725\" style=\"text-align: center;\"><a href=\"/store/c/nerds-candy-rope-assorted/ID=prod6170725-product\" id=\"productOmniSelectcompare_sku6151904\" tabindex=\"-1\"><figure class=\"product__img\"></figure><span class=\"sr-only\"><!-- react-text: 4668 -->Nerds Candy Rope Assorted<!-- /react-text --><!-- react-text: 4669 --> (<!-- /react-text --><!-- react-text: 4670 -->0.92 oz <!-- /react-text --><!-- react-text: 4671 -->)<!-- /react-text --></span></a></div><div class=\"product__details\"><div class=\"product__text\"><a class=\"color__text-black\" href=\"/store/c/nerds-candy-rope-assorted/ID=prod6170725-product\"><div class=\"product__title font__fourteen\" id=\"title-secondary-0compare_sku6151904\" name=\"product-title\" title=\"Nerds Candy Rope Assorted\"><div class=\"brand\" id=\"prodBrandNamecompare_sku6151904\">Nerds</div><strong class=\"description\" id=\"prodTitleNamecompare_sku6151904\">Candy Rope Assorted</strong><span class=\"amount\" id=\"product-sizecompare_sku6151904\" name=\"wagproductsize\"><!-- react-text: 4679 --> - <!-- /react-text --><!-- react-text: 4680 -->0.92 oz <!-- /react-text --><!-- react-text: 4681 --> <!-- /react-text --><!-- react-text: 4682 --><!-- /react-text --></span></div><div class=\"product__price-contain\" name=\"wagproductprice\"><span class=\"price__contain\" id=\"regular-pricecompare_sku6151904\" name=\"regular-price\"><span class=\"product__price font__sixteen\"><!-- react-text: 4686 -->$0.79<!-- /react-text --><span class=\"sr-only\">$0.79</span></span></span></div></a><div class=\"product__deal-container font__fourteen\"><div class=\"product__deal color__text-red\" id=\"offerprod6170725\" title=\"Buy 1, Get 1 50% OFF\"><!-- react-text: 4690 -->Buy 1, Get 1 50% OFF<!-- /react-text --><span class=\"sr-only\">Buy 1, Get 1 50% OFF</span></div></div></div><div class=\"product__buttons\"><div class=\"avail-cta color__text-green-uc\" id=\"in-stock-at-storecompare_sku6151904\" name=\"in-stock-at-store compare_sku6151904\"><strong>In stock at store</strong><span class=\"sr-only\">In stock at store</span></div><div class=\"avail-cta\" id=\"not-available-for-shippingcompare_sku6151904\" name=\"not-available-for-shipping compare_sku6151904\"><!-- react-text: 4697 -->Not available for shipping<!-- /react-text --><span class=\"sr-only\">Not available for shipping</span></div><button class=\"btn btn__blue\" id=\"pickup-ship-btncompare_sku6151904\" name=\"pickup-ship-btn\"><!-- react-text: 4700 -->Pick up<!-- /react-text --><span class=\"sr-only\">will open overlay</span></button></div></div><span aria-live=\"polite\" class=\"sr-only\" id=\"ownbrandAnnounce\"></span></div>, <div class=\"item card card__product\" id=\"productcard300402658\"><div aria-hidden=\"true\" id=\"productcardheight300402658\" style=\"text-align: center;\"><a href=\"/store/c/reese's-reese's-peanut-butter-cup-minis-with-spooky-foils-bag/ID=300402658-product\" id=\"productOmniSelectcompare_400624009\" tabindex=\"-1\"><figure class=\"product__img\"></figure><span class=\"sr-only\"><!-- react-text: 4709 -->Reese's Reese's Peanut Butter Cup Minis with Spooky Foils bag<!-- /react-text --><!-- react-text: 4710 --> (<!-- /react-text --><!-- react-text: 4711 -->11 oz <!-- /react-text --><!-- react-text: 4712 -->)<!-- /react-text --></span></a></div><div class=\"product__details\"><div class=\"product__text\"><a class=\"color__text-black\" href=\"/store/c/reese's-reese's-peanut-butter-cup-minis-with-spooky-foils-bag/ID=300402658-product\"><div class=\"product__title font__fourteen\" id=\"title-secondary-0compare_400624009\" name=\"product-title\" title=\"Reese's Reese's Peanut Butter Cup Minis with Spooky Foils bag\"><div class=\"brand\" id=\"prodBrandNamecompare_400624009\">Reese's</div><strong class=\"description\" id=\"prodTitleNamecompare_400624009\">Reese's Peanut Butter Cup Minis with Spooky Foils bag</strong><span class=\"amount\" id=\"product-sizecompare_400624009\" name=\"wagproductsize\"><!-- react-text: 4720 --> - <!-- /react-text --><!-- react-text: 4721 -->11 oz <!-- /react-text --><!-- react-text: 4722 --> <!-- /react-text --><!-- react-text: 4723 --><!-- /react-text --></span></div><span class=\"product__rating\"><figure><img alt=\"4.9 out of 5 total 56 reviews\" id=\"reviewbazarcompare_400624009\" src=\"//www.walgreens.com/images/adaptive/bvrating/rating-4_9.gif\" title=\"4.9 out of 5\"/><figcaption>56</figcaption></figure></span><div class=\"product__price-contain\" name=\"wagproductprice\"><span class=\"price__contain\" id=\"regular-pricecompare_400624009\" name=\"regular-price\"><span class=\"product__price font__sixteen\"><!-- react-text: 4731 -->$4.99<!-- /react-text --><span class=\"sr-only\">$4.99</span></span></span></div></a><div class=\"product__deal-container font__fourteen\"></div></div><div class=\"product__buttons\"><div class=\"avail-cta color__text-green-uc\" id=\"in-stock-at-storecompare_400624009\" name=\"in-stock-at-store compare_400624009\"><strong>In stock at store</strong><span class=\"sr-only\">In stock at store</span></div><div class=\"avail-cta\" id=\"not-available-for-shippingcompare_400624009\" name=\"not-available-for-shipping compare_400624009\"><!-- react-text: 4739 -->Not available for shipping<!-- /react-text --><span class=\"sr-only\">Not available for shipping</span></div><button class=\"btn btn__blue\" id=\"pickup-ship-btncompare_400624009\" name=\"pickup-ship-btn\"><!-- react-text: 4742 -->Pick up<!-- /react-text --><span class=\"sr-only\">will open overlay</span></button></div></div><span aria-live=\"polite\" class=\"sr-only\" id=\"ownbrandAnnounce\"></span></div>, <div class=\"item card card__product\" id=\"productcardprod6279590\"><div aria-hidden=\"true\" id=\"productcardheightprod6279590\" style=\"text-align: center;\"><a href=\"/store/c/russell-stover-pumpkin-caramel-brownie/ID=prod6279590-product\" id=\"productOmniSelectcompare_sku6236831\" tabindex=\"-1\"><figure class=\"product__img\"></figure><span class=\"sr-only\"><!-- react-text: 4751 -->Russell Stover Pumpkin Caramel Brownie<!-- /react-text --><!-- react-text: 4752 --> (<!-- /react-text --><!-- react-text: 4753 -->1 oz <!-- /react-text --><!-- react-text: 4754 -->)<!-- /react-text --></span></a></div><div class=\"product__details\"><div class=\"product__text\"><a class=\"color__text-black\" href=\"/store/c/russell-stover-pumpkin-caramel-brownie/ID=prod6279590-product\"><div class=\"product__title font__fourteen\" id=\"title-secondary-0compare_sku6236831\" name=\"product-title\" title=\"Russell Stover Pumpkin Caramel Brownie\"><div class=\"brand\" id=\"prodBrandNamecompare_sku6236831\">Russell Stover</div><strong class=\"description\" id=\"prodTitleNamecompare_sku6236831\">Pumpkin Caramel Brownie</strong><span class=\"amount\" id=\"product-sizecompare_sku6236831\" name=\"wagproductsize\"><!-- react-text: 4762 --> - <!-- /react-text --><!-- react-text: 4763 -->1 oz <!-- /react-text --><!-- react-text: 4764 --> <!-- /react-text --><!-- react-text: 4765 --><!-- /react-text --></span></div><div class=\"product__price-contain\" name=\"wagproductprice\"><span class=\"price__contain\" id=\"regular-pricecompare_sku6236831\" name=\"regular-price\"><span class=\"product__price font__sixteen\"><span><!-- react-text: 4770 -->3/$2.00 <!-- /react-text --><span class=\"or\">or</span><!-- react-text: 4772 --> 1/$0.79<!-- /react-text --></span><span class=\"sr-only\"><!-- react-text: 4774 -->3/$2.00 <!-- /react-text --><span class=\"or\">or</span><!-- react-text: 4776 --> 1/$0.79<!-- /react-text --></span></span></span></div></a><div class=\"product__deal-container font__fourteen\"></div></div><div class=\"product__buttons\"><div class=\"avail-cta\" id=\"out-of-stockcompare_sku6236831\" name=\"out-of-stock compare_sku6236831\"><!-- react-text: 4780 -->Out of stock at store<!-- /react-text --><span class=\"sr-only\">Out of stock at store</span></div><div class=\"avail-cta\"><a href=\"javascript:void(0)\" id=\"find-at-store-btncompare_sku6236831\" name=\"find-at-store-btn\" role=\"button\"><!-- react-text: 4784 -->Check other stores<!-- /react-text --><span class=\"sr-only\">Opens a simulated dialog</span></a></div><div class=\"avail-cta\" id=\"not-available-for-shippingcompare_sku6236831\" name=\"not-available-for-shipping compare_sku6236831\"><!-- react-text: 4787 -->Not available for shipping<!-- /react-text --><span class=\"sr-only\">Not available for shipping</span></div></div></div><span aria-live=\"polite\" class=\"sr-only\" id=\"ownbrandAnnounce\"></span></div>, <div class=\"item card card__product\" id=\"productcardprod6283787\"><div aria-hidden=\"true\" id=\"productcardheightprod6283787\" style=\"text-align: center;\"><a href=\"/store/c/mars-mixed-chocolate-variety-halloween-bag/ID=prod6283787-product\" id=\"productOmniSelectcompare_sku6239902\" tabindex=\"-1\"><figure class=\"product__img\"></figure><span class=\"sr-only\"><!-- react-text: 4796 -->Mars Mixed Chocolate Variety Halloween Bag<!-- /react-text --><!-- react-text: 4797 --> (<!-- /react-text --><!-- react-text: 4798 -->29 oz <!-- /react-text --><!-- react-text: 4799 -->)<!-- /react-text --></span></a></div><div class=\"product__details\"><div class=\"product__text\"><a class=\"color__text-black\" href=\"/store/c/mars-mixed-chocolate-variety-halloween-bag/ID=prod6283787-product\"><div class=\"product__title font__fourteen\" id=\"title-secondary-0compare_sku6239902\" name=\"product-title\" title=\"Mars Mixed Chocolate Variety Halloween Bag\"><div class=\"brand\" id=\"prodBrandNamecompare_sku6239902\">Mars</div><strong class=\"description\" id=\"prodTitleNamecompare_sku6239902\">Mixed Chocolate Variety Halloween Bag</strong><span class=\"amount\" id=\"product-sizecompare_sku6239902\" name=\"wagproductsize\"><!-- react-text: 4807 --> - <!-- /react-text --><!-- react-text: 4808 -->29 oz <!-- /react-text --><!-- react-text: 4809 --> <!-- /react-text --><!-- react-text: 4810 --><!-- /react-text --></span></div><span class=\"product__rating\"><figure><img alt=\"5.0 out of 5 total 192 reviews\" id=\"reviewbazarcompare_sku6239902\" src=\"//www.walgreens.com/images/adaptive/bvrating/rating-5_0.gif\" title=\"5.0 out of 5\"/><figcaption>192</figcaption></figure></span><div class=\"product__price-contain\" name=\"wagproductprice\"><span class=\"price__contain\" id=\"sales-pricecompare_sku6239902\" name=\"sales-price\"><span class=\"product__price font__sixteen color__text-red\"><!-- react-text: 4818 -->$9.99<!-- /react-text --><span class=\"sr-only\">$9.99</span><!-- react-text: 4820 --> <!-- /react-text --></span><span class=\"product__weight font__twelve\"><!-- react-text: 4822 --> <!-- /react-text --></span><span class=\"product__slashed font__twelve\">$11.99</span></span></div></a><div class=\"product__deal-container font__fourteen\"><div class=\"product__deal color__text-red\" id=\"offerprod6283787\" title=\"Buy 1, Get 1 50% OFF\"><!-- react-text: 4826 -->Buy 1, Get 1 50% OFF<!-- /react-text --><span class=\"sr-only\">Buy 1, Get 1 50% OFF</span></div></div></div><div class=\"product__buttons\"><div class=\"avail-cta color__text-green-uc\" id=\"in-stock-at-storecompare_sku6239902\" name=\"in-stock-at-store compare_sku6239902\"><strong>In stock at store</strong><span class=\"sr-only\">In stock at store</span></div><div class=\"avail-cta\" id=\"not-available-for-shippingcompare_sku6239902\" name=\"not-available-for-shipping compare_sku6239902\"><!-- react-text: 4833 -->Not available for shipping<!-- /react-text --><span class=\"sr-only\">Not available for shipping</span></div><button class=\"btn btn__blue\" id=\"pickup-ship-btncompare_sku6239902\" name=\"pickup-ship-btn\"><!-- react-text: 4836 -->Pick up<!-- /react-text --><span class=\"sr-only\">will open overlay</span></button></div></div><span aria-live=\"polite\" class=\"sr-only\" id=\"ownbrandAnnounce\"></span></div>, <div class=\"item card card__product\" id=\"productcardprod6070417\"><div aria-hidden=\"true\" id=\"productcardheightprod6070417\" style=\"text-align: center;\"><a href=\"/store/c/russell-stover-halloween-candy-orange-marshmallow/ID=prod6070417-product\" id=\"productOmniSelectcompare_sku6064263\" tabindex=\"-1\"><figure class=\"product__img\"></figure><span class=\"sr-only\"><!-- react-text: 4845 -->Russell Stover Halloween Candy Orange Marshmallow<!-- /react-text --><!-- react-text: 4846 --> (<!-- /react-text --><!-- react-text: 4847 -->1 oz <!-- /react-text --><!-- react-text: 4848 -->)<!-- /react-text --></span></a></div><div class=\"product__details\"><div class=\"product__text\"><a class=\"color__text-black\" href=\"/store/c/russell-stover-halloween-candy-orange-marshmallow/ID=prod6070417-product\"><div class=\"product__title font__fourteen\" id=\"title-secondary-0compare_sku6064263\" name=\"product-title\" title=\"Russell Stover Halloween Candy Orange Marshmallow\"><div class=\"brand\" id=\"prodBrandNamecompare_sku6064263\">Russell Stover</div><strong class=\"description\" id=\"prodTitleNamecompare_sku6064263\">Halloween Candy Orange Marshmallow</strong><span class=\"amount\" id=\"product-sizecompare_sku6064263\" name=\"wagproductsize\"><!-- react-text: 4856 --> - <!-- /react-text --><!-- react-text: 4857 -->1 oz <!-- /react-text --><!-- react-text: 4858 --> <!-- /react-text --><!-- react-text: 4859 --><!-- /react-text --></span></div><div class=\"product__price-contain\" name=\"wagproductprice\"><span class=\"price__contain\" id=\"regular-pricecompare_sku6064263\" name=\"regular-price\"><span class=\"product__price font__sixteen\"><span><!-- react-text: 4864 -->3/$2.00 <!-- /react-text --><span class=\"or\">or</span><!-- react-text: 4866 --> 1/$0.79<!-- /react-text --></span><span class=\"sr-only\"><!-- react-text: 4868 -->3/$2.00 <!-- /react-text --><span class=\"or\">or</span><!-- react-text: 4870 --> 1/$0.79<!-- /react-text --></span></span></span></div></a><div class=\"product__deal-container font__fourteen\"></div></div><div class=\"product__buttons\"><div class=\"avail-cta color__text-green-uc\" id=\"in-stock-at-storecompare_sku6064263\" name=\"in-stock-at-store compare_sku6064263\"><strong>In stock at store</strong><span class=\"sr-only\">In stock at store</span></div><div class=\"avail-cta\" id=\"not-available-for-shippingcompare_sku6064263\" name=\"not-available-for-shipping compare_sku6064263\"><!-- react-text: 4877 -->Not available for shipping<!-- /react-text --><span class=\"sr-only\">Not available for shipping</span></div><button class=\"btn btn__blue\" id=\"pickup-ship-btncompare_sku6064263\" name=\"pickup-ship-btn\"><!-- react-text: 4880 -->Pick up<!-- /react-text --><span class=\"sr-only\">will open overlay</span></button></div></div><span aria-live=\"polite\" class=\"sr-only\" id=\"ownbrandAnnounce\"></span></div>, <div class=\"item card card__product\" id=\"productcard300399581\"><div aria-hidden=\"true\" id=\"productcardheight300399581\" style=\"text-align: center;\"><a href=\"/store/c/mars-fun-size-chocolate-candy-variety-mix-piece/ID=300399581-product\" id=\"productOmniSelectcompare_400620919\" tabindex=\"-1\"><figure class=\"product__img\"></figure><span class=\"sr-only\"><!-- react-text: 4889 -->Mars Fun Size Chocolate Candy Variety Mix Piece<!-- /react-text --><!-- react-text: 4890 --> (<!-- /react-text --><!-- react-text: 4891 -->31.18 oz <!-- /react-text --><!-- react-text: 4892 -->)<!-- /react-text --></span></a></div><div class=\"product__details\"><div class=\"product__text\"><a class=\"color__text-black\" href=\"/store/c/mars-fun-size-chocolate-candy-variety-mix-piece/ID=300399581-product\"><div class=\"product__title font__fourteen\" id=\"title-secondary-0compare_400620919\" name=\"product-title\" title=\"Mars Fun Size Chocolate Candy Variety Mix Piece\"><div class=\"brand\" id=\"prodBrandNamecompare_400620919\">Mars</div><strong class=\"description\" id=\"prodTitleNamecompare_400620919\">Fun Size Chocolate Candy Variety Mix Piece</strong><span class=\"amount\" id=\"product-sizecompare_400620919\" name=\"wagproductsize\"><!-- react-text: 4900 --> - <!-- /react-text --><!-- react-text: 4901 -->31.18 oz <!-- /react-text --><!-- react-text: 4902 --> <!-- /react-text --><!-- react-text: 4903 --><!-- /react-text --></span></div><span class=\"product__rating\"><figure><img alt=\"4.9 out of 5 total 349 reviews\" id=\"reviewbazarcompare_400620919\" src=\"//www.walgreens.com/images/adaptive/bvrating/rating-4_9.gif\" title=\"4.9 out of 5\"/><figcaption>349</figcaption></figure></span><div class=\"product__price-contain\" name=\"wagproductprice\"><span class=\"price__contain\" id=\"sales-pricecompare_400620919\" name=\"sales-price\"><span class=\"product__price font__sixteen color__text-red\"><!-- react-text: 4911 -->$9.99<!-- /react-text --><span class=\"sr-only\">$9.99</span><!-- react-text: 4913 --> <!-- /react-text --></span><span class=\"product__weight font__twelve\"><!-- react-text: 4915 -->$0.32<!-- /react-text --><!-- react-text: 4916 --> <!-- /react-text --><span> / oz</span></span><span class=\"product__slashed font__twelve\">$12.99</span></span></div></a><div class=\"product__deal-container font__fourteen\"><div class=\"product__deal color__text-red\" id=\"offer300399581\" title=\"Buy 1, Get 1 50% OFF\"><!-- react-text: 4921 -->Buy 1, Get 1 50% OFF<!-- /react-text --><span class=\"sr-only\">Buy 1, Get 1 50% OFF</span></div></div></div><div class=\"product__buttons\"><div class=\"avail-cta color__text-green-uc\" id=\"in-stock-at-storecompare_400620919\" name=\"in-stock-at-store compare_400620919\"><strong>In stock at store</strong><span class=\"sr-only\">In stock at store</span></div><div class=\"avail-cta\" id=\"out-of-stock-for-shippingcompare_400620919\" name=\"out-of-stock-for-shipping compare_400620919\"><!-- react-text: 4928 -->Out of stock for shipping<!-- /react-text --><span class=\"sr-only\">Out of stock for shipping</span></div><button class=\"btn btn__blue\" id=\"pickup-ship-btncompare_400620919\" name=\"pickup-ship-btn\"><!-- react-text: 4931 -->Pick up<!-- /react-text --><span class=\"sr-only\">will open overlay</span></button></div></div><span aria-live=\"polite\" class=\"sr-only\" id=\"ownbrandAnnounce\"></span></div>, <div class=\"item card card__product\" id=\"productcard300399572\"><div aria-hidden=\"true\" id=\"productcardheight300399572\" style=\"text-align: center;\"><a href=\"/store/c/m%26m's-milk-chocolate-halloween-ghouls/ID=300399572-product\" id=\"productOmniSelectcompare_400620910\" tabindex=\"-1\"><figure class=\"product__img\"></figure><span class=\"sr-only\"><!-- react-text: 4940 -->M&amp;M's Milk Chocolate Halloween Ghouls<!-- /react-text --><!-- react-text: 4941 --> (<!-- /react-text --><!-- react-text: 4942 -->10 oz <!-- /react-text --><!-- react-text: 4943 -->)<!-- /react-text --></span></a></div><div class=\"product__details\"><div class=\"product__text\"><a class=\"color__text-black\" href=\"/store/c/m%26m's-milk-chocolate-halloween-ghouls/ID=300399572-product\"><div class=\"product__title font__fourteen\" id=\"title-secondary-0compare_400620910\" name=\"product-title\" title=\"M&amp;M's Milk Chocolate Halloween Ghouls\"><div class=\"brand\" id=\"prodBrandNamecompare_400620910\">M&amp;M's</div><strong class=\"description\" id=\"prodTitleNamecompare_400620910\">Milk Chocolate Halloween Ghouls</strong><span class=\"amount\" id=\"product-sizecompare_400620910\" name=\"wagproductsize\"><!-- react-text: 4951 --> - <!-- /react-text --><!-- react-text: 4952 -->10 oz <!-- /react-text --><!-- react-text: 4953 --> <!-- /react-text --><!-- react-text: 4954 --><!-- /react-text --></span></div><span class=\"product__rating\"><figure><img alt=\"4.7 out of 5 total 202 reviews\" id=\"reviewbazarcompare_400620910\" src=\"//www.walgreens.com/images/adaptive/bvrating/rating-4_7.gif\" title=\"4.7 out of 5\"/><figcaption>202</figcaption></figure></span><div class=\"product__price-contain\" name=\"wagproductprice\"><span class=\"price__contain\" id=\"sales-pricecompare_400620910\" name=\"sales-price\"><span class=\"product__price font__sixteen color__text-red\"><span><!-- react-text: 4963 -->2/$6.00 <!-- /react-text --><span class=\"or\">or</span><!-- react-text: 4965 --> 1/$3.49<!-- /react-text --></span><span class=\"sr-only\"><!-- react-text: 4967 -->2/$6.00 <!-- /react-text --><span class=\"or\">or</span><!-- react-text: 4969 --> 1/$3.49<!-- /react-text --></span><!-- react-text: 4970 --> <!-- /react-text --></span><span class=\"product__weight font__twelve\"><!-- react-text: 4972 -->$0.35<!-- /react-text --><!-- react-text: 4973 --> <!-- /react-text --><span> / oz</span></span><span class=\"product__slashed font__twelve\">$4.29</span></span></div></a><div class=\"product__deal-container font__fourteen\"><div class=\"product__deal\" id=\"coupon300399572\"><a aria-describedby=\"coupon_overlay\" href=\"javascript:void(0)\" name=\"coupondetailsclick\">Save $1.25 Coupon</a><span class=\"sr-only\" id=\"coupon_overlay\">Open simulated dialog</span></div></div></div><div class=\"product__buttons\"><div class=\"avail-cta color__text-green-uc\" id=\"in-stock-at-storecompare_400620910\" name=\"in-stock-at-store compare_400620910\"><strong>In stock at store</strong><span class=\"sr-only\">In stock at store</span></div><div class=\"avail-cta\" id=\"out-of-stock-for-shippingcompare_400620910\" name=\"out-of-stock-for-shipping compare_400620910\"><!-- react-text: 4985 -->Out of stock for shipping<!-- /react-text --><span class=\"sr-only\">Out of stock for shipping</span></div><button class=\"btn btn__blue\" id=\"pickup-ship-btncompare_400620910\" name=\"pickup-ship-btn\"><!-- react-text: 4988 -->Pick up<!-- /react-text --><span class=\"sr-only\">will open overlay</span></button></div></div><span aria-live=\"polite\" class=\"sr-only\" id=\"ownbrandAnnounce\"></span></div>, <div class=\"item card card__product\" id=\"productcardprod6070399\"><div aria-hidden=\"true\" id=\"productcardheightprod6070399\" style=\"text-align: center;\"><a href=\"/store/c/mars-original-halloween-candy-bag-assorted/ID=prod6070399-product\" id=\"productOmniSelectcompare_sku6064245\" tabindex=\"-1\"><figure class=\"product__img\"></figure><span class=\"sr-only\"><!-- react-text: 4997 -->Mars Original Halloween Candy Bag Assorted<!-- /react-text --><!-- react-text: 4998 --> (<!-- /react-text --><!-- react-text: 4999 -->90 ea <!-- /react-text --><!-- react-text: 5000 -->)<!-- /react-text --></span></a></div><div class=\"product__details\"><div class=\"product__text\"><a class=\"color__text-black\" href=\"/store/c/mars-original-halloween-candy-bag-assorted/ID=prod6070399-product\"><div class=\"product__title font__fourteen\" id=\"title-secondary-0compare_sku6064245\" name=\"product-title\" title=\"Mars Original Halloween Candy Bag Assorted\"><div class=\"brand\" id=\"prodBrandNamecompare_sku6064245\">Mars</div><strong class=\"description\" id=\"prodTitleNamecompare_sku6064245\">Original Halloween Candy Bag Assorted</strong><span class=\"amount\" id=\"product-sizecompare_sku6064245\" name=\"wagproductsize\"><!-- react-text: 5008 --> - <!-- /react-text --><!-- react-text: 5009 -->90 ea <!-- /react-text --><!-- react-text: 5010 --> <!-- /react-text --><!-- react-text: 5011 --><!-- /react-text --></span></div><span class=\"product__rating\"><figure><img alt=\"4.9 out of 5 total 80 reviews\" id=\"reviewbazarcompare_sku6064245\" src=\"//www.walgreens.com/images/adaptive/bvrating/rating-4_9.gif\" title=\"4.9 out of 5\"/><figcaption>80</figcaption></figure></span><div class=\"product__price-contain\" name=\"wagproductprice\"><span class=\"price__contain\" id=\"sales-pricecompare_sku6064245\" name=\"sales-price\"><span class=\"product__price font__sixteen color__text-red\"><!-- react-text: 5019 -->$9.99<!-- /react-text --><span class=\"sr-only\">$9.99</span><!-- react-text: 5021 --> <!-- /react-text --></span><span class=\"product__weight font__twelve\"><!-- react-text: 5023 -->$0.11<!-- /react-text --><!-- react-text: 5024 --> <!-- /react-text --><span> / ea</span></span><span class=\"product__slashed font__twelve\">$11.99</span></span></div></a><div class=\"product__deal-container font__fourteen\"><div class=\"product__deal color__text-red\" id=\"offerprod6070399\" title=\"Buy 1, Get 1 50% OFF\"><!-- react-text: 5029 -->Buy 1, Get 1 50% OFF<!-- /react-text --><span class=\"sr-only\">Buy 1, Get 1 50% OFF</span></div></div></div><div class=\"product__buttons\"><div class=\"avail-cta color__text-green-uc\" id=\"in-stock-at-storecompare_sku6064245\" name=\"in-stock-at-store compare_sku6064245\"><strong>In stock at store</strong><span class=\"sr-only\">In stock at store</span></div><div class=\"avail-cta color__text-green-uc\" id=\"in-stock-for-shippingcompare_sku6064245\" name=\"in-stock-for-shipping compare_sku6064245\"><strong>In stock for shipping</strong><span class=\"sr-only\">In stock for shipping</span></div><button class=\"btn btn__blue\" id=\"pickup-ship-btncompare_sku6064245\" name=\"pickup-ship-btn\"><!-- react-text: 5039 -->Pick up or ship<!-- /react-text --><span class=\"sr-only\">will open overlay</span></button></div></div><span aria-live=\"polite\" class=\"sr-only\" id=\"ownbrandAnnounce\"></span></div>, <div class=\"item card card__product\" id=\"productcardprod6388327\"><div aria-hidden=\"true\" id=\"productcardheightprod6388327\" style=\"text-align: center;\"><a href=\"/store/c/brach's-milk-maid-caramels/ID=prod6388327-product\" id=\"productOmniSelectcompare_sku6320903\" tabindex=\"-1\"><figure class=\"product__img\"></figure><span class=\"sr-only\"><!-- react-text: 5048 -->Brach's Milk Maid Caramels<!-- /react-text --><!-- react-text: 5049 --> (<!-- /react-text --><!-- react-text: 5050 -->10 oz <!-- /react-text --><!-- react-text: 5051 -->)<!-- /react-text --></span></a></div><div class=\"product__details\"><div class=\"product__text\"><a class=\"color__text-black\" href=\"/store/c/brach's-milk-maid-caramels/ID=prod6388327-product\"><div class=\"product__title font__fourteen\" id=\"title-secondary-0compare_sku6320903\" name=\"product-title\" title=\"Brach's Milk Maid Caramels\"><div class=\"brand\" id=\"prodBrandNamecompare_sku6320903\">Brach's</div><strong class=\"description\" id=\"prodTitleNamecompare_sku6320903\">Milk Maid Caramels</strong><span class=\"amount\" id=\"product-sizecompare_sku6320903\" name=\"wagproductsize\"><!-- react-text: 5059 --> - <!-- /react-text --><!-- react-text: 5060 -->10 oz <!-- /react-text --><!-- react-text: 5061 --> <!-- /react-text --><!-- react-text: 5062 --><!-- /react-text --></span></div><div class=\"product__price-contain\" name=\"wagproductprice\"><span class=\"price__contain\" id=\"regular-pricecompare_sku6320903\" name=\"regular-price\"><span class=\"product__price font__sixteen\"><!-- react-text: 5066 -->$2.99<!-- /react-text --><span class=\"sr-only\">$2.99</span></span></span></div></a><div class=\"product__deal-container font__fourteen\"></div></div><div class=\"product__buttons\"><div class=\"avail-cta\" id=\"out-of-stockcompare_sku6320903\" name=\"out-of-stock compare_sku6320903\"><!-- react-text: 5071 -->Out of stock at store<!-- /react-text --><span class=\"sr-only\">Out of stock at store</span></div><div class=\"avail-cta\"><a href=\"javascript:void(0)\" id=\"find-at-store-btncompare_sku6320903\" name=\"find-at-store-btn\" role=\"button\"><!-- react-text: 5075 -->Check other stores<!-- /react-text --><span class=\"sr-only\">Opens a simulated dialog</span></a></div><div class=\"avail-cta\" id=\"not-available-for-shippingcompare_sku6320903\" name=\"not-available-for-shipping compare_sku6320903\"><!-- react-text: 5078 -->Not available for shipping<!-- /react-text --><span class=\"sr-only\">Not available for shipping</span></div></div></div><span aria-live=\"polite\" class=\"sr-only\" id=\"ownbrandAnnounce\"></span></div>, <div class=\"item card card__product\" id=\"productcardprod6070330\"><div aria-hidden=\"true\" id=\"productcardheightprod6070330\" style=\"text-align: center;\"><a href=\"/store/c/snickers-almond-fun-size-chocolate-halloween-candy-bars-almond/ID=prod6070330-product\" id=\"productOmniSelectcompare_sku6064176\" tabindex=\"-1\"><figure class=\"product__img\"></figure><span class=\"sr-only\"><!-- react-text: 5087 -->Snickers Almond Fun Size Chocolate Halloween Candy Bars Almond<!-- /react-text --><!-- react-text: 5088 --> (<!-- /react-text --><!-- react-text: 5089 -->10.23 oz <!-- /react-text --><!-- react-text: 5090 -->)<!-- /react-text --></span></a></div><div class=\"product__details\"><div class=\"product__text\"><a class=\"color__text-black\" href=\"/store/c/snickers-almond-fun-size-chocolate-halloween-candy-bars-almond/ID=prod6070330-product\"><div class=\"product__title font__fourteen\" id=\"title-secondary-0compare_sku6064176\" name=\"product-title\" title=\"Snickers Almond Fun Size Chocolate Halloween Candy Bars Almond\"><div class=\"brand\" id=\"prodBrandNamecompare_sku6064176\">Snickers</div><strong class=\"description\" id=\"prodTitleNamecompare_sku6064176\">Almond Fun Size Chocolate Halloween Candy Bars Almond</strong><span class=\"amount\" id=\"product-sizecompare_sku6064176\" name=\"wagproductsize\"><!-- react-text: 5098 --> - <!-- /react-text --><!-- react-text: 5099 -->10.23 oz <!-- /react-text --><!-- react-text: 5100 --> <!-- /react-text --><!-- react-text: 5101 --><!-- /react-text --></span></div><span class=\"product__rating\"><figure><img alt=\"4.9 out of 5 total 36 reviews\" id=\"reviewbazarcompare_sku6064176\" src=\"//www.walgreens.com/images/adaptive/bvrating/rating-4_9.gif\" title=\"4.9 out of 5\"/><figcaption>36</figcaption></figure></span><div class=\"product__price-contain\" name=\"wagproductprice\"><span class=\"price__contain\" id=\"regular-pricecompare_sku6064176\" name=\"regular-price\"><span class=\"product__price font__sixteen\"><!-- react-text: 5109 -->$4.99<!-- /react-text --><span class=\"sr-only\">$4.99</span></span></span></div></a><div class=\"product__deal-container font__fourteen\"><div class=\"product__deal color__text-red\" id=\"offerprod6070330\" title=\"Buy 1, Get 1 FREE\"><!-- react-text: 5113 -->Buy 1, Get 1 FREE<!-- /react-text --><span class=\"sr-only\">Buy 1, Get 1 FREE</span></div><div class=\"product__deal\" id=\"couponprod6070330\"><a aria-describedby=\"coupon_overlay\" href=\"javascript:void(0)\" name=\"coupondetailsclick\">Save $1.25 Coupon</a><span class=\"sr-only\" id=\"coupon_overlay\">Open simulated dialog</span></div></div></div><div class=\"product__buttons\"><div class=\"avail-cta color__text-green-uc\" id=\"in-stock-at-storecompare_sku6064176\" name=\"in-stock-at-store compare_sku6064176\"><strong>In stock at store</strong><span class=\"sr-only\">In stock at store</span></div><div class=\"avail-cta\" id=\"not-available-for-shippingcompare_sku6064176\" name=\"not-available-for-shipping compare_sku6064176\"><!-- react-text: 5123 -->Not available for shipping<!-- /react-text --><span class=\"sr-only\">Not available for shipping</span></div><button class=\"btn btn__blue\" id=\"pickup-ship-btncompare_sku6064176\" name=\"pickup-ship-btn\"><!-- react-text: 5126 -->Pick up<!-- /react-text --><span class=\"sr-only\">will open overlay</span></button></div></div><span aria-live=\"polite\" class=\"sr-only\" id=\"ownbrandAnnounce\"></span></div>, <div class=\"item card card__product\" id=\"productcard300402656\"><div aria-hidden=\"true\" id=\"productcardheight300402656\" style=\"text-align: center;\"><a href=\"/store/c/hershey's-hershey's-strawberry-creme-filled-kisses-with-vampire-foils/ID=300402656-product\" id=\"productOmniSelectcompare_400624007\" tabindex=\"-1\"><figure class=\"product__img\"></figure><span class=\"sr-only\"><!-- react-text: 5135 -->Hershey's Hershey's Strawberry Creme Filled Kisses with Vampire Foils<!-- /react-text --><!-- react-text: 5136 --> (<!-- /react-text --><!-- react-text: 5137 -->9 oz <!-- /react-text --><!-- react-text: 5138 -->)<!-- /react-text --></span></a></div><div class=\"product__details\"><div class=\"product__text\"><a class=\"color__text-black\" href=\"/store/c/hershey's-hershey's-strawberry-creme-filled-kisses-with-vampire-foils/ID=300402656-product\"><div class=\"product__title font__fourteen\" id=\"title-secondary-0compare_400624007\" name=\"product-title\" title=\"Hershey's Hershey's Strawberry Creme Filled Kisses with Vampire Foils\"><div class=\"brand\" id=\"prodBrandNamecompare_400624007\">Hershey's</div><strong class=\"description\" id=\"prodTitleNamecompare_400624007\">Hershey's Strawberry Creme Filled Kisses with Vampire Foils</strong><span class=\"amount\" id=\"product-sizecompare_400624007\" name=\"wagproductsize\"><!-- react-text: 5146 --> - <!-- /react-text --><!-- react-text: 5147 -->9 oz <!-- /react-text --><!-- react-text: 5148 --> <!-- /react-text --><!-- react-text: 5149 --><!-- /react-text --></span></div><span class=\"product__rating\"><figure><img alt=\"4.9 out of 5 total 70 reviews\" id=\"reviewbazarcompare_400624007\" src=\"//www.walgreens.com/images/adaptive/bvrating/rating-4_9.gif\" title=\"4.9 out of 5\"/><figcaption>70</figcaption></figure></span><div class=\"product__price-contain\" name=\"wagproductprice\"><span class=\"price__contain\" id=\"regular-pricecompare_400624007\" name=\"regular-price\"><span class=\"product__price font__sixteen\"><!-- react-text: 5157 -->$4.99<!-- /react-text --><span class=\"sr-only\">$4.99</span></span></span></div></a><div class=\"product__deal-container font__fourteen\"></div></div><div class=\"product__buttons\"><div class=\"avail-cta color__text-green-uc\" id=\"in-stock-at-storecompare_400624007\" name=\"in-stock-at-store compare_400624007\"><strong>In stock at store</strong><span class=\"sr-only\">In stock at store</span></div><div class=\"avail-cta\" id=\"not-available-for-shippingcompare_400624007\" name=\"not-available-for-shipping compare_400624007\"><!-- react-text: 5165 -->Not available for shipping<!-- /react-text --><span class=\"sr-only\">Not available for shipping</span></div><button class=\"btn btn__blue\" id=\"pickup-ship-btncompare_400624007\" name=\"pickup-ship-btn\"><!-- react-text: 5168 -->Pick up<!-- /react-text --><span class=\"sr-only\">will open overlay</span></button></div></div><span aria-live=\"polite\" class=\"sr-only\" id=\"ownbrandAnnounce\"></span></div>]\n"
     ]
    }
   ],
   "source": [
    "# <div class=\"brand\" id=\"prodBrandNamecompare_sku6253945\" data-reactid=\"468\">PayDay</div>\n",
    "# \"brand\"\n",
    "#<input type=\"checkbox\" id=\"filter_353669\" tabindex=\"0\" value=\"353669\" name=\"353669\" title=\"Sour Punch(2)\">\n",
    "brands = soup.find_all(\"div\", class_=\"item card card__product\")\n",
    "print(brands)"
   ]
  },
  {
   "cell_type": "code",
   "execution_count": 35,
   "metadata": {},
   "outputs": [
    {
     "output_type": "execute_result",
     "data": {
      "text/plain": [
       "72"
      ]
     },
     "metadata": {},
     "execution_count": 35
    }
   ],
   "source": [
    "len(brands)"
   ]
  },
  {
   "cell_type": "code",
   "execution_count": 38,
   "metadata": {},
   "outputs": [
    {
     "output_type": "stream",
     "name": "stdout",
     "text": [
      "PayDay\nSnickers\nTootsie Roll\nMilky Way\nReese's\nMounds\nHershey's\nKisses\n"
     ]
    }
   ],
   "source": [
    "brands_list = []\n",
    "for brand in brands:\n",
    "    \n",
    "    brands_list.append(brand.text)\n",
    "    print(brand.text)"
   ]
  },
  {
   "cell_type": "code",
   "execution_count": 57,
   "metadata": {},
   "outputs": [],
   "source": [
    "#<a name=\"filter_by_Brand\" class=\"no-toggle title__master dt-selected\" id=\"filter_Brand\" href=\"javascript:void(0)\" aria-expanded=\"true\" data-reactid=\"173\"><strong data-reactid=\"174\"><legend data-reactid=\"175\">Brand</legend></strong></a>\n",
    "# type something that allows you select the a element (link that has the id)\n",
    "# for the a element, find the next sibling\n",
    "# tier list of things, nested inside things, a tree\n",
    "# a , div, div, ul, li, "
   ]
  },
  {
   "cell_type": "code",
   "execution_count": 58,
   "metadata": {},
   "outputs": [
    {
     "output_type": "stream",
     "name": "stdout",
     "text": [
      "[<li class=\"check-box\" data-reactid=\"112\"><input data-reactid=\"113\" id=\"filter_2000011813\" name=\"2000011813\" tabindex=\"0\" title=\"Candy(78)\" type=\"checkbox\" value=\"2000011813\"/><label data-reactid=\"114\" for=\"filter_2000011813\"><span class=\"check\" data-reactid=\"115\"></span><span class=\"text-truncate\" data-reactid=\"116\">Candy</span><!-- react-text: 117 --> (<!-- /react-text --><!-- react-text: 118 -->78<!-- /react-text --><!-- react-text: 119 -->)<!-- /react-text --></label></li>, <li class=\"check-box\" data-reactid=\"120\"><input data-reactid=\"121\" id=\"filter_2000013458\" name=\"2000013458\" tabindex=\"0\" title=\"Chocolate - Bag(49)\" type=\"checkbox\" value=\"2000013458\"/><label data-reactid=\"122\" for=\"filter_2000013458\"><span class=\"check\" data-reactid=\"123\"></span><span class=\"text-truncate\" data-reactid=\"124\">Chocolate - Bag</span><!-- react-text: 125 --> (<!-- /react-text --><!-- react-text: 126 -->49<!-- /react-text --><!-- react-text: 127 -->)<!-- /react-text --></label></li>, <li class=\"check-box\" data-reactid=\"128\"><input data-reactid=\"129\" id=\"filter_2000013346\" name=\"2000013346\" tabindex=\"0\" title=\"Candy - Bag(14)\" type=\"checkbox\" value=\"2000013346\"/><label data-reactid=\"130\" for=\"filter_2000013346\"><span class=\"check\" data-reactid=\"131\"></span><span class=\"text-truncate\" data-reactid=\"132\">Candy - Bag</span><!-- react-text: 133 --> (<!-- /react-text --><!-- react-text: 134 -->14<!-- /react-text --><!-- react-text: 135 -->)<!-- /react-text --></label></li>, <li class=\"check-box\" data-reactid=\"136\"><input data-reactid=\"137\" id=\"filter_2000013482\" name=\"2000013482\" tabindex=\"0\" title=\"Chocolate - Bar(10)\" type=\"checkbox\" value=\"2000013482\"/><label data-reactid=\"138\" for=\"filter_2000013482\"><span class=\"check\" data-reactid=\"139\"></span><span class=\"text-truncate\" data-reactid=\"140\">Chocolate - Bar</span><!-- react-text: 141 --> (<!-- /react-text --><!-- react-text: 142 -->10<!-- /react-text --><!-- react-text: 143 -->)<!-- /react-text --></label></li>, <li class=\"check-box\" data-reactid=\"144\"><input data-reactid=\"145\" id=\"filter_2000010242\" name=\"2000010242\" tabindex=\"0\" title=\"Candy Treats(2)\" type=\"checkbox\" value=\"2000010242\"/><label data-reactid=\"146\" for=\"filter_2000010242\"><span class=\"check\" data-reactid=\"147\"></span><span class=\"text-truncate\" data-reactid=\"148\">Candy Treats</span><!-- react-text: 149 --> (<!-- /react-text --><!-- react-text: 150 -->2<!-- /react-text --><!-- react-text: 151 -->)<!-- /react-text --></label></li>, <li class=\"check-box\" data-reactid=\"152\"><input data-reactid=\"153\" id=\"filter_2000015013\" name=\"2000015013\" tabindex=\"0\" title=\"Holiday Decorations(2)\" type=\"checkbox\" value=\"2000015013\"/><label data-reactid=\"154\" for=\"filter_2000015013\"><span class=\"check\" data-reactid=\"155\"></span><span class=\"text-truncate\" data-reactid=\"156\">Holiday Decorations</span><!-- react-text: 157 --> (<!-- /react-text --><!-- react-text: 158 -->2<!-- /react-text --><!-- react-text: 159 -->)<!-- /react-text --></label></li>, <li class=\"check-box\" data-reactid=\"160\"><input data-reactid=\"161\" id=\"filter_2000013980\" name=\"2000013980\" tabindex=\"0\" title=\"Licorice(2)\" type=\"checkbox\" value=\"2000013980\"/><label data-reactid=\"162\" for=\"filter_2000013980\"><span class=\"check\" data-reactid=\"163\"></span><span class=\"text-truncate\" data-reactid=\"164\">Licorice</span><!-- react-text: 165 --> (<!-- /react-text --><!-- react-text: 166 -->2<!-- /react-text --><!-- react-text: 167 -->)<!-- /react-text --></label></li>, <li class=\"check-box\" data-reactid=\"179\"><input data-reactid=\"180\" id=\"filter_309100\" name=\"309100\" tabindex=\"0\" title=\"Hershey's(22)\" type=\"checkbox\" value=\"309100\"/><label data-reactid=\"181\" for=\"filter_309100\"><span class=\"check\" data-reactid=\"182\"></span><span class=\"text-truncate\" data-reactid=\"183\">Hershey's</span><!-- react-text: 184 --> (<!-- /react-text --><!-- react-text: 185 -->22<!-- /react-text --><!-- react-text: 186 -->)<!-- /react-text --></label></li>, <li class=\"check-box\" data-reactid=\"187\"><input data-reactid=\"188\" id=\"filter_4213\" name=\"4213\" tabindex=\"0\" title=\"Mars(15)\" type=\"checkbox\" value=\"4213\"/><label data-reactid=\"189\" for=\"filter_4213\"><span class=\"check\" data-reactid=\"190\"></span><span class=\"text-truncate\" data-reactid=\"191\">Mars</span><!-- react-text: 192 --> (<!-- /react-text --><!-- react-text: 193 -->15<!-- /react-text --><!-- react-text: 194 -->)<!-- /react-text --></label></li>, <li class=\"check-box\" data-reactid=\"195\"><input data-reactid=\"196\" id=\"filter_305500\" name=\"305500\" tabindex=\"0\" title=\"Reese's(15)\" type=\"checkbox\" value=\"305500\"/><label data-reactid=\"197\" for=\"filter_305500\"><span class=\"check\" data-reactid=\"198\"></span><span class=\"text-truncate\" data-reactid=\"199\">Reese's</span><!-- react-text: 200 --> (<!-- /react-text --><!-- react-text: 201 -->15<!-- /react-text --><!-- react-text: 202 -->)<!-- /react-text --></label></li>, <li class=\"check-box\" data-reactid=\"203\"><input data-reactid=\"204\" id=\"filter_305492\" name=\"305492\" tabindex=\"0\" title=\"Brach's(13)\" type=\"checkbox\" value=\"305492\"/><label data-reactid=\"205\" for=\"filter_305492\"><span class=\"check\" data-reactid=\"206\"></span><span class=\"text-truncate\" data-reactid=\"207\">Brach's</span><!-- react-text: 208 --> (<!-- /react-text --><!-- react-text: 209 -->13<!-- /react-text --><!-- react-text: 210 -->)<!-- /react-text --></label></li>, <li class=\"check-box\" data-reactid=\"211\"><input data-reactid=\"212\" id=\"filter_2553\" name=\"2553\" tabindex=\"0\" title=\"Russell Stover(9)\" type=\"checkbox\" value=\"2553\"/><label data-reactid=\"213\" for=\"filter_2553\"><span class=\"check\" data-reactid=\"214\"></span><span class=\"text-truncate\" data-reactid=\"215\">Russell Stover</span><!-- react-text: 216 --> (<!-- /react-text --><!-- react-text: 217 -->9<!-- /react-text --><!-- react-text: 218 -->)<!-- /react-text --></label></li>, <li class=\"check-box\" data-reactid=\"219\"><input data-reactid=\"220\" id=\"filter_4060\" name=\"4060\" tabindex=\"0\" title=\"Kit Kat(7)\" type=\"checkbox\" value=\"4060\"/><label data-reactid=\"221\" for=\"filter_4060\"><span class=\"check\" data-reactid=\"222\"></span><span class=\"text-truncate\" data-reactid=\"223\">Kit Kat</span><!-- react-text: 224 --> (<!-- /react-text --><!-- react-text: 225 -->7<!-- /react-text --><!-- react-text: 226 -->)<!-- /react-text --></label></li>, <li class=\"check-box\" data-reactid=\"227\"><input data-reactid=\"228\" id=\"filter_4081\" name=\"4081\" tabindex=\"0\" title=\"M&amp;M's(7)\" type=\"checkbox\" value=\"4081\"/><label data-reactid=\"229\" for=\"filter_4081\"><span class=\"check\" data-reactid=\"230\"></span><span class=\"text-truncate\" data-reactid=\"231\">M&amp;M's</span><!-- react-text: 232 --> (<!-- /react-text --><!-- react-text: 233 -->7<!-- /react-text --><!-- react-text: 234 -->)<!-- /react-text --></label></li>, <li class=\"check-box\" data-reactid=\"246\"><input data-reactid=\"247\" id=\"filter_2999952769\" name=\"2999952769\" tabindex=\"0\" title=\"Coupon Available(45)\" type=\"checkbox\" value=\"2999952769\"/><label data-reactid=\"248\" for=\"filter_2999952769\"><span class=\"check\" data-reactid=\"249\"></span><span class=\"text-truncate\" data-reactid=\"250\">Coupon Available</span><!-- react-text: 251 --> (<!-- /react-text --><!-- react-text: 252 -->45<!-- /react-text --><!-- react-text: 253 -->)<!-- /react-text --></label></li>, <li class=\"check-box\" data-reactid=\"254\"><input data-reactid=\"255\" id=\"filter_4294896499\" name=\"4294896499\" tabindex=\"0\" title=\"Sales &amp; Offers(157)\" type=\"checkbox\" value=\"4294896499\"/><label data-reactid=\"256\" for=\"filter_4294896499\"><span class=\"check\" data-reactid=\"257\"></span><span class=\"text-truncate\" data-reactid=\"258\">Sales &amp; Offers</span><!-- react-text: 259 --> (<!-- /react-text --><!-- react-text: 260 -->157<!-- /react-text --><!-- react-text: 261 -->)<!-- /react-text --></label></li>, <li class=\"check-box\" data-reactid=\"270\"><input data-reactid=\"271\" id=\"filter_1000020\" name=\"1000020\" tabindex=\"0\" title=\"Under $5(58)\" type=\"checkbox\" value=\"1000020\"/><label data-reactid=\"272\" for=\"filter_1000020\"><span class=\"check\" data-reactid=\"273\"></span><span class=\"text-truncate\" data-reactid=\"274\">Under $5</span><!-- react-text: 275 --> (<!-- /react-text --><!-- react-text: 276 -->58<!-- /react-text --><!-- react-text: 277 -->)<!-- /react-text --></label></li>, <li class=\"check-box\" data-reactid=\"278\"><input data-reactid=\"279\" id=\"filter_1000021\" name=\"1000021\" tabindex=\"0\" title=\"$5 - $10(27)\" type=\"checkbox\" value=\"1000021\"/><label data-reactid=\"280\" for=\"filter_1000021\"><span class=\"check\" data-reactid=\"281\"></span><span class=\"text-truncate\" data-reactid=\"282\">$5 - $10</span><!-- react-text: 283 --> (<!-- /react-text --><!-- react-text: 284 -->27<!-- /react-text --><!-- react-text: 285 -->)<!-- /react-text --></label></li>, <li class=\"check-box\" data-reactid=\"286\"><input data-reactid=\"287\" id=\"filter_1000022\" name=\"1000022\" tabindex=\"0\" title=\"$10 - $20(18)\" type=\"checkbox\" value=\"1000022\"/><label data-reactid=\"288\" for=\"filter_1000022\"><span class=\"check\" data-reactid=\"289\"></span><span class=\"text-truncate\" data-reactid=\"290\">$10 - $20</span><!-- react-text: 291 --> (<!-- /react-text --><!-- react-text: 292 -->18<!-- /react-text --><!-- react-text: 293 -->)<!-- /react-text --></label></li>, <li class=\"check-box\" data-reactid=\"294\"><input data-reactid=\"295\" id=\"filter_1000023\" name=\"1000023\" tabindex=\"0\" title=\"$20 - $50(2)\" type=\"checkbox\" value=\"1000023\"/><label data-reactid=\"296\" for=\"filter_1000023\"><span class=\"check\" data-reactid=\"297\"></span><span class=\"text-truncate\" data-reactid=\"298\">$20 - $50</span><!-- react-text: 299 --> (<!-- /react-text --><!-- react-text: 300 -->2<!-- /react-text --><!-- react-text: 301 -->)<!-- /react-text --></label></li>, <li class=\"check-box\" data-reactid=\"332\"><input data-reactid=\"333\" id=\"filter_5000003748\" name=\"5000003748\" tabindex=\"0\" title=\"Halloween(58)\" type=\"checkbox\" value=\"5000003748\"/><label data-reactid=\"334\" for=\"filter_5000003748\"><span class=\"check\" data-reactid=\"335\"></span><span class=\"text-truncate\" data-reactid=\"336\">Halloween</span><!-- react-text: 337 --> (<!-- /react-text --><!-- react-text: 338 -->58<!-- /react-text --><!-- react-text: 339 -->)<!-- /react-text --></label></li>, <li class=\"check-box\" data-reactid=\"340\"><input data-reactid=\"341\" id=\"filter_5000005423\" name=\"5000005423\" tabindex=\"0\" title=\"Valentine's Day(1)\" type=\"checkbox\" value=\"5000005423\"/><label data-reactid=\"342\" for=\"filter_5000005423\"><span class=\"check\" data-reactid=\"343\"></span><span class=\"text-truncate\" data-reactid=\"344\">Valentine's Day</span><!-- react-text: 345 --> (<!-- /react-text --><!-- react-text: 346 -->1<!-- /react-text --><!-- react-text: 347 -->)<!-- /react-text --></label></li>, <li class=\"check-box\" data-reactid=\"356\"><input data-reactid=\"357\" id=\"filter_5000024415\" name=\"5000024415\" tabindex=\"0\" title=\"0(1)\" type=\"checkbox\" value=\"5000024415\"/><label data-reactid=\"358\" for=\"filter_5000024415\"><span class=\"check\" data-reactid=\"359\"></span><span class=\"text-truncate\" data-reactid=\"360\">0</span><!-- react-text: 361 --> (<!-- /react-text --><!-- react-text: 362 -->1<!-- /react-text --><!-- react-text: 363 -->)<!-- /react-text --></label></li>, <li class=\"check-box\" data-reactid=\"364\"><input data-reactid=\"365\" id=\"filter_2999952343\" name=\"2999952343\" tabindex=\"0\" title=\"100(1)\" type=\"checkbox\" value=\"2999952343\"/><label data-reactid=\"366\" for=\"filter_2999952343\"><span class=\"check\" data-reactid=\"367\"></span><span class=\"text-truncate\" data-reactid=\"368\">100</span><!-- react-text: 369 --> (<!-- /react-text --><!-- react-text: 370 -->1<!-- /react-text --><!-- react-text: 371 -->)<!-- /react-text --></label></li>, <li class=\"check-box\" data-reactid=\"372\"><input data-reactid=\"373\" id=\"filter_4294838626\" name=\"4294838626\" tabindex=\"0\" title=\"180(2)\" type=\"checkbox\" value=\"4294838626\"/><label data-reactid=\"374\" for=\"filter_4294838626\"><span class=\"check\" data-reactid=\"375\"></span><span class=\"text-truncate\" data-reactid=\"376\">180</span><!-- react-text: 377 --> (<!-- /react-text --><!-- react-text: 378 -->2<!-- /react-text --><!-- react-text: 379 -->)<!-- /react-text --></label></li>, <li class=\"check-box\" data-reactid=\"380\"><input data-reactid=\"381\" id=\"filter_4294838623\" name=\"4294838623\" tabindex=\"0\" title=\"30(2)\" type=\"checkbox\" value=\"4294838623\"/><label data-reactid=\"382\" for=\"filter_4294838623\"><span class=\"check\" data-reactid=\"383\"></span><span class=\"text-truncate\" data-reactid=\"384\">30</span><!-- react-text: 385 --> (<!-- /react-text --><!-- react-text: 386 -->2<!-- /react-text --><!-- react-text: 387 -->)<!-- /react-text --></label></li>, <li class=\"check-box\" data-reactid=\"388\"><input data-reactid=\"389\" id=\"filter_4294838625\" name=\"4294838625\" tabindex=\"0\" title=\"90(4)\" type=\"checkbox\" value=\"4294838625\"/><label data-reactid=\"390\" for=\"filter_4294838625\"><span class=\"check\" data-reactid=\"391\"></span><span class=\"text-truncate\" data-reactid=\"392\">90</span><!-- react-text: 393 --> (<!-- /react-text --><!-- react-text: 394 -->4<!-- /react-text --><!-- react-text: 395 -->)<!-- /react-text --></label></li>]\nCandy (78)\nChocolate - Bag (49)\nCandy - Bag (14)\nChocolate - Bar (10)\nCandy Treats (2)\nHoliday Decorations (2)\nLicorice (2)\nHershey's (22)\nMars (15)\nReese's (15)\nBrach's (13)\nRussell Stover (9)\nKit Kat (7)\nM&M's (7)\nCoupon Available (45)\nSales & Offers (157)\nUnder $5 (58)\n$5 - $10 (27)\n$10 - $20 (18)\n$20 - $50 (2)\nHalloween (58)\nValentine's Day (1)\n0 (1)\n100 (1)\n180 (2)\n30 (2)\n90 (4)\n"
     ]
    }
   ],
   "source": [
    "labels = soup.find_all('li', 'check-box')\n",
    "print(labels)\n",
    "\n",
    "for label in labels:\n",
    "    print(label.text)"
   ]
  },
  {
   "cell_type": "code",
   "execution_count": 59,
   "metadata": {},
   "outputs": [
    {
     "output_type": "stream",
     "name": "stdout",
     "text": [
      "Search by keyword or item #Closing Suggestion \n"
     ]
    }
   ],
   "source": [
    "what = soup.label.parent\n",
    "print(what.text)"
   ]
  },
  {
   "cell_type": "code",
   "execution_count": 60,
   "metadata": {},
   "outputs": [
    {
     "output_type": "stream",
     "name": "stdout",
     "text": [
      "<a aria-expanded=\"true\" class=\"no-toggle title__master dt-selected selected\" data-reactid=\"173\" href=\"javascript:void(0)\" id=\"filter_Brand\" name=\"filter_by_Brand\"><strong data-reactid=\"174\"><legend data-reactid=\"175\">Brand</legend></strong></a>\n"
     ]
    }
   ],
   "source": [
    "filterA = soup.find('a',id='filter_Brand')\n",
    "print(filterA)"
   ]
  },
  {
   "cell_type": "code",
   "execution_count": 61,
   "metadata": {},
   "outputs": [
    {
     "output_type": "stream",
     "name": "stdout",
     "text": [
      "Hershey's\nMars\nReese's\nBrach's\nRussell Stover\nKit Kat\nM&M's\n"
     ]
    }
   ],
   "source": [
    "parentDiv = filterA.find_next_sibling('div')\n",
    "labeleds = parentDiv.find_all(class_=\"text-truncate\")\n",
    "for labeled in labeleds:\n",
    "    print(labeled.text)"
   ]
  },
  {
   "cell_type": "code",
   "execution_count": 62,
   "metadata": {},
   "outputs": [],
   "source": [
    "#splinter is what's used to navigate a page\n"
   ]
  },
  {
   "cell_type": "code",
   "execution_count": 30,
   "metadata": {},
   "outputs": [
    {
     "output_type": "stream",
     "name": "stdout",
     "text": [
      "[<span class=\"product__rating\" data-reactid=\"488\"><figure data-reactid=\"489\"><img alt=\"4.6 out of 5 total 12 reviews\" data-reactid=\"490\" id=\"reviewbazarcompare_sku6253945\" src=\"//www.walgreens.com/images/adaptive/bvrating/rating-4_6.gif\" title=\"4.6 out of 5\"><figcaption data-reactid=\"491\">12</figcaption></img></figure></span>, <span class=\"product__rating\" data-reactid=\"542\"><figure data-reactid=\"543\"><img alt=\"5.0 out of 5 total 1 reviews\" data-reactid=\"544\" id=\"reviewbazarcompare_sku6062317\" src=\"//www.walgreens.com/images/adaptive/bvrating/rating-5_0.gif\" title=\"5.0 out of 5\"><figcaption data-reactid=\"545\">1</figcaption></img></figure></span>, <span class=\"product__rating\" data-reactid=\"591\"><figure data-reactid=\"592\"><img alt=\"5.0 out of 5 total 6 reviews\" data-reactid=\"593\" id=\"reviewbazarcompare_sku6180836\" src=\"//www.walgreens.com/images/adaptive/bvrating/rating-5_0.gif\" title=\"5.0 out of 5\"><figcaption data-reactid=\"594\">6</figcaption></img></figure></span>, <span class=\"product__rating\" data-reactid=\"643\"><figure data-reactid=\"644\"><img alt=\"4.9 out of 5 total 43 reviews\" data-reactid=\"645\" id=\"reviewbazarcompare_sku6275845\" src=\"//www.walgreens.com/images/adaptive/bvrating/rating-4_9.gif\" title=\"4.9 out of 5\"><figcaption data-reactid=\"646\">43</figcaption></img></figure></span>, <span class=\"product__rating\" data-reactid=\"697\"><figure data-reactid=\"698\"><img alt=\"5.0 out of 5 total 3 reviews\" data-reactid=\"699\" id=\"reviewbazarcompare_sku4266421\" src=\"//www.walgreens.com/images/adaptive/bvrating/rating-5_0.gif\" title=\"5.0 out of 5\"/><figcaption data-reactid=\"700\">3</figcaption></figure></span>, <span class=\"product__rating\" data-reactid=\"751\"><figure data-reactid=\"752\"><img alt=\"4.8 out of 5 total 16 reviews\" data-reactid=\"753\" id=\"reviewbazarcompare_sku1594278\" src=\"//www.walgreens.com/images/adaptive/bvrating/rating-4_8.gif\" title=\"4.8 out of 5\"/><figcaption data-reactid=\"754\">16</figcaption></figure></span>, <span class=\"product__rating\" data-reactid=\"805\"><figure data-reactid=\"806\"><img alt=\"3.9 out of 5 total 36 reviews\" data-reactid=\"807\" id=\"reviewbazarcompare_sku6239204\" src=\"//www.walgreens.com/images/adaptive/bvrating/rating-3_9.gif\" title=\"3.9 out of 5\"/><figcaption data-reactid=\"808\">36</figcaption></figure></span>, <span class=\"product__rating\" data-reactid=\"856\"><figure data-reactid=\"857\"><img alt=\"5.0 out of 5 total 1 reviews\" data-reactid=\"858\" id=\"reviewbazarcompare_sku6329541\" src=\"//www.walgreens.com/images/adaptive/bvrating/rating-5_0.gif\" title=\"5.0 out of 5\"/><figcaption data-reactid=\"859\">1</figcaption></figure></span>]\n"
     ]
    }
   ],
   "source": [
    "ratings = soup.find_all(\"span\", class_=\"product__rating\")\n",
    "print(ratings)"
   ]
  },
  {
   "cell_type": "code",
   "execution_count": 39,
   "metadata": {},
   "outputs": [
    {
     "output_type": "stream",
     "name": "stdout",
     "text": [
      "4.6 out of 5 total 12 reviews\n5.0 out of 5 total 1 reviews\n5.0 out of 5 total 6 reviews\n4.9 out of 5 total 43 reviews\n5.0 out of 5 total 3 reviews\n4.8 out of 5 total 16 reviews\n3.9 out of 5 total 36 reviews\n5.0 out of 5 total 1 reviews\n"
     ]
    }
   ],
   "source": [
    "ratings_list = []\n",
    "for rating in ratings:\n",
    "    ratings_list.append(rating.img[\"alt\"])\n",
    "    print(rating.img[\"alt\"])"
   ]
  },
  {
   "cell_type": "code",
   "execution_count": 42,
   "metadata": {},
   "outputs": [
    {
     "output_type": "execute_result",
     "data": {
      "text/plain": [
       "         brands                        ratings\n",
       "0        PayDay  4.6 out of 5 total 12 reviews\n",
       "1      Snickers   5.0 out of 5 total 1 reviews\n",
       "2  Tootsie Roll   5.0 out of 5 total 6 reviews\n",
       "3     Milky Way  4.9 out of 5 total 43 reviews\n",
       "4       Reese's   5.0 out of 5 total 3 reviews\n",
       "5        Mounds  4.8 out of 5 total 16 reviews\n",
       "6     Hershey's  3.9 out of 5 total 36 reviews\n",
       "7        Kisses   5.0 out of 5 total 1 reviews"
      ],
      "text/html": "<div>\n<style scoped>\n    .dataframe tbody tr th:only-of-type {\n        vertical-align: middle;\n    }\n\n    .dataframe tbody tr th {\n        vertical-align: top;\n    }\n\n    .dataframe thead th {\n        text-align: right;\n    }\n</style>\n<table border=\"1\" class=\"dataframe\">\n  <thead>\n    <tr style=\"text-align: right;\">\n      <th></th>\n      <th>brands</th>\n      <th>ratings</th>\n    </tr>\n  </thead>\n  <tbody>\n    <tr>\n      <th>0</th>\n      <td>PayDay</td>\n      <td>4.6 out of 5 total 12 reviews</td>\n    </tr>\n    <tr>\n      <th>1</th>\n      <td>Snickers</td>\n      <td>5.0 out of 5 total 1 reviews</td>\n    </tr>\n    <tr>\n      <th>2</th>\n      <td>Tootsie Roll</td>\n      <td>5.0 out of 5 total 6 reviews</td>\n    </tr>\n    <tr>\n      <th>3</th>\n      <td>Milky Way</td>\n      <td>4.9 out of 5 total 43 reviews</td>\n    </tr>\n    <tr>\n      <th>4</th>\n      <td>Reese's</td>\n      <td>5.0 out of 5 total 3 reviews</td>\n    </tr>\n    <tr>\n      <th>5</th>\n      <td>Mounds</td>\n      <td>4.8 out of 5 total 16 reviews</td>\n    </tr>\n    <tr>\n      <th>6</th>\n      <td>Hershey's</td>\n      <td>3.9 out of 5 total 36 reviews</td>\n    </tr>\n    <tr>\n      <th>7</th>\n      <td>Kisses</td>\n      <td>5.0 out of 5 total 1 reviews</td>\n    </tr>\n  </tbody>\n</table>\n</div>"
     },
     "metadata": {},
     "execution_count": 42
    }
   ],
   "source": [
    "df = pd.DataFrame({\"brands\": brands_list, \"ratings\": ratings_list})\n",
    "df"
   ]
  },
  {
   "cell_type": "code",
   "execution_count": 79,
   "metadata": {},
   "outputs": [
    {
     "output_type": "execute_result",
     "data": {
      "text/plain": [
       "[12, 1, 6, 43, 3, 16, 36, 1]"
      ]
     },
     "metadata": {},
     "execution_count": 79
    }
   ],
   "source": [
    "individual_ratings = []\n",
    "reviews = []\n",
    "for string in df['ratings']:\n",
    "    # extract the individual rating\n",
    "    rating = string[0:3]\n",
    "    individual_ratings.append(float(rating))\n",
    "    # extract number of reviews    \n",
    "    count = [int(i) for i in string.split() if i.isnumeric()]\n",
    "    reviews.append(count[1])\n",
    "reviews"
   ]
  },
  {
   "cell_type": "code",
   "execution_count": 80,
   "metadata": {},
   "outputs": [
    {
     "output_type": "execute_result",
     "data": {
      "text/plain": [
       "[4.6, 5.0, 5.0, 4.9, 5.0, 4.8, 3.9, 5.0]"
      ]
     },
     "metadata": {},
     "execution_count": 80
    }
   ],
   "source": [
    "individual_ratings"
   ]
  },
  {
   "cell_type": "code",
   "execution_count": 82,
   "metadata": {},
   "outputs": [
    {
     "output_type": "execute_result",
     "data": {
      "text/plain": [
       "         brands                        ratings  individual_ratings  reviews\n",
       "0        PayDay  4.6 out of 5 total 12 reviews                 4.6       12\n",
       "1      Snickers   5.0 out of 5 total 1 reviews                 5.0        1\n",
       "2  Tootsie Roll   5.0 out of 5 total 6 reviews                 5.0        6\n",
       "3     Milky Way  4.9 out of 5 total 43 reviews                 4.9       43\n",
       "4       Reese's   5.0 out of 5 total 3 reviews                 5.0        3"
      ],
      "text/html": "<div>\n<style scoped>\n    .dataframe tbody tr th:only-of-type {\n        vertical-align: middle;\n    }\n\n    .dataframe tbody tr th {\n        vertical-align: top;\n    }\n\n    .dataframe thead th {\n        text-align: right;\n    }\n</style>\n<table border=\"1\" class=\"dataframe\">\n  <thead>\n    <tr style=\"text-align: right;\">\n      <th></th>\n      <th>brands</th>\n      <th>ratings</th>\n      <th>individual_ratings</th>\n      <th>reviews</th>\n    </tr>\n  </thead>\n  <tbody>\n    <tr>\n      <th>0</th>\n      <td>PayDay</td>\n      <td>4.6 out of 5 total 12 reviews</td>\n      <td>4.6</td>\n      <td>12</td>\n    </tr>\n    <tr>\n      <th>1</th>\n      <td>Snickers</td>\n      <td>5.0 out of 5 total 1 reviews</td>\n      <td>5.0</td>\n      <td>1</td>\n    </tr>\n    <tr>\n      <th>2</th>\n      <td>Tootsie Roll</td>\n      <td>5.0 out of 5 total 6 reviews</td>\n      <td>5.0</td>\n      <td>6</td>\n    </tr>\n    <tr>\n      <th>3</th>\n      <td>Milky Way</td>\n      <td>4.9 out of 5 total 43 reviews</td>\n      <td>4.9</td>\n      <td>43</td>\n    </tr>\n    <tr>\n      <th>4</th>\n      <td>Reese's</td>\n      <td>5.0 out of 5 total 3 reviews</td>\n      <td>5.0</td>\n      <td>3</td>\n    </tr>\n  </tbody>\n</table>\n</div>"
     },
     "metadata": {},
     "execution_count": 82
    }
   ],
   "source": [
    "df['individual_ratings'] = individual_ratings\n",
    "df['reviews'] = reviews\n",
    "df.head()"
   ]
  },
  {
   "source": [
    "https://towardsdatascience.com/elevate-your-webscraping-with-splinter-a926eee7f7d9"
   ],
   "cell_type": "markdown",
   "metadata": {}
  }
 ],
 "metadata": {
  "kernelspec": {
   "name": "Python 3.6.10 64-bit ('bcs': conda)",
   "display_name": "Python 3.6.10 64-bit ('bcs': conda)",
   "metadata": {
    "interpreter": {
     "hash": "8ef29466f74bf088a378c30282cf9d03bb14ca16f25d014dbaac1c7b0c54b402"
    }
   }
  },
  "language_info": {
   "codemirror_mode": {
    "name": "ipython",
    "version": 3
   },
   "file_extension": ".py",
   "mimetype": "text/x-python",
   "name": "python",
   "nbconvert_exporter": "python",
   "pygments_lexer": "ipython3",
   "version": "3.6.10-final"
  },
  "varInspector": {
   "cols": {
    "lenName": 16,
    "lenType": 16,
    "lenVar": 40
   },
   "kernels_config": {
    "python": {
     "delete_cmd_postfix": "",
     "delete_cmd_prefix": "del ",
     "library": "var_list.py",
     "varRefreshCmd": "print(var_dic_list())"
    },
    "r": {
     "delete_cmd_postfix": ") ",
     "delete_cmd_prefix": "rm(",
     "library": "var_list.r",
     "varRefreshCmd": "cat(var_dic_list()) "
    }
   },
   "types_to_exclude": [
    "module",
    "function",
    "builtin_function_or_method",
    "instance",
    "_Feature"
   ],
   "window_display": false
  }
 },
 "nbformat": 4,
 "nbformat_minor": 2
}