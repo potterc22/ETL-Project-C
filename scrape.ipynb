{
 "cells": [
  {
   "cell_type": "code",
   "execution_count": 41,
   "metadata": {
    "collapsed": true
   },
   "outputs": [],
   "source": [
    "# Dependencies\n",
    "from bs4 import BeautifulSoup\n",
    "import requests\n",
    "import pandas as pd"
   ]
  },
  {
   "cell_type": "code",
   "execution_count": 3,
   "metadata": {
    "collapsed": true
   },
   "outputs": [],
   "source": [
    "# URL of page to be scraped\n",
    "#url = 'https://www.walgreens.com/store/c/halloween-candy/ID=520931-tier3'\n",
    "url = 'https://www.walgreens.com/store/store/category/productlist.jsp?N=520931&Eon=520931'\n"
   ]
  },
  {
   "cell_type": "code",
   "execution_count": 50,
   "metadata": {},
   "outputs": [],
   "source": [
    "# https://www.walgreens.com/store/store/category/productlist.jsp?N=520931&Eon=520931&No=144\n",
    "# &No144\n",
    "# there's 174 total "
   ]
  },
  {
   "cell_type": "code",
   "execution_count": 4,
   "metadata": {
    "collapsed": true
   },
   "outputs": [],
   "source": [
    "# Retrieve page with the requests module\n",
    "response = requests.get(url)"
   ]
  },
  {
   "cell_type": "code",
   "execution_count": 5,
   "metadata": {
    "collapsed": true
   },
   "outputs": [],
   "source": [
    "# Create BeautifulSoup object; parse with 'html.parser'\n",
    "soup = BeautifulSoup(response.text, 'html.parser')"
   ]
  },
  {
   "cell_type": "code",
   "execution_count": 53,
   "metadata": {
    "tags": []
   },
   "outputs": [],
   "source": [
    "# Examine the results, then determine element that contains sought info\n",
    "#soup"
   ]
  },
  {
   "cell_type": "code",
   "execution_count": 54,
   "metadata": {
    "collapsed": true
   },
   "outputs": [],
   "source": [
    "# results are returned as an iterable list\n",
    "#results = soup.find_all('li', class_=\"result-row\")\n",
    "\n"
   ]
  },
  {
   "cell_type": "code",
   "execution_count": 37,
   "metadata": {},
   "outputs": [
    {
     "output_type": "stream",
     "name": "stdout",
     "text": [
      "[<div class=\"brand\" data-reactid=\"481\" id=\"prodBrandNamecompare_sku6253945\">PayDay</div>, <div class=\"brand\" data-reactid=\"535\" id=\"prodBrandNamecompare_sku6062317\">Snickers</div>, <div class=\"brand\" data-reactid=\"584\" id=\"prodBrandNamecompare_sku6180836\">Tootsie Roll</div>, <div class=\"brand\" data-reactid=\"636\" id=\"prodBrandNamecompare_sku6275845\">Milky Way</div>, <div class=\"brand\" data-reactid=\"690\" id=\"prodBrandNamecompare_sku4266421\">Reese's</div>, <div class=\"brand\" data-reactid=\"744\" id=\"prodBrandNamecompare_sku1594278\">Mounds</div>, <div class=\"brand\" data-reactid=\"798\" id=\"prodBrandNamecompare_sku6239204\">Hershey's</div>, <div class=\"brand\" data-reactid=\"849\" id=\"prodBrandNamecompare_sku6329541\">Kisses</div>]\n"
     ]
    }
   ],
   "source": [
    "# <div class=\"brand\" id=\"prodBrandNamecompare_sku6253945\" data-reactid=\"468\">PayDay</div>\n",
    "# \"brand\"\n",
    "#<input type=\"checkbox\" id=\"filter_353669\" tabindex=\"0\" value=\"353669\" name=\"353669\" title=\"Sour Punch(2)\">\n",
    "brands = soup.find_all(\"div\", class_=\"brand\")\n",
    "print(brands)"
   ]
  },
  {
   "cell_type": "code",
   "execution_count": 38,
   "metadata": {},
   "outputs": [
    {
     "output_type": "stream",
     "name": "stdout",
     "text": [
      "PayDay\nSnickers\nTootsie Roll\nMilky Way\nReese's\nMounds\nHershey's\nKisses\n"
     ]
    }
   ],
   "source": [
    "brands_list = []\n",
    "for brand in brands:\n",
    "    brands_list.append(brand.text)\n",
    "    print(brand.text)"
   ]
  },
  {
   "cell_type": "code",
   "execution_count": 57,
   "metadata": {},
   "outputs": [],
   "source": [
    "#<a name=\"filter_by_Brand\" class=\"no-toggle title__master dt-selected\" id=\"filter_Brand\" href=\"javascript:void(0)\" aria-expanded=\"true\" data-reactid=\"173\"><strong data-reactid=\"174\"><legend data-reactid=\"175\">Brand</legend></strong></a>\n",
    "# type something that allows you select the a element (link that has the id)\n",
    "# for the a element, find the next sibling\n",
    "# tier list of things, nested inside things, a tree\n",
    "# a , div, div, ul, li, "
   ]
  },
  {
   "cell_type": "code",
   "execution_count": 58,
   "metadata": {},
   "outputs": [
    {
     "output_type": "stream",
     "name": "stdout",
     "text": [
      "[<li class=\"check-box\" data-reactid=\"112\"><input data-reactid=\"113\" id=\"filter_2000011813\" name=\"2000011813\" tabindex=\"0\" title=\"Candy(78)\" type=\"checkbox\" value=\"2000011813\"/><label data-reactid=\"114\" for=\"filter_2000011813\"><span class=\"check\" data-reactid=\"115\"></span><span class=\"text-truncate\" data-reactid=\"116\">Candy</span><!-- react-text: 117 --> (<!-- /react-text --><!-- react-text: 118 -->78<!-- /react-text --><!-- react-text: 119 -->)<!-- /react-text --></label></li>, <li class=\"check-box\" data-reactid=\"120\"><input data-reactid=\"121\" id=\"filter_2000013458\" name=\"2000013458\" tabindex=\"0\" title=\"Chocolate - Bag(49)\" type=\"checkbox\" value=\"2000013458\"/><label data-reactid=\"122\" for=\"filter_2000013458\"><span class=\"check\" data-reactid=\"123\"></span><span class=\"text-truncate\" data-reactid=\"124\">Chocolate - Bag</span><!-- react-text: 125 --> (<!-- /react-text --><!-- react-text: 126 -->49<!-- /react-text --><!-- react-text: 127 -->)<!-- /react-text --></label></li>, <li class=\"check-box\" data-reactid=\"128\"><input data-reactid=\"129\" id=\"filter_2000013346\" name=\"2000013346\" tabindex=\"0\" title=\"Candy - Bag(14)\" type=\"checkbox\" value=\"2000013346\"/><label data-reactid=\"130\" for=\"filter_2000013346\"><span class=\"check\" data-reactid=\"131\"></span><span class=\"text-truncate\" data-reactid=\"132\">Candy - Bag</span><!-- react-text: 133 --> (<!-- /react-text --><!-- react-text: 134 -->14<!-- /react-text --><!-- react-text: 135 -->)<!-- /react-text --></label></li>, <li class=\"check-box\" data-reactid=\"136\"><input data-reactid=\"137\" id=\"filter_2000013482\" name=\"2000013482\" tabindex=\"0\" title=\"Chocolate - Bar(10)\" type=\"checkbox\" value=\"2000013482\"/><label data-reactid=\"138\" for=\"filter_2000013482\"><span class=\"check\" data-reactid=\"139\"></span><span class=\"text-truncate\" data-reactid=\"140\">Chocolate - Bar</span><!-- react-text: 141 --> (<!-- /react-text --><!-- react-text: 142 -->10<!-- /react-text --><!-- react-text: 143 -->)<!-- /react-text --></label></li>, <li class=\"check-box\" data-reactid=\"144\"><input data-reactid=\"145\" id=\"filter_2000010242\" name=\"2000010242\" tabindex=\"0\" title=\"Candy Treats(2)\" type=\"checkbox\" value=\"2000010242\"/><label data-reactid=\"146\" for=\"filter_2000010242\"><span class=\"check\" data-reactid=\"147\"></span><span class=\"text-truncate\" data-reactid=\"148\">Candy Treats</span><!-- react-text: 149 --> (<!-- /react-text --><!-- react-text: 150 -->2<!-- /react-text --><!-- react-text: 151 -->)<!-- /react-text --></label></li>, <li class=\"check-box\" data-reactid=\"152\"><input data-reactid=\"153\" id=\"filter_2000015013\" name=\"2000015013\" tabindex=\"0\" title=\"Holiday Decorations(2)\" type=\"checkbox\" value=\"2000015013\"/><label data-reactid=\"154\" for=\"filter_2000015013\"><span class=\"check\" data-reactid=\"155\"></span><span class=\"text-truncate\" data-reactid=\"156\">Holiday Decorations</span><!-- react-text: 157 --> (<!-- /react-text --><!-- react-text: 158 -->2<!-- /react-text --><!-- react-text: 159 -->)<!-- /react-text --></label></li>, <li class=\"check-box\" data-reactid=\"160\"><input data-reactid=\"161\" id=\"filter_2000013980\" name=\"2000013980\" tabindex=\"0\" title=\"Licorice(2)\" type=\"checkbox\" value=\"2000013980\"/><label data-reactid=\"162\" for=\"filter_2000013980\"><span class=\"check\" data-reactid=\"163\"></span><span class=\"text-truncate\" data-reactid=\"164\">Licorice</span><!-- react-text: 165 --> (<!-- /react-text --><!-- react-text: 166 -->2<!-- /react-text --><!-- react-text: 167 -->)<!-- /react-text --></label></li>, <li class=\"check-box\" data-reactid=\"179\"><input data-reactid=\"180\" id=\"filter_309100\" name=\"309100\" tabindex=\"0\" title=\"Hershey's(22)\" type=\"checkbox\" value=\"309100\"/><label data-reactid=\"181\" for=\"filter_309100\"><span class=\"check\" data-reactid=\"182\"></span><span class=\"text-truncate\" data-reactid=\"183\">Hershey's</span><!-- react-text: 184 --> (<!-- /react-text --><!-- react-text: 185 -->22<!-- /react-text --><!-- react-text: 186 -->)<!-- /react-text --></label></li>, <li class=\"check-box\" data-reactid=\"187\"><input data-reactid=\"188\" id=\"filter_4213\" name=\"4213\" tabindex=\"0\" title=\"Mars(15)\" type=\"checkbox\" value=\"4213\"/><label data-reactid=\"189\" for=\"filter_4213\"><span class=\"check\" data-reactid=\"190\"></span><span class=\"text-truncate\" data-reactid=\"191\">Mars</span><!-- react-text: 192 --> (<!-- /react-text --><!-- react-text: 193 -->15<!-- /react-text --><!-- react-text: 194 -->)<!-- /react-text --></label></li>, <li class=\"check-box\" data-reactid=\"195\"><input data-reactid=\"196\" id=\"filter_305500\" name=\"305500\" tabindex=\"0\" title=\"Reese's(15)\" type=\"checkbox\" value=\"305500\"/><label data-reactid=\"197\" for=\"filter_305500\"><span class=\"check\" data-reactid=\"198\"></span><span class=\"text-truncate\" data-reactid=\"199\">Reese's</span><!-- react-text: 200 --> (<!-- /react-text --><!-- react-text: 201 -->15<!-- /react-text --><!-- react-text: 202 -->)<!-- /react-text --></label></li>, <li class=\"check-box\" data-reactid=\"203\"><input data-reactid=\"204\" id=\"filter_305492\" name=\"305492\" tabindex=\"0\" title=\"Brach's(13)\" type=\"checkbox\" value=\"305492\"/><label data-reactid=\"205\" for=\"filter_305492\"><span class=\"check\" data-reactid=\"206\"></span><span class=\"text-truncate\" data-reactid=\"207\">Brach's</span><!-- react-text: 208 --> (<!-- /react-text --><!-- react-text: 209 -->13<!-- /react-text --><!-- react-text: 210 -->)<!-- /react-text --></label></li>, <li class=\"check-box\" data-reactid=\"211\"><input data-reactid=\"212\" id=\"filter_2553\" name=\"2553\" tabindex=\"0\" title=\"Russell Stover(9)\" type=\"checkbox\" value=\"2553\"/><label data-reactid=\"213\" for=\"filter_2553\"><span class=\"check\" data-reactid=\"214\"></span><span class=\"text-truncate\" data-reactid=\"215\">Russell Stover</span><!-- react-text: 216 --> (<!-- /react-text --><!-- react-text: 217 -->9<!-- /react-text --><!-- react-text: 218 -->)<!-- /react-text --></label></li>, <li class=\"check-box\" data-reactid=\"219\"><input data-reactid=\"220\" id=\"filter_4060\" name=\"4060\" tabindex=\"0\" title=\"Kit Kat(7)\" type=\"checkbox\" value=\"4060\"/><label data-reactid=\"221\" for=\"filter_4060\"><span class=\"check\" data-reactid=\"222\"></span><span class=\"text-truncate\" data-reactid=\"223\">Kit Kat</span><!-- react-text: 224 --> (<!-- /react-text --><!-- react-text: 225 -->7<!-- /react-text --><!-- react-text: 226 -->)<!-- /react-text --></label></li>, <li class=\"check-box\" data-reactid=\"227\"><input data-reactid=\"228\" id=\"filter_4081\" name=\"4081\" tabindex=\"0\" title=\"M&amp;M's(7)\" type=\"checkbox\" value=\"4081\"/><label data-reactid=\"229\" for=\"filter_4081\"><span class=\"check\" data-reactid=\"230\"></span><span class=\"text-truncate\" data-reactid=\"231\">M&amp;M's</span><!-- react-text: 232 --> (<!-- /react-text --><!-- react-text: 233 -->7<!-- /react-text --><!-- react-text: 234 -->)<!-- /react-text --></label></li>, <li class=\"check-box\" data-reactid=\"246\"><input data-reactid=\"247\" id=\"filter_2999952769\" name=\"2999952769\" tabindex=\"0\" title=\"Coupon Available(45)\" type=\"checkbox\" value=\"2999952769\"/><label data-reactid=\"248\" for=\"filter_2999952769\"><span class=\"check\" data-reactid=\"249\"></span><span class=\"text-truncate\" data-reactid=\"250\">Coupon Available</span><!-- react-text: 251 --> (<!-- /react-text --><!-- react-text: 252 -->45<!-- /react-text --><!-- react-text: 253 -->)<!-- /react-text --></label></li>, <li class=\"check-box\" data-reactid=\"254\"><input data-reactid=\"255\" id=\"filter_4294896499\" name=\"4294896499\" tabindex=\"0\" title=\"Sales &amp; Offers(157)\" type=\"checkbox\" value=\"4294896499\"/><label data-reactid=\"256\" for=\"filter_4294896499\"><span class=\"check\" data-reactid=\"257\"></span><span class=\"text-truncate\" data-reactid=\"258\">Sales &amp; Offers</span><!-- react-text: 259 --> (<!-- /react-text --><!-- react-text: 260 -->157<!-- /react-text --><!-- react-text: 261 -->)<!-- /react-text --></label></li>, <li class=\"check-box\" data-reactid=\"270\"><input data-reactid=\"271\" id=\"filter_1000020\" name=\"1000020\" tabindex=\"0\" title=\"Under $5(58)\" type=\"checkbox\" value=\"1000020\"/><label data-reactid=\"272\" for=\"filter_1000020\"><span class=\"check\" data-reactid=\"273\"></span><span class=\"text-truncate\" data-reactid=\"274\">Under $5</span><!-- react-text: 275 --> (<!-- /react-text --><!-- react-text: 276 -->58<!-- /react-text --><!-- react-text: 277 -->)<!-- /react-text --></label></li>, <li class=\"check-box\" data-reactid=\"278\"><input data-reactid=\"279\" id=\"filter_1000021\" name=\"1000021\" tabindex=\"0\" title=\"$5 - $10(27)\" type=\"checkbox\" value=\"1000021\"/><label data-reactid=\"280\" for=\"filter_1000021\"><span class=\"check\" data-reactid=\"281\"></span><span class=\"text-truncate\" data-reactid=\"282\">$5 - $10</span><!-- react-text: 283 --> (<!-- /react-text --><!-- react-text: 284 -->27<!-- /react-text --><!-- react-text: 285 -->)<!-- /react-text --></label></li>, <li class=\"check-box\" data-reactid=\"286\"><input data-reactid=\"287\" id=\"filter_1000022\" name=\"1000022\" tabindex=\"0\" title=\"$10 - $20(18)\" type=\"checkbox\" value=\"1000022\"/><label data-reactid=\"288\" for=\"filter_1000022\"><span class=\"check\" data-reactid=\"289\"></span><span class=\"text-truncate\" data-reactid=\"290\">$10 - $20</span><!-- react-text: 291 --> (<!-- /react-text --><!-- react-text: 292 -->18<!-- /react-text --><!-- react-text: 293 -->)<!-- /react-text --></label></li>, <li class=\"check-box\" data-reactid=\"294\"><input data-reactid=\"295\" id=\"filter_1000023\" name=\"1000023\" tabindex=\"0\" title=\"$20 - $50(2)\" type=\"checkbox\" value=\"1000023\"/><label data-reactid=\"296\" for=\"filter_1000023\"><span class=\"check\" data-reactid=\"297\"></span><span class=\"text-truncate\" data-reactid=\"298\">$20 - $50</span><!-- react-text: 299 --> (<!-- /react-text --><!-- react-text: 300 -->2<!-- /react-text --><!-- react-text: 301 -->)<!-- /react-text --></label></li>, <li class=\"check-box\" data-reactid=\"332\"><input data-reactid=\"333\" id=\"filter_5000003748\" name=\"5000003748\" tabindex=\"0\" title=\"Halloween(58)\" type=\"checkbox\" value=\"5000003748\"/><label data-reactid=\"334\" for=\"filter_5000003748\"><span class=\"check\" data-reactid=\"335\"></span><span class=\"text-truncate\" data-reactid=\"336\">Halloween</span><!-- react-text: 337 --> (<!-- /react-text --><!-- react-text: 338 -->58<!-- /react-text --><!-- react-text: 339 -->)<!-- /react-text --></label></li>, <li class=\"check-box\" data-reactid=\"340\"><input data-reactid=\"341\" id=\"filter_5000005423\" name=\"5000005423\" tabindex=\"0\" title=\"Valentine's Day(1)\" type=\"checkbox\" value=\"5000005423\"/><label data-reactid=\"342\" for=\"filter_5000005423\"><span class=\"check\" data-reactid=\"343\"></span><span class=\"text-truncate\" data-reactid=\"344\">Valentine's Day</span><!-- react-text: 345 --> (<!-- /react-text --><!-- react-text: 346 -->1<!-- /react-text --><!-- react-text: 347 -->)<!-- /react-text --></label></li>, <li class=\"check-box\" data-reactid=\"356\"><input data-reactid=\"357\" id=\"filter_5000024415\" name=\"5000024415\" tabindex=\"0\" title=\"0(1)\" type=\"checkbox\" value=\"5000024415\"/><label data-reactid=\"358\" for=\"filter_5000024415\"><span class=\"check\" data-reactid=\"359\"></span><span class=\"text-truncate\" data-reactid=\"360\">0</span><!-- react-text: 361 --> (<!-- /react-text --><!-- react-text: 362 -->1<!-- /react-text --><!-- react-text: 363 -->)<!-- /react-text --></label></li>, <li class=\"check-box\" data-reactid=\"364\"><input data-reactid=\"365\" id=\"filter_2999952343\" name=\"2999952343\" tabindex=\"0\" title=\"100(1)\" type=\"checkbox\" value=\"2999952343\"/><label data-reactid=\"366\" for=\"filter_2999952343\"><span class=\"check\" data-reactid=\"367\"></span><span class=\"text-truncate\" data-reactid=\"368\">100</span><!-- react-text: 369 --> (<!-- /react-text --><!-- react-text: 370 -->1<!-- /react-text --><!-- react-text: 371 -->)<!-- /react-text --></label></li>, <li class=\"check-box\" data-reactid=\"372\"><input data-reactid=\"373\" id=\"filter_4294838626\" name=\"4294838626\" tabindex=\"0\" title=\"180(2)\" type=\"checkbox\" value=\"4294838626\"/><label data-reactid=\"374\" for=\"filter_4294838626\"><span class=\"check\" data-reactid=\"375\"></span><span class=\"text-truncate\" data-reactid=\"376\">180</span><!-- react-text: 377 --> (<!-- /react-text --><!-- react-text: 378 -->2<!-- /react-text --><!-- react-text: 379 -->)<!-- /react-text --></label></li>, <li class=\"check-box\" data-reactid=\"380\"><input data-reactid=\"381\" id=\"filter_4294838623\" name=\"4294838623\" tabindex=\"0\" title=\"30(2)\" type=\"checkbox\" value=\"4294838623\"/><label data-reactid=\"382\" for=\"filter_4294838623\"><span class=\"check\" data-reactid=\"383\"></span><span class=\"text-truncate\" data-reactid=\"384\">30</span><!-- react-text: 385 --> (<!-- /react-text --><!-- react-text: 386 -->2<!-- /react-text --><!-- react-text: 387 -->)<!-- /react-text --></label></li>, <li class=\"check-box\" data-reactid=\"388\"><input data-reactid=\"389\" id=\"filter_4294838625\" name=\"4294838625\" tabindex=\"0\" title=\"90(4)\" type=\"checkbox\" value=\"4294838625\"/><label data-reactid=\"390\" for=\"filter_4294838625\"><span class=\"check\" data-reactid=\"391\"></span><span class=\"text-truncate\" data-reactid=\"392\">90</span><!-- react-text: 393 --> (<!-- /react-text --><!-- react-text: 394 -->4<!-- /react-text --><!-- react-text: 395 -->)<!-- /react-text --></label></li>]\nCandy (78)\nChocolate - Bag (49)\nCandy - Bag (14)\nChocolate - Bar (10)\nCandy Treats (2)\nHoliday Decorations (2)\nLicorice (2)\nHershey's (22)\nMars (15)\nReese's (15)\nBrach's (13)\nRussell Stover (9)\nKit Kat (7)\nM&M's (7)\nCoupon Available (45)\nSales & Offers (157)\nUnder $5 (58)\n$5 - $10 (27)\n$10 - $20 (18)\n$20 - $50 (2)\nHalloween (58)\nValentine's Day (1)\n0 (1)\n100 (1)\n180 (2)\n30 (2)\n90 (4)\n"
     ]
    }
   ],
   "source": [
    "labels = soup.find_all('li', 'check-box')\n",
    "print(labels)\n",
    "\n",
    "for label in labels:\n",
    "    print(label.text)"
   ]
  },
  {
   "cell_type": "code",
   "execution_count": 59,
   "metadata": {},
   "outputs": [
    {
     "output_type": "stream",
     "name": "stdout",
     "text": [
      "Search by keyword or item #Closing Suggestion \n"
     ]
    }
   ],
   "source": [
    "what = soup.label.parent\n",
    "print(what.text)"
   ]
  },
  {
   "cell_type": "code",
   "execution_count": 60,
   "metadata": {},
   "outputs": [
    {
     "output_type": "stream",
     "name": "stdout",
     "text": [
      "<a aria-expanded=\"true\" class=\"no-toggle title__master dt-selected selected\" data-reactid=\"173\" href=\"javascript:void(0)\" id=\"filter_Brand\" name=\"filter_by_Brand\"><strong data-reactid=\"174\"><legend data-reactid=\"175\">Brand</legend></strong></a>\n"
     ]
    }
   ],
   "source": [
    "filterA = soup.find('a',id='filter_Brand')\n",
    "print(filterA)"
   ]
  },
  {
   "cell_type": "code",
   "execution_count": 61,
   "metadata": {},
   "outputs": [
    {
     "output_type": "stream",
     "name": "stdout",
     "text": [
      "Hershey's\nMars\nReese's\nBrach's\nRussell Stover\nKit Kat\nM&M's\n"
     ]
    }
   ],
   "source": [
    "parentDiv = filterA.find_next_sibling('div')\n",
    "labeleds = parentDiv.find_all(class_=\"text-truncate\")\n",
    "for labeled in labeleds:\n",
    "    print(labeled.text)"
   ]
  },
  {
   "cell_type": "code",
   "execution_count": 62,
   "metadata": {},
   "outputs": [],
   "source": [
    "#splinter is what's used to navigate a page\n"
   ]
  },
  {
   "cell_type": "code",
   "execution_count": 30,
   "metadata": {},
   "outputs": [
    {
     "output_type": "stream",
     "name": "stdout",
     "text": [
      "[<span class=\"product__rating\" data-reactid=\"488\"><figure data-reactid=\"489\"><img alt=\"4.6 out of 5 total 12 reviews\" data-reactid=\"490\" id=\"reviewbazarcompare_sku6253945\" src=\"//www.walgreens.com/images/adaptive/bvrating/rating-4_6.gif\" title=\"4.6 out of 5\"><figcaption data-reactid=\"491\">12</figcaption></img></figure></span>, <span class=\"product__rating\" data-reactid=\"542\"><figure data-reactid=\"543\"><img alt=\"5.0 out of 5 total 1 reviews\" data-reactid=\"544\" id=\"reviewbazarcompare_sku6062317\" src=\"//www.walgreens.com/images/adaptive/bvrating/rating-5_0.gif\" title=\"5.0 out of 5\"><figcaption data-reactid=\"545\">1</figcaption></img></figure></span>, <span class=\"product__rating\" data-reactid=\"591\"><figure data-reactid=\"592\"><img alt=\"5.0 out of 5 total 6 reviews\" data-reactid=\"593\" id=\"reviewbazarcompare_sku6180836\" src=\"//www.walgreens.com/images/adaptive/bvrating/rating-5_0.gif\" title=\"5.0 out of 5\"><figcaption data-reactid=\"594\">6</figcaption></img></figure></span>, <span class=\"product__rating\" data-reactid=\"643\"><figure data-reactid=\"644\"><img alt=\"4.9 out of 5 total 43 reviews\" data-reactid=\"645\" id=\"reviewbazarcompare_sku6275845\" src=\"//www.walgreens.com/images/adaptive/bvrating/rating-4_9.gif\" title=\"4.9 out of 5\"><figcaption data-reactid=\"646\">43</figcaption></img></figure></span>, <span class=\"product__rating\" data-reactid=\"697\"><figure data-reactid=\"698\"><img alt=\"5.0 out of 5 total 3 reviews\" data-reactid=\"699\" id=\"reviewbazarcompare_sku4266421\" src=\"//www.walgreens.com/images/adaptive/bvrating/rating-5_0.gif\" title=\"5.0 out of 5\"/><figcaption data-reactid=\"700\">3</figcaption></figure></span>, <span class=\"product__rating\" data-reactid=\"751\"><figure data-reactid=\"752\"><img alt=\"4.8 out of 5 total 16 reviews\" data-reactid=\"753\" id=\"reviewbazarcompare_sku1594278\" src=\"//www.walgreens.com/images/adaptive/bvrating/rating-4_8.gif\" title=\"4.8 out of 5\"/><figcaption data-reactid=\"754\">16</figcaption></figure></span>, <span class=\"product__rating\" data-reactid=\"805\"><figure data-reactid=\"806\"><img alt=\"3.9 out of 5 total 36 reviews\" data-reactid=\"807\" id=\"reviewbazarcompare_sku6239204\" src=\"//www.walgreens.com/images/adaptive/bvrating/rating-3_9.gif\" title=\"3.9 out of 5\"/><figcaption data-reactid=\"808\">36</figcaption></figure></span>, <span class=\"product__rating\" data-reactid=\"856\"><figure data-reactid=\"857\"><img alt=\"5.0 out of 5 total 1 reviews\" data-reactid=\"858\" id=\"reviewbazarcompare_sku6329541\" src=\"//www.walgreens.com/images/adaptive/bvrating/rating-5_0.gif\" title=\"5.0 out of 5\"/><figcaption data-reactid=\"859\">1</figcaption></figure></span>]\n"
     ]
    }
   ],
   "source": [
    "ratings = soup.find_all(\"span\", class_=\"product__rating\")\n",
    "print(ratings)"
   ]
  },
  {
   "cell_type": "code",
   "execution_count": 39,
   "metadata": {},
   "outputs": [
    {
     "output_type": "stream",
     "name": "stdout",
     "text": [
      "4.6 out of 5 total 12 reviews\n5.0 out of 5 total 1 reviews\n5.0 out of 5 total 6 reviews\n4.9 out of 5 total 43 reviews\n5.0 out of 5 total 3 reviews\n4.8 out of 5 total 16 reviews\n3.9 out of 5 total 36 reviews\n5.0 out of 5 total 1 reviews\n"
     ]
    }
   ],
   "source": [
    "ratings_list = []\n",
    "for rating in ratings:\n",
    "    ratings_list.append(rating.img[\"alt\"])\n",
    "    print(rating.img[\"alt\"])"
   ]
  },
  {
   "cell_type": "code",
   "execution_count": 42,
   "metadata": {},
   "outputs": [
    {
     "output_type": "execute_result",
     "data": {
      "text/plain": [
       "         brands                        ratings\n",
       "0        PayDay  4.6 out of 5 total 12 reviews\n",
       "1      Snickers   5.0 out of 5 total 1 reviews\n",
       "2  Tootsie Roll   5.0 out of 5 total 6 reviews\n",
       "3     Milky Way  4.9 out of 5 total 43 reviews\n",
       "4       Reese's   5.0 out of 5 total 3 reviews\n",
       "5        Mounds  4.8 out of 5 total 16 reviews\n",
       "6     Hershey's  3.9 out of 5 total 36 reviews\n",
       "7        Kisses   5.0 out of 5 total 1 reviews"
      ],
      "text/html": "<div>\n<style scoped>\n    .dataframe tbody tr th:only-of-type {\n        vertical-align: middle;\n    }\n\n    .dataframe tbody tr th {\n        vertical-align: top;\n    }\n\n    .dataframe thead th {\n        text-align: right;\n    }\n</style>\n<table border=\"1\" class=\"dataframe\">\n  <thead>\n    <tr style=\"text-align: right;\">\n      <th></th>\n      <th>brands</th>\n      <th>ratings</th>\n    </tr>\n  </thead>\n  <tbody>\n    <tr>\n      <th>0</th>\n      <td>PayDay</td>\n      <td>4.6 out of 5 total 12 reviews</td>\n    </tr>\n    <tr>\n      <th>1</th>\n      <td>Snickers</td>\n      <td>5.0 out of 5 total 1 reviews</td>\n    </tr>\n    <tr>\n      <th>2</th>\n      <td>Tootsie Roll</td>\n      <td>5.0 out of 5 total 6 reviews</td>\n    </tr>\n    <tr>\n      <th>3</th>\n      <td>Milky Way</td>\n      <td>4.9 out of 5 total 43 reviews</td>\n    </tr>\n    <tr>\n      <th>4</th>\n      <td>Reese's</td>\n      <td>5.0 out of 5 total 3 reviews</td>\n    </tr>\n    <tr>\n      <th>5</th>\n      <td>Mounds</td>\n      <td>4.8 out of 5 total 16 reviews</td>\n    </tr>\n    <tr>\n      <th>6</th>\n      <td>Hershey's</td>\n      <td>3.9 out of 5 total 36 reviews</td>\n    </tr>\n    <tr>\n      <th>7</th>\n      <td>Kisses</td>\n      <td>5.0 out of 5 total 1 reviews</td>\n    </tr>\n  </tbody>\n</table>\n</div>"
     },
     "metadata": {},
     "execution_count": 42
    }
   ],
   "source": [
    "df = pd.DataFrame({\"brands\": brands_list, \"ratings\": ratings_list})\n",
    "df"
   ]
  },
  {
   "cell_type": "code",
   "execution_count": 79,
   "metadata": {},
   "outputs": [
    {
     "output_type": "execute_result",
     "data": {
      "text/plain": [
       "[12, 1, 6, 43, 3, 16, 36, 1]"
      ]
     },
     "metadata": {},
     "execution_count": 79
    }
   ],
   "source": [
    "individual_ratings = []\n",
    "reviews = []\n",
    "for string in df['ratings']:\n",
    "    # extract the individual rating\n",
    "    rating = string[0:3]\n",
    "    individual_ratings.append(float(rating))\n",
    "    # extract number of reviews    \n",
    "    count = [int(i) for i in string.split() if i.isnumeric()]\n",
    "    reviews.append(count[1])\n",
    "reviews"
   ]
  },
  {
   "cell_type": "code",
   "execution_count": 80,
   "metadata": {},
   "outputs": [
    {
     "output_type": "execute_result",
     "data": {
      "text/plain": [
       "[4.6, 5.0, 5.0, 4.9, 5.0, 4.8, 3.9, 5.0]"
      ]
     },
     "metadata": {},
     "execution_count": 80
    }
   ],
   "source": [
    "individual_ratings"
   ]
  },
  {
   "cell_type": "code",
   "execution_count": 82,
   "metadata": {},
   "outputs": [
    {
     "output_type": "execute_result",
     "data": {
      "text/plain": [
       "         brands                        ratings  individual_ratings  reviews\n",
       "0        PayDay  4.6 out of 5 total 12 reviews                 4.6       12\n",
       "1      Snickers   5.0 out of 5 total 1 reviews                 5.0        1\n",
       "2  Tootsie Roll   5.0 out of 5 total 6 reviews                 5.0        6\n",
       "3     Milky Way  4.9 out of 5 total 43 reviews                 4.9       43\n",
       "4       Reese's   5.0 out of 5 total 3 reviews                 5.0        3"
      ],
      "text/html": "<div>\n<style scoped>\n    .dataframe tbody tr th:only-of-type {\n        vertical-align: middle;\n    }\n\n    .dataframe tbody tr th {\n        vertical-align: top;\n    }\n\n    .dataframe thead th {\n        text-align: right;\n    }\n</style>\n<table border=\"1\" class=\"dataframe\">\n  <thead>\n    <tr style=\"text-align: right;\">\n      <th></th>\n      <th>brands</th>\n      <th>ratings</th>\n      <th>individual_ratings</th>\n      <th>reviews</th>\n    </tr>\n  </thead>\n  <tbody>\n    <tr>\n      <th>0</th>\n      <td>PayDay</td>\n      <td>4.6 out of 5 total 12 reviews</td>\n      <td>4.6</td>\n      <td>12</td>\n    </tr>\n    <tr>\n      <th>1</th>\n      <td>Snickers</td>\n      <td>5.0 out of 5 total 1 reviews</td>\n      <td>5.0</td>\n      <td>1</td>\n    </tr>\n    <tr>\n      <th>2</th>\n      <td>Tootsie Roll</td>\n      <td>5.0 out of 5 total 6 reviews</td>\n      <td>5.0</td>\n      <td>6</td>\n    </tr>\n    <tr>\n      <th>3</th>\n      <td>Milky Way</td>\n      <td>4.9 out of 5 total 43 reviews</td>\n      <td>4.9</td>\n      <td>43</td>\n    </tr>\n    <tr>\n      <th>4</th>\n      <td>Reese's</td>\n      <td>5.0 out of 5 total 3 reviews</td>\n      <td>5.0</td>\n      <td>3</td>\n    </tr>\n  </tbody>\n</table>\n</div>"
     },
     "metadata": {},
     "execution_count": 82
    }
   ],
   "source": [
    "df['individual_ratings'] = individual_ratings\n",
    "df['reviews'] = reviews\n",
    "df.head()"
   ]
  },
  {
   "cell_type": "code",
   "execution_count": null,
   "metadata": {},
   "outputs": [],
   "source": []
  }
 ],
 "metadata": {
  "kernelspec": {
   "display_name": "Python 3",
   "language": "python",
   "name": "python3"
  },
  "language_info": {
   "codemirror_mode": {
    "name": "ipython",
    "version": 3
   },
   "file_extension": ".py",
   "mimetype": "text/x-python",
   "name": "python",
   "nbconvert_exporter": "python",
   "pygments_lexer": "ipython3",
   "version": "3.8.3-final"
  },
  "varInspector": {
   "cols": {
    "lenName": 16,
    "lenType": 16,
    "lenVar": 40
   },
   "kernels_config": {
    "python": {
     "delete_cmd_postfix": "",
     "delete_cmd_prefix": "del ",
     "library": "var_list.py",
     "varRefreshCmd": "print(var_dic_list())"
    },
    "r": {
     "delete_cmd_postfix": ") ",
     "delete_cmd_prefix": "rm(",
     "library": "var_list.r",
     "varRefreshCmd": "cat(var_dic_list()) "
    }
   },
   "types_to_exclude": [
    "module",
    "function",
    "builtin_function_or_method",
    "instance",
    "_Feature"
   ],
   "window_display": false
  }
 },
 "nbformat": 4,
 "nbformat_minor": 2
}