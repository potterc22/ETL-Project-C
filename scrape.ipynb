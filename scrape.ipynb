{
 "cells": [
  {
   "cell_type": "code",
   "execution_count": 88,
   "metadata": {
    "collapsed": true
   },
   "outputs": [],
   "source": [
    "# Dependencies\n",
    "from bs4 import BeautifulSoup\n",
    "import requests"
   ]
  },
  {
   "cell_type": "code",
   "execution_count": 89,
   "metadata": {
    "collapsed": true
   },
   "outputs": [],
   "source": [
    "# URL of page to be scraped\n",
    "#url = 'https://www.walgreens.com/store/c/halloween-candy/ID=520931-tier3'\n",
    "url = 'https://www.walgreens.com/store/store/category/productlist.jsp?N=520931&Eon=520931'\n"
   ]
  },
  {
   "cell_type": "code",
   "execution_count": 90,
   "metadata": {},
   "outputs": [],
   "source": [
    "# https://www.walgreens.com/store/store/category/productlist.jsp?N=520931&Eon=520931&No=144\n",
    "# &No144\n",
    "# there's 174 total "
   ]
  },
  {
   "cell_type": "code",
   "execution_count": 91,
   "metadata": {
    "collapsed": true
   },
   "outputs": [],
   "source": [
    "# Retrieve page with the requests module\n",
    "response = requests.get(url)"
   ]
  },
  {
   "cell_type": "code",
   "execution_count": 92,
   "metadata": {
    "collapsed": true
   },
   "outputs": [],
   "source": [
    "# Create BeautifulSoup object; parse with 'html.parser'\n",
    "soup = BeautifulSoup(response.text, 'html.parser')"
   ]
  },
  {
   "cell_type": "code",
   "execution_count": 93,
   "metadata": {
    "tags": []
   },
   "outputs": [],
   "source": [
    "# Examine the results, then determine element that contains sought info\n",
    "#soup"
   ]
  },
  {
   "cell_type": "code",
   "execution_count": 94,
   "metadata": {
    "collapsed": true
   },
   "outputs": [],
   "source": [
    "# results are returned as an iterable list\n",
    "#results = soup.find_all('li', class_=\"result-row\")"
   ]
  },
  {
   "cell_type": "code",
   "execution_count": 95,
   "metadata": {},
   "outputs": [
    {
     "output_type": "stream",
     "name": "stdout",
     "text": [
      "[<div class=\"brand\" data-reactid=\"481\" id=\"prodBrandNamecompare_sku6253945\">PayDay</div>, <div class=\"brand\" data-reactid=\"532\" id=\"prodBrandNamecompare_sku6062317\">Snickers</div>, <div class=\"brand\" data-reactid=\"581\" id=\"prodBrandNamecompare_sku6180836\">Tootsie Roll</div>, <div class=\"brand\" data-reactid=\"634\" id=\"prodBrandNamecompare_sku6275845\">Milky Way</div>, <div class=\"brand\" data-reactid=\"688\" id=\"prodBrandNamecompare_sku4266421\">Reese's</div>, <div class=\"brand\" data-reactid=\"739\" id=\"prodBrandNamecompare_sku1594278\">Mounds</div>, <div class=\"brand\" data-reactid=\"790\" id=\"prodBrandNamecompare_sku6239204\">Hershey's</div>, <div class=\"brand\" data-reactid=\"845\" id=\"prodBrandNamecompare_sku6329541\">Kisses</div>]\n"
     ]
    }
   ],
   "source": [
    "# <div class=\"brand\" id=\"prodBrandNamecompare_sku6253945\" data-reactid=\"468\">PayDay</div>\n",
    "# \"brand\"\n",
    "#<input type=\"checkbox\" id=\"filter_353669\" tabindex=\"0\" value=\"353669\" name=\"353669\" title=\"Sour Punch(2)\">\n",
    "brands = soup.find_all(\"div\", class_=\"brand\")\n",
    "print(brands)"
   ]
  },
  {
   "cell_type": "code",
   "execution_count": 96,
   "metadata": {},
   "outputs": [
    {
     "output_type": "stream",
     "name": "stdout",
     "text": [
      "PayDay\nSnickers\nTootsie Roll\nMilky Way\nReese's\nMounds\nHershey's\nKisses\n"
     ]
    }
   ],
   "source": [
    "for brand in brands:\n",
    "    print(brand.text)"
   ]
  },
  {
   "cell_type": "code",
   "execution_count": 11,
   "metadata": {},
   "outputs": [],
   "source": []
  },
  {
   "cell_type": "code",
   "execution_count": null,
   "metadata": {},
   "outputs": [],
   "source": []
  }
 ],
 "metadata": {
  "kernelspec": {
   "display_name": "Python 3",
   "language": "python",
   "name": "python3"
  },
  "language_info": {
   "codemirror_mode": {
    "name": "ipython",
    "version": 3
   },
   "file_extension": ".py",
   "mimetype": "text/x-python",
   "name": "python",
   "nbconvert_exporter": "python",
   "pygments_lexer": "ipython3",
   "version": "3.7.6-final"
  },
  "varInspector": {
   "cols": {
    "lenName": 16,
    "lenType": 16,
    "lenVar": 40
   },
   "kernels_config": {
    "python": {
     "delete_cmd_postfix": "",
     "delete_cmd_prefix": "del ",
     "library": "var_list.py",
     "varRefreshCmd": "print(var_dic_list())"
    },
    "r": {
     "delete_cmd_postfix": ") ",
     "delete_cmd_prefix": "rm(",
     "library": "var_list.r",
     "varRefreshCmd": "cat(var_dic_list()) "
    }
   },
   "types_to_exclude": [
    "module",
    "function",
    "builtin_function_or_method",
    "instance",
    "_Feature"
   ],
   "window_display": false
  }
 },
 "nbformat": 4,
 "nbformat_minor": 2
}