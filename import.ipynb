{
 "metadata": {
  "language_info": {
   "codemirror_mode": {
    "name": "ipython",
    "version": 3
   },
   "file_extension": ".py",
   "mimetype": "text/x-python",
   "name": "python",
   "nbconvert_exporter": "python",
   "pygments_lexer": "ipython3",
   "version": "3.6.10-final"
  },
  "orig_nbformat": 2,
  "kernelspec": {
   "name": "Python 3.6.10 64-bit ('bcs': conda)",
   "display_name": "Python 3.6.10 64-bit ('bcs': conda)",
   "metadata": {
    "interpreter": {
     "hash": "8ef29466f74bf088a378c30282cf9d03bb14ca16f25d014dbaac1c7b0c54b402"
    }
   }
  }
 },
 "nbformat": 4,
 "nbformat_minor": 2,
 "cells": [
  {
   "cell_type": "code",
   "execution_count": 65,
   "metadata": {},
   "outputs": [],
   "source": [
    "import pandas as pd\n",
    "from sqlalchemy import create_engine"
   ]
  },
  {
   "cell_type": "code",
   "execution_count": 66,
   "metadata": {},
   "outputs": [
    {
     "output_type": "execute_result",
     "data": {
      "text/plain": [
       "  competitorname  chocolate  fruity  caramel  peanutyalmondy  nougat  \\\n",
       "0      100 Grand          1       0        1               0       0   \n",
       "1   3 Musketeers          1       0        0               0       1   \n",
       "2       One dime          0       0        0               0       0   \n",
       "3    One quarter          0       0        0               0       0   \n",
       "4      Air Heads          0       1        0               0       0   \n",
       "\n",
       "   crispedricewafer  hard  bar  pluribus  sugarpercent  pricepercent  \\\n",
       "0                 1     0    1         0         0.732         0.860   \n",
       "1                 0     0    1         0         0.604         0.511   \n",
       "2                 0     0    0         0         0.011         0.116   \n",
       "3                 0     0    0         0         0.011         0.511   \n",
       "4                 0     0    0         0         0.906         0.511   \n",
       "\n",
       "   winpercent  \n",
       "0   66.971725  \n",
       "1   67.602936  \n",
       "2   32.261086  \n",
       "3   46.116505  \n",
       "4   52.341465  "
      ],
      "text/html": "<div>\n<style scoped>\n    .dataframe tbody tr th:only-of-type {\n        vertical-align: middle;\n    }\n\n    .dataframe tbody tr th {\n        vertical-align: top;\n    }\n\n    .dataframe thead th {\n        text-align: right;\n    }\n</style>\n<table border=\"1\" class=\"dataframe\">\n  <thead>\n    <tr style=\"text-align: right;\">\n      <th></th>\n      <th>competitorname</th>\n      <th>chocolate</th>\n      <th>fruity</th>\n      <th>caramel</th>\n      <th>peanutyalmondy</th>\n      <th>nougat</th>\n      <th>crispedricewafer</th>\n      <th>hard</th>\n      <th>bar</th>\n      <th>pluribus</th>\n      <th>sugarpercent</th>\n      <th>pricepercent</th>\n      <th>winpercent</th>\n    </tr>\n  </thead>\n  <tbody>\n    <tr>\n      <th>0</th>\n      <td>100 Grand</td>\n      <td>1</td>\n      <td>0</td>\n      <td>1</td>\n      <td>0</td>\n      <td>0</td>\n      <td>1</td>\n      <td>0</td>\n      <td>1</td>\n      <td>0</td>\n      <td>0.732</td>\n      <td>0.860</td>\n      <td>66.971725</td>\n    </tr>\n    <tr>\n      <th>1</th>\n      <td>3 Musketeers</td>\n      <td>1</td>\n      <td>0</td>\n      <td>0</td>\n      <td>0</td>\n      <td>1</td>\n      <td>0</td>\n      <td>0</td>\n      <td>1</td>\n      <td>0</td>\n      <td>0.604</td>\n      <td>0.511</td>\n      <td>67.602936</td>\n    </tr>\n    <tr>\n      <th>2</th>\n      <td>One dime</td>\n      <td>0</td>\n      <td>0</td>\n      <td>0</td>\n      <td>0</td>\n      <td>0</td>\n      <td>0</td>\n      <td>0</td>\n      <td>0</td>\n      <td>0</td>\n      <td>0.011</td>\n      <td>0.116</td>\n      <td>32.261086</td>\n    </tr>\n    <tr>\n      <th>3</th>\n      <td>One quarter</td>\n      <td>0</td>\n      <td>0</td>\n      <td>0</td>\n      <td>0</td>\n      <td>0</td>\n      <td>0</td>\n      <td>0</td>\n      <td>0</td>\n      <td>0</td>\n      <td>0.011</td>\n      <td>0.511</td>\n      <td>46.116505</td>\n    </tr>\n    <tr>\n      <th>4</th>\n      <td>Air Heads</td>\n      <td>0</td>\n      <td>1</td>\n      <td>0</td>\n      <td>0</td>\n      <td>0</td>\n      <td>0</td>\n      <td>0</td>\n      <td>0</td>\n      <td>0</td>\n      <td>0.906</td>\n      <td>0.511</td>\n      <td>52.341465</td>\n    </tr>\n  </tbody>\n</table>\n</div>"
     },
     "metadata": {},
     "execution_count": 66
    }
   ],
   "source": [
    "# Read in csv and convert it to a dataframe\n",
    "csv_file = \"Resources/candy-data.csv\"\n",
    "candy_data_df = pd.read_csv(csv_file)\n",
    "candy_data_df.head()"
   ]
  },
  {
   "cell_type": "code",
   "execution_count": 67,
   "metadata": {},
   "outputs": [],
   "source": [
    "# Remove special characters and replace with apostrophes\n",
    "candy_data_df['competitorname'] = candy_data_df['competitorname'].replace(['HersheyÕs Kisses', 'HersheyÕs Krackel', 'HersheyÕs Milk Chocolate', 'HersheyÕs Special Dark', 'M&MÕs', 'ReeseÕs Miniatures', 'ReeseÕs Peanut Butter cup', 'ReeseÕs pieces', 'ReeseÕs stuffed with pieces', 'WelchÕs Fruit Snacks', 'WertherÕs Original Caramel'], [\"Hershey's Kisses\", \"Hershey's Krackel\", \"Hershey's Milk Chocolate\", \"Hershey's Special Dark\", \"M&M's\", \"Reese's Miniatures\", \"Reese's Peanut Butter Cup\", \"Reese's Pieces\", \"Reese's stuffed with pieces\", \"Welch's Fruit Snacks\", \"Werther's Original Caramel\"])"
   ]
  },
  {
   "cell_type": "code",
   "execution_count": 73,
   "metadata": {},
   "outputs": [
    {
     "output_type": "execute_result",
     "data": {
      "text/plain": [
       "     competitorname  chocolate  fruity  caramel  peanutyalmondy  nougat  \\\n",
       "0         100 Grand          1       0        1               0       0   \n",
       "1      3 Musketeers          1       0        0               0       1   \n",
       "5        Almond Joy          1       0        0               1       0   \n",
       "6         Baby Ruth          1       0        1               1       1   \n",
       "10  Charleston Chew          1       0        0               0       1   \n",
       "\n",
       "    crispedricewafer  hard  bar  pluribus  sugarpercent  pricepercent  \\\n",
       "0                  1     0    1         0         0.732         0.860   \n",
       "1                  0     0    1         0         0.604         0.511   \n",
       "5                  0     0    1         0         0.465         0.767   \n",
       "6                  0     0    1         0         0.604         0.767   \n",
       "10                 0     0    1         0         0.604         0.511   \n",
       "\n",
       "    winpercent  \n",
       "0    66.971725  \n",
       "1    67.602936  \n",
       "5    50.347546  \n",
       "6    56.914547  \n",
       "10   38.975037  "
      ],
      "text/html": "<div>\n<style scoped>\n    .dataframe tbody tr th:only-of-type {\n        vertical-align: middle;\n    }\n\n    .dataframe tbody tr th {\n        vertical-align: top;\n    }\n\n    .dataframe thead th {\n        text-align: right;\n    }\n</style>\n<table border=\"1\" class=\"dataframe\">\n  <thead>\n    <tr style=\"text-align: right;\">\n      <th></th>\n      <th>competitorname</th>\n      <th>chocolate</th>\n      <th>fruity</th>\n      <th>caramel</th>\n      <th>peanutyalmondy</th>\n      <th>nougat</th>\n      <th>crispedricewafer</th>\n      <th>hard</th>\n      <th>bar</th>\n      <th>pluribus</th>\n      <th>sugarpercent</th>\n      <th>pricepercent</th>\n      <th>winpercent</th>\n    </tr>\n  </thead>\n  <tbody>\n    <tr>\n      <th>0</th>\n      <td>100 Grand</td>\n      <td>1</td>\n      <td>0</td>\n      <td>1</td>\n      <td>0</td>\n      <td>0</td>\n      <td>1</td>\n      <td>0</td>\n      <td>1</td>\n      <td>0</td>\n      <td>0.732</td>\n      <td>0.860</td>\n      <td>66.971725</td>\n    </tr>\n    <tr>\n      <th>1</th>\n      <td>3 Musketeers</td>\n      <td>1</td>\n      <td>0</td>\n      <td>0</td>\n      <td>0</td>\n      <td>1</td>\n      <td>0</td>\n      <td>0</td>\n      <td>1</td>\n      <td>0</td>\n      <td>0.604</td>\n      <td>0.511</td>\n      <td>67.602936</td>\n    </tr>\n    <tr>\n      <th>5</th>\n      <td>Almond Joy</td>\n      <td>1</td>\n      <td>0</td>\n      <td>0</td>\n      <td>1</td>\n      <td>0</td>\n      <td>0</td>\n      <td>0</td>\n      <td>1</td>\n      <td>0</td>\n      <td>0.465</td>\n      <td>0.767</td>\n      <td>50.347546</td>\n    </tr>\n    <tr>\n      <th>6</th>\n      <td>Baby Ruth</td>\n      <td>1</td>\n      <td>0</td>\n      <td>1</td>\n      <td>1</td>\n      <td>1</td>\n      <td>0</td>\n      <td>0</td>\n      <td>1</td>\n      <td>0</td>\n      <td>0.604</td>\n      <td>0.767</td>\n      <td>56.914547</td>\n    </tr>\n    <tr>\n      <th>10</th>\n      <td>Charleston Chew</td>\n      <td>1</td>\n      <td>0</td>\n      <td>0</td>\n      <td>0</td>\n      <td>1</td>\n      <td>0</td>\n      <td>0</td>\n      <td>1</td>\n      <td>0</td>\n      <td>0.604</td>\n      <td>0.511</td>\n      <td>38.975037</td>\n    </tr>\n  </tbody>\n</table>\n</div>"
     },
     "metadata": {},
     "execution_count": 73
    }
   ],
   "source": [
    "# Create dataframe for chocolate candies\n",
    "chocolate = candy_data_df.loc[candy_data_df['chocolate'] == 1,:]\n",
    "chocolate.head()"
   ]
  },
  {
   "cell_type": "code",
   "execution_count": 74,
   "metadata": {},
   "outputs": [
    {
     "output_type": "execute_result",
     "data": {
      "text/plain": [
       "                competitorname  chocolate  fruity  caramel  peanutyalmondy  \\\n",
       "4                    Air Heads          0       1        0               0   \n",
       "9           Caramel Apple Pops          0       1        1               0   \n",
       "11  Chewey Lemonhead Fruit Mix          0       1        0               0   \n",
       "12                    Chiclets          0       1        0               0   \n",
       "13                        Dots          0       1        0               0   \n",
       "\n",
       "    nougat  crispedricewafer  hard  bar  pluribus  sugarpercent  pricepercent  \\\n",
       "4        0                 0     0    0         0         0.906         0.511   \n",
       "9        0                 0     0    0         0         0.604         0.325   \n",
       "11       0                 0     0    0         1         0.732         0.511   \n",
       "12       0                 0     0    0         1         0.046         0.325   \n",
       "13       0                 0     0    0         1         0.732         0.511   \n",
       "\n",
       "    winpercent  \n",
       "4    52.341465  \n",
       "9    34.517681  \n",
       "11   36.017628  \n",
       "12   24.524988  \n",
       "13   42.272076  "
      ],
      "text/html": "<div>\n<style scoped>\n    .dataframe tbody tr th:only-of-type {\n        vertical-align: middle;\n    }\n\n    .dataframe tbody tr th {\n        vertical-align: top;\n    }\n\n    .dataframe thead th {\n        text-align: right;\n    }\n</style>\n<table border=\"1\" class=\"dataframe\">\n  <thead>\n    <tr style=\"text-align: right;\">\n      <th></th>\n      <th>competitorname</th>\n      <th>chocolate</th>\n      <th>fruity</th>\n      <th>caramel</th>\n      <th>peanutyalmondy</th>\n      <th>nougat</th>\n      <th>crispedricewafer</th>\n      <th>hard</th>\n      <th>bar</th>\n      <th>pluribus</th>\n      <th>sugarpercent</th>\n      <th>pricepercent</th>\n      <th>winpercent</th>\n    </tr>\n  </thead>\n  <tbody>\n    <tr>\n      <th>4</th>\n      <td>Air Heads</td>\n      <td>0</td>\n      <td>1</td>\n      <td>0</td>\n      <td>0</td>\n      <td>0</td>\n      <td>0</td>\n      <td>0</td>\n      <td>0</td>\n      <td>0</td>\n      <td>0.906</td>\n      <td>0.511</td>\n      <td>52.341465</td>\n    </tr>\n    <tr>\n      <th>9</th>\n      <td>Caramel Apple Pops</td>\n      <td>0</td>\n      <td>1</td>\n      <td>1</td>\n      <td>0</td>\n      <td>0</td>\n      <td>0</td>\n      <td>0</td>\n      <td>0</td>\n      <td>0</td>\n      <td>0.604</td>\n      <td>0.325</td>\n      <td>34.517681</td>\n    </tr>\n    <tr>\n      <th>11</th>\n      <td>Chewey Lemonhead Fruit Mix</td>\n      <td>0</td>\n      <td>1</td>\n      <td>0</td>\n      <td>0</td>\n      <td>0</td>\n      <td>0</td>\n      <td>0</td>\n      <td>0</td>\n      <td>1</td>\n      <td>0.732</td>\n      <td>0.511</td>\n      <td>36.017628</td>\n    </tr>\n    <tr>\n      <th>12</th>\n      <td>Chiclets</td>\n      <td>0</td>\n      <td>1</td>\n      <td>0</td>\n      <td>0</td>\n      <td>0</td>\n      <td>0</td>\n      <td>0</td>\n      <td>0</td>\n      <td>1</td>\n      <td>0.046</td>\n      <td>0.325</td>\n      <td>24.524988</td>\n    </tr>\n    <tr>\n      <th>13</th>\n      <td>Dots</td>\n      <td>0</td>\n      <td>1</td>\n      <td>0</td>\n      <td>0</td>\n      <td>0</td>\n      <td>0</td>\n      <td>0</td>\n      <td>0</td>\n      <td>1</td>\n      <td>0.732</td>\n      <td>0.511</td>\n      <td>42.272076</td>\n    </tr>\n  </tbody>\n</table>\n</div>"
     },
     "metadata": {},
     "execution_count": 74
    }
   ],
   "source": [
    "# Create dataframe for fruity candies\n",
    "fruity = candy_data_df.loc[candy_data_df['fruity'] == 1,:]\n",
    "fruity.head()"
   ]
  },
  {
   "cell_type": "code",
   "execution_count": 75,
   "metadata": {},
   "outputs": [
    {
     "output_type": "execute_result",
     "data": {
      "text/plain": [
       "                competitorname  chocolate  fruity  caramel  peanutyalmondy  \\\n",
       "2                     One dime          0       0        0               0   \n",
       "3                  One quarter          0       0        0               0   \n",
       "7           Boston Baked Beans          0       0        0               1   \n",
       "8                   Candy Corn          0       0        0               0   \n",
       "19           Haribo Happy Cola          0       0        0               0   \n",
       "46                      Payday          0       0        0               1   \n",
       "48                Pixie Sticks          0       0        0               0   \n",
       "57           Root Beer Barrels          0       0        0               0   \n",
       "70                Sugar Babies          0       0        1               0   \n",
       "71                 Sugar Daddy          0       0        1               0   \n",
       "83  Werther's Original Caramel          0       0        1               0   \n",
       "\n",
       "    nougat  crispedricewafer  hard  bar  pluribus  sugarpercent  pricepercent  \\\n",
       "2        0                 0     0    0         0         0.011         0.116   \n",
       "3        0                 0     0    0         0         0.011         0.511   \n",
       "7        0                 0     0    0         1         0.313         0.511   \n",
       "8        0                 0     0    0         1         0.906         0.325   \n",
       "19       0                 0     0    0         1         0.465         0.465   \n",
       "46       1                 0     0    1         0         0.465         0.767   \n",
       "48       0                 0     0    0         1         0.093         0.023   \n",
       "57       0                 0     1    0         1         0.732         0.069   \n",
       "70       0                 0     0    0         1         0.965         0.767   \n",
       "71       0                 0     0    0         0         0.418         0.325   \n",
       "83       0                 0     1    0         0         0.186         0.267   \n",
       "\n",
       "    winpercent  \n",
       "2    32.261086  \n",
       "3    46.116505  \n",
       "7    23.417824  \n",
       "8    38.010963  \n",
       "19   34.158958  \n",
       "46   46.296597  \n",
       "48   37.722336  \n",
       "57   29.703691  \n",
       "70   33.437550  \n",
       "71   32.230995  \n",
       "83   41.904308  "
      ],
      "text/html": "<div>\n<style scoped>\n    .dataframe tbody tr th:only-of-type {\n        vertical-align: middle;\n    }\n\n    .dataframe tbody tr th {\n        vertical-align: top;\n    }\n\n    .dataframe thead th {\n        text-align: right;\n    }\n</style>\n<table border=\"1\" class=\"dataframe\">\n  <thead>\n    <tr style=\"text-align: right;\">\n      <th></th>\n      <th>competitorname</th>\n      <th>chocolate</th>\n      <th>fruity</th>\n      <th>caramel</th>\n      <th>peanutyalmondy</th>\n      <th>nougat</th>\n      <th>crispedricewafer</th>\n      <th>hard</th>\n      <th>bar</th>\n      <th>pluribus</th>\n      <th>sugarpercent</th>\n      <th>pricepercent</th>\n      <th>winpercent</th>\n    </tr>\n  </thead>\n  <tbody>\n    <tr>\n      <th>2</th>\n      <td>One dime</td>\n      <td>0</td>\n      <td>0</td>\n      <td>0</td>\n      <td>0</td>\n      <td>0</td>\n      <td>0</td>\n      <td>0</td>\n      <td>0</td>\n      <td>0</td>\n      <td>0.011</td>\n      <td>0.116</td>\n      <td>32.261086</td>\n    </tr>\n    <tr>\n      <th>3</th>\n      <td>One quarter</td>\n      <td>0</td>\n      <td>0</td>\n      <td>0</td>\n      <td>0</td>\n      <td>0</td>\n      <td>0</td>\n      <td>0</td>\n      <td>0</td>\n      <td>0</td>\n      <td>0.011</td>\n      <td>0.511</td>\n      <td>46.116505</td>\n    </tr>\n    <tr>\n      <th>7</th>\n      <td>Boston Baked Beans</td>\n      <td>0</td>\n      <td>0</td>\n      <td>0</td>\n      <td>1</td>\n      <td>0</td>\n      <td>0</td>\n      <td>0</td>\n      <td>0</td>\n      <td>1</td>\n      <td>0.313</td>\n      <td>0.511</td>\n      <td>23.417824</td>\n    </tr>\n    <tr>\n      <th>8</th>\n      <td>Candy Corn</td>\n      <td>0</td>\n      <td>0</td>\n      <td>0</td>\n      <td>0</td>\n      <td>0</td>\n      <td>0</td>\n      <td>0</td>\n      <td>0</td>\n      <td>1</td>\n      <td>0.906</td>\n      <td>0.325</td>\n      <td>38.010963</td>\n    </tr>\n    <tr>\n      <th>19</th>\n      <td>Haribo Happy Cola</td>\n      <td>0</td>\n      <td>0</td>\n      <td>0</td>\n      <td>0</td>\n      <td>0</td>\n      <td>0</td>\n      <td>0</td>\n      <td>0</td>\n      <td>1</td>\n      <td>0.465</td>\n      <td>0.465</td>\n      <td>34.158958</td>\n    </tr>\n    <tr>\n      <th>46</th>\n      <td>Payday</td>\n      <td>0</td>\n      <td>0</td>\n      <td>0</td>\n      <td>1</td>\n      <td>1</td>\n      <td>0</td>\n      <td>0</td>\n      <td>1</td>\n      <td>0</td>\n      <td>0.465</td>\n      <td>0.767</td>\n      <td>46.296597</td>\n    </tr>\n    <tr>\n      <th>48</th>\n      <td>Pixie Sticks</td>\n      <td>0</td>\n      <td>0</td>\n      <td>0</td>\n      <td>0</td>\n      <td>0</td>\n      <td>0</td>\n      <td>0</td>\n      <td>0</td>\n      <td>1</td>\n      <td>0.093</td>\n      <td>0.023</td>\n      <td>37.722336</td>\n    </tr>\n    <tr>\n      <th>57</th>\n      <td>Root Beer Barrels</td>\n      <td>0</td>\n      <td>0</td>\n      <td>0</td>\n      <td>0</td>\n      <td>0</td>\n      <td>0</td>\n      <td>1</td>\n      <td>0</td>\n      <td>1</td>\n      <td>0.732</td>\n      <td>0.069</td>\n      <td>29.703691</td>\n    </tr>\n    <tr>\n      <th>70</th>\n      <td>Sugar Babies</td>\n      <td>0</td>\n      <td>0</td>\n      <td>1</td>\n      <td>0</td>\n      <td>0</td>\n      <td>0</td>\n      <td>0</td>\n      <td>0</td>\n      <td>1</td>\n      <td>0.965</td>\n      <td>0.767</td>\n      <td>33.437550</td>\n    </tr>\n    <tr>\n      <th>71</th>\n      <td>Sugar Daddy</td>\n      <td>0</td>\n      <td>0</td>\n      <td>1</td>\n      <td>0</td>\n      <td>0</td>\n      <td>0</td>\n      <td>0</td>\n      <td>0</td>\n      <td>0</td>\n      <td>0.418</td>\n      <td>0.325</td>\n      <td>32.230995</td>\n    </tr>\n    <tr>\n      <th>83</th>\n      <td>Werther's Original Caramel</td>\n      <td>0</td>\n      <td>0</td>\n      <td>1</td>\n      <td>0</td>\n      <td>0</td>\n      <td>0</td>\n      <td>1</td>\n      <td>0</td>\n      <td>0</td>\n      <td>0.186</td>\n      <td>0.267</td>\n      <td>41.904308</td>\n    </tr>\n  </tbody>\n</table>\n</div>"
     },
     "metadata": {},
     "execution_count": 75
    }
   ],
   "source": [
    "other = candy_data_df.loc[(candy_data_df['fruity'] == 0) & (candy_data_df['chocolate'] == 0),:]\n",
    "other"
   ]
  },
  {
   "source": [
    "## Content\n",
    "candy-data.csv includes attributes for each candy along with its ranking. For binary variables, 1 means yes, 0 means no. The data contains the following fields:\n",
    "* chocolate: Does it contain chocolate?\n",
    "* fruity: Is it fruit flavored?\n",
    "* caramel: Is there caramel in the candy?\n",
    "* peanutalmondy: Does it contain peanuts, peanut butter or almonds?\n",
    "* nougat: Does it contain nougat?\n",
    "* crispedricewafer: Does it contain crisped rice, wafers, or a cookie component?\n",
    "* hard: Is it a hard candy?\n",
    "* bar: Is it a candy bar?\n",
    "* pluribus: Is it one of many candies in a bag or box?\n",
    "* sugarpercent: The percentile of sugar it falls under within the data set.\n",
    "* pricepercent: The unit price percentile compared to the rest of the set.\n",
    "* winpercent: The overall win percentage according to 269,000 matchups."
   ],
   "cell_type": "markdown",
   "metadata": {}
  },
  {
   "cell_type": "code",
   "execution_count": 76,
   "metadata": {},
   "outputs": [
    {
     "output_type": "execute_result",
     "data": {
      "text/plain": [
       "                competitorname  chocolate  fruity  caramel  peanutyalmondy  \\\n",
       "0                    100 Grand          1       0        1               0   \n",
       "1                 3 Musketeers          1       0        0               0   \n",
       "2                     One dime          0       0        0               0   \n",
       "3                  One quarter          0       0        0               0   \n",
       "4                    Air Heads          0       1        0               0   \n",
       "..                         ...        ...     ...      ...             ...   \n",
       "80                   Twizzlers          0       1        0               0   \n",
       "81                    Warheads          0       1        0               0   \n",
       "82        Welch's Fruit Snacks          0       1        0               0   \n",
       "83  Werther's Original Caramel          0       0        1               0   \n",
       "84                    Whoppers          1       0        0               0   \n",
       "\n",
       "    nougat  crispedricewafer  hard  bar  pluribus  \n",
       "0        0                 1     0    1         0  \n",
       "1        1                 0     0    1         0  \n",
       "2        0                 0     0    0         0  \n",
       "3        0                 0     0    0         0  \n",
       "4        0                 0     0    0         0  \n",
       "..     ...               ...   ...  ...       ...  \n",
       "80       0                 0     0    0         0  \n",
       "81       0                 0     1    0         0  \n",
       "82       0                 0     0    0         1  \n",
       "83       0                 0     1    0         0  \n",
       "84       0                 1     0    0         1  \n",
       "\n",
       "[85 rows x 10 columns]"
      ],
      "text/html": "<div>\n<style scoped>\n    .dataframe tbody tr th:only-of-type {\n        vertical-align: middle;\n    }\n\n    .dataframe tbody tr th {\n        vertical-align: top;\n    }\n\n    .dataframe thead th {\n        text-align: right;\n    }\n</style>\n<table border=\"1\" class=\"dataframe\">\n  <thead>\n    <tr style=\"text-align: right;\">\n      <th></th>\n      <th>competitorname</th>\n      <th>chocolate</th>\n      <th>fruity</th>\n      <th>caramel</th>\n      <th>peanutyalmondy</th>\n      <th>nougat</th>\n      <th>crispedricewafer</th>\n      <th>hard</th>\n      <th>bar</th>\n      <th>pluribus</th>\n    </tr>\n  </thead>\n  <tbody>\n    <tr>\n      <th>0</th>\n      <td>100 Grand</td>\n      <td>1</td>\n      <td>0</td>\n      <td>1</td>\n      <td>0</td>\n      <td>0</td>\n      <td>1</td>\n      <td>0</td>\n      <td>1</td>\n      <td>0</td>\n    </tr>\n    <tr>\n      <th>1</th>\n      <td>3 Musketeers</td>\n      <td>1</td>\n      <td>0</td>\n      <td>0</td>\n      <td>0</td>\n      <td>1</td>\n      <td>0</td>\n      <td>0</td>\n      <td>1</td>\n      <td>0</td>\n    </tr>\n    <tr>\n      <th>2</th>\n      <td>One dime</td>\n      <td>0</td>\n      <td>0</td>\n      <td>0</td>\n      <td>0</td>\n      <td>0</td>\n      <td>0</td>\n      <td>0</td>\n      <td>0</td>\n      <td>0</td>\n    </tr>\n    <tr>\n      <th>3</th>\n      <td>One quarter</td>\n      <td>0</td>\n      <td>0</td>\n      <td>0</td>\n      <td>0</td>\n      <td>0</td>\n      <td>0</td>\n      <td>0</td>\n      <td>0</td>\n      <td>0</td>\n    </tr>\n    <tr>\n      <th>4</th>\n      <td>Air Heads</td>\n      <td>0</td>\n      <td>1</td>\n      <td>0</td>\n      <td>0</td>\n      <td>0</td>\n      <td>0</td>\n      <td>0</td>\n      <td>0</td>\n      <td>0</td>\n    </tr>\n    <tr>\n      <th>...</th>\n      <td>...</td>\n      <td>...</td>\n      <td>...</td>\n      <td>...</td>\n      <td>...</td>\n      <td>...</td>\n      <td>...</td>\n      <td>...</td>\n      <td>...</td>\n      <td>...</td>\n    </tr>\n    <tr>\n      <th>80</th>\n      <td>Twizzlers</td>\n      <td>0</td>\n      <td>1</td>\n      <td>0</td>\n      <td>0</td>\n      <td>0</td>\n      <td>0</td>\n      <td>0</td>\n      <td>0</td>\n      <td>0</td>\n    </tr>\n    <tr>\n      <th>81</th>\n      <td>Warheads</td>\n      <td>0</td>\n      <td>1</td>\n      <td>0</td>\n      <td>0</td>\n      <td>0</td>\n      <td>0</td>\n      <td>1</td>\n      <td>0</td>\n      <td>0</td>\n    </tr>\n    <tr>\n      <th>82</th>\n      <td>Welch's Fruit Snacks</td>\n      <td>0</td>\n      <td>1</td>\n      <td>0</td>\n      <td>0</td>\n      <td>0</td>\n      <td>0</td>\n      <td>0</td>\n      <td>0</td>\n      <td>1</td>\n    </tr>\n    <tr>\n      <th>83</th>\n      <td>Werther's Original Caramel</td>\n      <td>0</td>\n      <td>0</td>\n      <td>1</td>\n      <td>0</td>\n      <td>0</td>\n      <td>0</td>\n      <td>1</td>\n      <td>0</td>\n      <td>0</td>\n    </tr>\n    <tr>\n      <th>84</th>\n      <td>Whoppers</td>\n      <td>1</td>\n      <td>0</td>\n      <td>0</td>\n      <td>0</td>\n      <td>0</td>\n      <td>1</td>\n      <td>0</td>\n      <td>0</td>\n      <td>1</td>\n    </tr>\n  </tbody>\n</table>\n<p>85 rows × 10 columns</p>\n</div>"
     },
     "metadata": {},
     "execution_count": 76
    }
   ],
   "source": [
    "# create new table that only displays binary results\n",
    "binary_results = candy_data_df[['competitorname', 'chocolate', 'fruity', 'caramel', 'peanutyalmondy', 'nougat', 'crispedricewafer', 'hard', 'bar', 'pluribus']].copy()\n",
    "binary_results"
   ]
  },
  {
   "cell_type": "code",
   "execution_count": 77,
   "metadata": {},
   "outputs": [
    {
     "output_type": "execute_result",
     "data": {
      "text/plain": [
       "               competitorname  winpercent  sugarpercent  pricepercent\n",
       "52  Reese's Peanut Butter Cup   84.180290         0.720         0.651\n",
       "51         Reese's Miniatures   81.866257         0.034         0.279\n",
       "79                       Twix   81.642914         0.546         0.906\n",
       "28                    Kit Kat   76.768600         0.313         0.511\n",
       "64                   Snickers   76.673782         0.546         0.651"
      ],
      "text/html": "<div>\n<style scoped>\n    .dataframe tbody tr th:only-of-type {\n        vertical-align: middle;\n    }\n\n    .dataframe tbody tr th {\n        vertical-align: top;\n    }\n\n    .dataframe thead th {\n        text-align: right;\n    }\n</style>\n<table border=\"1\" class=\"dataframe\">\n  <thead>\n    <tr style=\"text-align: right;\">\n      <th></th>\n      <th>competitorname</th>\n      <th>winpercent</th>\n      <th>sugarpercent</th>\n      <th>pricepercent</th>\n    </tr>\n  </thead>\n  <tbody>\n    <tr>\n      <th>52</th>\n      <td>Reese's Peanut Butter Cup</td>\n      <td>84.180290</td>\n      <td>0.720</td>\n      <td>0.651</td>\n    </tr>\n    <tr>\n      <th>51</th>\n      <td>Reese's Miniatures</td>\n      <td>81.866257</td>\n      <td>0.034</td>\n      <td>0.279</td>\n    </tr>\n    <tr>\n      <th>79</th>\n      <td>Twix</td>\n      <td>81.642914</td>\n      <td>0.546</td>\n      <td>0.906</td>\n    </tr>\n    <tr>\n      <th>28</th>\n      <td>Kit Kat</td>\n      <td>76.768600</td>\n      <td>0.313</td>\n      <td>0.511</td>\n    </tr>\n    <tr>\n      <th>64</th>\n      <td>Snickers</td>\n      <td>76.673782</td>\n      <td>0.546</td>\n      <td>0.651</td>\n    </tr>\n  </tbody>\n</table>\n</div>"
     },
     "metadata": {},
     "execution_count": 77
    }
   ],
   "source": [
    "# create new table for percentages\n",
    "# winpercent: The overall win percentage according to 269,000 matchups.\n",
    "percentages = candy_data_df[['competitorname', 'winpercent', 'sugarpercent', 'pricepercent']].copy()\n",
    "percentages = percentages.sort_values('winpercent', ascending=False)\n",
    "percentages.head()"
   ]
  },
  {
   "cell_type": "code",
   "execution_count": null,
   "metadata": {},
   "outputs": [],
   "source": []
  },
  {
   "source": [
    "Need to figure out how to cleanup the names to just be the brand"
   ],
   "cell_type": "markdown",
   "metadata": {}
  }
 ]
}