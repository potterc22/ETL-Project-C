{
 "cells": [
  {
   "cell_type": "code",
   "execution_count": 1,
   "metadata": {
    "collapsed": true
   },
   "outputs": [],
   "source": [
    "# Dependencies\n",
    "from bs4 import BeautifulSoup\n",
    "import requests\n",
    "import pandas as pd\n",
    "from splinter import Browser\n",
    "import os\n",
    "import numpy as np\n",
    "from sqlalchemy import create_engine\n",
    "from config import username, password"
   ]
  },
  {
   "cell_type": "code",
   "execution_count": 2,
   "metadata": {
    "collapsed": true
   },
   "outputs": [],
   "source": [
    "# URL of page to be scraped\n",
    "#url = 'https://www.walgreens.com/store/store/category/productlist.jsp?N=520931&Eon=520931'\n"
   ]
  },
  {
   "cell_type": "code",
   "execution_count": 4,
   "metadata": {},
   "outputs": [],
   "source": [
    "# Read HTML from file\n",
    "filepath = os.path.join(\"..\", \"Resources\", \"walgreens.html\")\n",
    "with open(filepath) as file:\n",
    "    wal_html = file.read()"
   ]
  },
  {
   "cell_type": "code",
   "execution_count": 5,
   "metadata": {},
   "outputs": [],
   "source": [
    "executable_path = {'executable_path': \"chromedriver.exe\"}\n",
    "browser = Browser('chrome', **executable_path, headless=False)"
   ]
  },
  {
   "cell_type": "code",
   "execution_count": 6,
   "metadata": {},
   "outputs": [],
   "source": [
    "# Create beautifulsoup object\n",
    "html = browser.html\n",
    "soup = BeautifulSoup(wal_html, 'html.parser')"
   ]
  },
  {
   "cell_type": "code",
   "execution_count": 7,
   "metadata": {
    "tags": [
     "outputPrepend"
    ]
   },
   "outputs": [
    {
     "output_type": "stream",
     "name": "stdout",
     "text": [
      "t store</span></div><div class=\"avail-cta\" id=\"not-available-for-shippingcompare_sku6151899\" name=\"not-available-for-shipping compare_sku6151899\"><!-- react-text: 4398 -->Not available for shipping<!-- /react-text --><span class=\"sr-only\">Not available for shipping</span></div><button class=\"btn btn__blue\" id=\"pickup-ship-btncompare_sku6151899\" name=\"pickup-ship-btn\"><!-- react-text: 4401 -->Pick up<!-- /react-text --><span class=\"sr-only\">will open overlay</span></button></div></div><span aria-live=\"polite\" class=\"sr-only\" id=\"ownbrandAnnounce\"></span></div>, <div class=\"item card card__product\" id=\"productcard300400854\"><div aria-hidden=\"true\" id=\"productcardheight300400854\" style=\"text-align: center;\"><a href=\"/store/c/haribo-sweet-%26-scary-mix-assorted,-laydown-bag/ID=300400854-product\" id=\"productOmniSelectcompare_400622247\" tabindex=\"-1\"><figure class=\"product__img\"></figure><span class=\"sr-only\"><!-- react-text: 4410 -->Haribo Sweet &amp; Scary Mix Assorted, Laydown Bag<!-- /react-text --><!-- react-text: 4411 --> (<!-- /react-text --><!-- react-text: 4412 -->21.1 oz <!-- /react-text --><!-- react-text: 4413 -->)<!-- /react-text --></span></a></div><div class=\"product__details\"><div class=\"product__text\"><a class=\"color__text-black\" href=\"/store/c/haribo-sweet-%26-scary-mix-assorted,-laydown-bag/ID=300400854-product\"><div class=\"product__title font__fourteen\" id=\"title-secondary-0compare_400622247\" name=\"product-title\" title=\"Haribo Sweet &amp; Scary Mix Assorted, Laydown Bag\"><div class=\"brand\" id=\"prodBrandNamecompare_400622247\">Haribo</div><strong class=\"description\" id=\"prodTitleNamecompare_400622247\">Sweet &amp; Scary Mix Assorted, Laydown Bag</strong><span class=\"amount\" id=\"product-sizecompare_400622247\" name=\"wagproductsize\"><!-- react-text: 4421 --> - <!-- /react-text --><!-- react-text: 4422 -->21.1 oz <!-- /react-text --><!-- react-text: 4423 --> <!-- /react-text --><!-- react-text: 4424 --><!-- /react-text --></span></div><div class=\"product__price-contain\" name=\"wagproductprice\"><span class=\"price__contain\" id=\"regular-pricecompare_400622247\" name=\"regular-price\"><span class=\"product__price font__sixteen\"><!-- react-text: 4428 -->$6.99<!-- /react-text --><span class=\"sr-only\">$6.99</span></span><span class=\"product__weight font__twelve\"><!-- react-text: 4431 --> <!-- /react-text --><!-- react-text: 4432 -->$0.33<!-- /react-text --><!-- react-text: 4433 --> <!-- /react-text --><!-- react-text: 4434 --> / oz<!-- /react-text --></span></span></div></a><div class=\"product__deal-container font__fourteen\"><div class=\"product__deal color__text-red\" id=\"offer300400854\" title=\"Buy 1, Get 1 50% OFF\"><!-- react-text: 4437 -->Buy 1, Get 1 50% OFF<!-- /react-text --><span class=\"sr-only\">Buy 1, Get 1 50% OFF</span></div></div></div><div class=\"product__buttons\"><div class=\"avail-cta color__text-green-uc\" id=\"in-stock-at-storecompare_400622247\" name=\"in-stock-at-store compare_400622247\"><strong>In stock at store</strong><span class=\"sr-only\">In stock at store</span></div><div class=\"avail-cta\" id=\"out-of-stock-for-shippingcompare_400622247\" name=\"out-of-stock-for-shipping compare_400622247\"><!-- react-text: 4444 -->Out of stock for shipping<!-- /react-text --><span class=\"sr-only\">Out of stock for shipping</span></div><button class=\"btn btn__blue\" id=\"pickup-ship-btncompare_400622247\" name=\"pickup-ship-btn\"><!-- react-text: 4447 -->Pick up<!-- /react-text --><span class=\"sr-only\">will open overlay</span></button></div></div><span aria-live=\"polite\" class=\"sr-only\" id=\"ownbrandAnnounce\"></span></div>, <div class=\"item card card__product\" id=\"productcard300400858\"><div aria-hidden=\"true\" id=\"productcardheight300400858\" style=\"text-align: center;\"><a href=\"/store/c/mars-favorite-sugar-grab-bag-halloween/ID=300400858-product\" id=\"productOmniSelectcompare_400622251\" tabindex=\"-1\"><figure class=\"product__img\"></figure><span class=\"sr-only\"><!-- react-text: 4456 -->Mars Favorite Sugar Grab Bag Halloween<!-- /react-text --><!-- react-text: 4457 --> (<!-- /react-text --><!-- react-text: 4458 -->21.39 oz <!-- /react-text --><!-- react-text: 4459 -->)<!-- /react-text --></span></a></div><div class=\"product__details\"><div class=\"product__text\"><a class=\"color__text-black\" href=\"/store/c/mars-favorite-sugar-grab-bag-halloween/ID=300400858-product\"><div class=\"product__title font__fourteen\" id=\"title-secondary-0compare_400622251\" name=\"product-title\" title=\"Mars Favorite Sugar Grab Bag Halloween\"><div class=\"brand\" id=\"prodBrandNamecompare_400622251\">Mars</div><strong class=\"description\" id=\"prodTitleNamecompare_400622251\">Favorite Sugar Grab Bag Halloween</strong><span class=\"amount\" id=\"product-sizecompare_400622251\" name=\"wagproductsize\"><!-- react-text: 4467 --> - <!-- /react-text --><!-- react-text: 4468 -->21.39 oz <!-- /react-text --><!-- react-text: 4469 --> <!-- /react-text --><!-- react-text: 4470 --><!-- /react-text --></span></div><span class=\"product__rating\"><figure><img alt=\"5.0 out of 5 total 49 reviews\" id=\"reviewbazarcompare_400622251\" src=\"//www.walgreens.com/images/adaptive/bvrating/rating-5_0.gif\" title=\"5.0 out of 5\"/><figcaption>49</figcaption></figure></span><div class=\"product__price-contain\" name=\"wagproductprice\"><span class=\"price__contain\" id=\"sales-pricecompare_400622251\" name=\"sales-price\"><span class=\"product__price font__sixteen color__text-red\"><!-- react-text: 4478 -->$6.99<!-- /react-text --><span class=\"sr-only\">$6.99</span><!-- react-text: 4480 --> <!-- /react-text --></span><span class=\"product__weight font__twelve\"><!-- react-text: 4482 -->$0.33<!-- /react-text --><!-- react-text: 4483 --> <!-- /react-text --><span> / oz</span></span><span class=\"product__slashed font__twelve\">$7.79</span></span></div></a><div class=\"product__deal-container font__fourteen\"><div class=\"product__deal color__text-red\" id=\"offer300400858\" title=\"Buy 1, Get 1 50% OFF\"><!-- react-text: 4488 -->Buy 1, Get 1 50% OFF<!-- /react-text --><span class=\"sr-only\">Buy 1, Get 1 50% OFF</span></div></div></div><div class=\"product__buttons\"><div class=\"avail-cta color__text-green-uc\" id=\"in-stock-at-storecompare_400622251\" name=\"in-stock-at-store compare_400622251\"><strong>In stock at store</strong><span class=\"sr-only\">In stock at store</span></div><div class=\"avail-cta color__text-green-uc\" id=\"in-stock-for-shippingcompare_400622251\" name=\"in-stock-for-shipping compare_400622251\"><strong>In stock for shipping</strong><span class=\"sr-only\">In stock for shipping</span></div><button class=\"btn btn__blue\" id=\"pickup-ship-btncompare_400622251\" name=\"pickup-ship-btn\"><!-- react-text: 4498 -->Pick up or ship<!-- /react-text --><span class=\"sr-only\">will open overlay</span></button></div></div><span aria-live=\"polite\" class=\"sr-only\" id=\"ownbrandAnnounce\"></span></div>, <div class=\"item card card__product\" id=\"productcard300400860\"><div aria-hidden=\"true\" id=\"productcardheight300400860\" style=\"text-align: center;\"><a href=\"/store/c/mars-mixed-candy-halloween/ID=300400860-product\" id=\"productOmniSelectcompare_400622253\" tabindex=\"-1\"><figure class=\"product__img\"></figure><span class=\"sr-only\"><!-- react-text: 4507 -->Mars Mixed Candy Halloween<!-- /react-text --><!-- react-text: 4508 --> (<!-- /react-text --><!-- react-text: 4509 -->15.61 oz <!-- /react-text --><!-- react-text: 4510 -->)<!-- /react-text --></span></a></div><div class=\"product__details\"><div class=\"product__text\"><a class=\"color__text-black\" href=\"/store/c/mars-mixed-candy-halloween/ID=300400860-product\"><div class=\"product__title font__fourteen\" id=\"title-secondary-0compare_400622253\" name=\"product-title\" title=\"Mars Mixed Candy Halloween\"><div class=\"brand\" id=\"prodBrandNamecompare_400622253\">Mars</div><strong class=\"description\" id=\"prodTitleNamecompare_400622253\">Mixed Candy Halloween</strong><span class=\"amount\" id=\"product-sizecompare_400622253\" name=\"wagproductsize\"><!-- react-text: 4518 --> - <!-- /react-text --><!-- react-text: 4519 -->15.61 oz <!-- /react-text --><!-- react-text: 4520 --> <!-- /react-text --><!-- react-text: 4521 --><!-- /react-text --></span></div><span class=\"product__rating\"><figure><img alt=\"4.9 out of 5 total 122 reviews\" id=\"reviewbazarcompare_400622253\" src=\"//www.walgreens.com/images/adaptive/bvrating/rating-4_9.gif\" title=\"4.9 out of 5\"/><figcaption>122</figcaption></figure></span><div class=\"product__price-contain\" name=\"wagproductprice\"><span class=\"price__contain\" id=\"sales-pricecompare_400622253\" name=\"sales-price\"><span class=\"product__price font__sixteen color__text-red\"><!-- react-text: 4529 -->$6.99<!-- /react-text --><span class=\"sr-only\">$6.99</span><!-- react-text: 4531 --> <!-- /react-text --></span><span class=\"product__weight font__twelve\"><!-- react-text: 4533 -->$0.45<!-- /react-text --><!-- react-text: 4534 --> <!-- /react-text --><span> / oz</span></span><span class=\"product__slashed font__twelve\">$7.79</span></span></div></a><div class=\"product__deal-container font__fourteen\"><div class=\"product__deal color__text-red\" id=\"offer300400860\" title=\"Buy 1, Get 1 50% OFF\"><!-- react-text: 4539 -->Buy 1, Get 1 50% OFF<!-- /react-text --><span class=\"sr-only\">Buy 1, Get 1 50% OFF</span></div><div class=\"product__deal\" id=\"coupon300400860\"><a aria-describedby=\"coupon_overlay\" href=\"javascript:void(0)\" name=\"coupondetailsclick\">Save $1.25 Coupon</a><span class=\"sr-only\" id=\"coupon_overlay\">Open simulated dialog</span></div></div></div><div class=\"product__buttons\"><div class=\"avail-cta color__text-green-uc\" id=\"in-stock-at-storecompare_400622253\" name=\"in-stock-at-store compare_400622253\"><strong>In stock at store</strong><span class=\"sr-only\">In stock at store</span></div><div class=\"avail-cta color__text-green-uc\" id=\"in-stock-for-shippingcompare_400622253\" name=\"in-stock-for-shipping compare_400622253\"><strong>In stock for shipping</strong><span class=\"sr-only\">In stock for shipping</span></div><button class=\"btn btn__blue\" id=\"pickup-ship-btncompare_400622253\" name=\"pickup-ship-btn\"><!-- react-text: 4552 -->Pick up or ship<!-- /react-text --><span class=\"sr-only\">will open overlay</span></button></div></div><span aria-live=\"polite\" class=\"sr-only\" id=\"ownbrandAnnounce\"></span></div>, <div class=\"item card card__product\" id=\"productcardprod6365973\"><div aria-hidden=\"true\" id=\"productcardheightprod6365973\" style=\"text-align: center;\"><a href=\"/store/c/reese's-milk-chocolate-peanut-butter-pumpkin/ID=prod6365973-product\" id=\"productOmniSelectcompare_sku6064255\" tabindex=\"-1\"><figure class=\"product__img\"></figure><span class=\"sr-only\"><!-- react-text: 4561 -->Reese's Milk Chocolate Peanut Butter Pumpkin<!-- /react-text --><!-- react-text: 4562 --> (<!-- /react-text --><!-- react-text: 4563 -->1.2 oz <!-- /react-text --><!-- react-text: 4564 -->)<!-- /react-text --></span></a></div><div class=\"product__details\"><div class=\"product__text\"><a class=\"color__text-black\" href=\"/store/c/reese's-milk-chocolate-peanut-butter-pumpkin/ID=prod6365973-product\"><div class=\"product__title font__fourteen\" id=\"title-secondary-0compare_sku6064255\" name=\"product-title\" title=\"Reese's Milk Chocolate Peanut Butter Pumpkin\"><div class=\"brand\" id=\"prodBrandNamecompare_sku6064255\">Reese's</div><strong class=\"description\" id=\"prodTitleNamecompare_sku6064255\">Milk Chocolate Peanut Butter Pumpkin</strong><span class=\"amount\" id=\"product-sizecompare_sku6064255\" name=\"wagproductsize\"><!-- react-text: 4572 --> - <!-- /react-text --><!-- react-text: 4573 -->1.2 oz <!-- /react-text --><!-- react-text: 4574 --> <!-- /react-text --><!-- react-text: 4575 --><!-- /react-text --></span></div><span class=\"product__rating\"><figure><img alt=\"3.0 out of 5 total 2 reviews\" id=\"reviewbazarcompare_sku6064255\" src=\"//www.walgreens.com/images/adaptive/bvrating/rating-3_0.gif\" title=\"3.0 out of 5\"/><figcaption>2</figcaption></figure></span><div class=\"product__price-contain\" name=\"wagproductprice\"><span class=\"price__contain\" id=\"sales-pricecompare_sku6064255\" name=\"sales-price\"><span class=\"product__price font__sixteen color__text-red\"><span><!-- react-text: 4584 -->4/$3.00 <!-- /react-text --><span class=\"or\">or</span><!-- react-text: 4586 --> 1/$0.99<!-- /react-text --></span><span class=\"sr-only\"><!-- react-text: 4588 -->4/$3.00 <!-- /react-text --><span class=\"or\">or</span><!-- react-text: 4590 --> 1/$0.99<!-- /react-text --></span><!-- react-text: 4591 --> <!-- /react-text --></span><span class=\"product__weight font__twelve\"><!-- react-text: 4593 -->$0.83<!-- /react-text --><!-- react-text: 4594 --> <!-- /react-text --><span> / oz</span></span><span class=\"product__slashed font__twelve\">$1.39</span></span></div></a><div class=\"product__deal-container font__fourteen\"><div class=\"product__deal\" id=\"couponprod6365973\"><a aria-describedby=\"coupon_overlay\" href=\"javascript:void(0)\" name=\"coupondetailsclick\">$1 off with card (with purchase of 4) Coupon</a><span class=\"sr-only\" id=\"coupon_overlay\">Open simulated dialog</span></div></div></div><div class=\"product__buttons\"><div class=\"avail-cta color__text-green-uc\" id=\"in-stock-at-storecompare_sku6064255\" name=\"in-stock-at-store compare_sku6064255\"><strong>In stock at store</strong><span class=\"sr-only\">In stock at store</span></div><div class=\"avail-cta\" id=\"out-of-stock-for-shippingcompare_sku6064255\" name=\"out-of-stock-for-shipping compare_sku6064255\"><!-- react-text: 4606 -->Out of stock for shipping<!-- /react-text --><span class=\"sr-only\">Out of stock for shipping</span></div><button class=\"btn btn__blue\" id=\"pickup-ship-btncompare_sku6064255\" name=\"pickup-ship-btn\"><!-- react-text: 4609 -->Pick up<!-- /react-text --><span class=\"sr-only\">will open overlay</span></button></div></div><span aria-live=\"polite\" class=\"sr-only\" id=\"ownbrandAnnounce\"></span></div>, <div class=\"item card card__product\" id=\"productcardprod6377562\"><div aria-hidden=\"true\" id=\"productcardheightprod6377562\" style=\"text-align: center;\"><a href=\"/store/c/hershey's-halloween-candy-assorted/ID=prod6377562-product\" id=\"productOmniSelectcompare_sku6315472\" tabindex=\"-1\"><figure class=\"product__img\"></figure><span class=\"sr-only\"><!-- react-text: 4618 -->Hershey's Halloween Candy Assorted<!-- /react-text --><!-- react-text: 4619 --> (<!-- /react-text --><!-- react-text: 4620 -->60.8 oz <!-- /react-text --><!-- react-text: 4621 -->)<!-- /react-text --></span></a></div><div class=\"product__details\"><div class=\"product__text\"><a class=\"color__text-black\" href=\"/store/c/hershey's-halloween-candy-assorted/ID=prod6377562-product\"><div class=\"product__title font__fourteen\" id=\"title-secondary-0compare_sku6315472\" name=\"product-title\" title=\"Hershey's Halloween Candy Assorted\"><div class=\"brand\" id=\"prodBrandNamecompare_sku6315472\">Hershey's</div><strong class=\"description\" id=\"prodTitleNamecompare_sku6315472\">Halloween Candy Assorted</strong><span class=\"amount\" id=\"product-sizecompare_sku6315472\" name=\"wagproductsize\"><!-- react-text: 4629 --> - <!-- /react-text --><!-- react-text: 4630 -->60.8 oz <!-- /react-text --><!-- react-text: 4631 --> <!-- /react-text --><!-- react-text: 4632 --><!-- /react-text --></span></div><div class=\"product__price-contain\" name=\"wagproductprice\"><span class=\"price__contain\" id=\"regular-pricecompare_sku6315472\" name=\"regular-price\"><span class=\"product__price font__sixteen\"><!-- react-text: 4636 -->$19.99<!-- /react-text --><span class=\"sr-only\">$19.99</span></span><span class=\"product__weight font__twelve\"><!-- react-text: 4639 --> <!-- /react-text --><!-- react-text: 4640 -->$0.33<!-- /react-text --><!-- react-text: 4641 --> <!-- /react-text --><!-- react-text: 4642 --> / oz<!-- /react-text --></span></span></div></a><div class=\"product__deal-container font__fourteen\"><div class=\"product__deal color__text-red\" id=\"offerprod6377562\" title=\"Buy 1, Get 1 50% OFF\"><!-- react-text: 4645 -->Buy 1, Get 1 50% OFF<!-- /react-text --><span class=\"sr-only\">Buy 1, Get 1 50% OFF</span></div></div></div><div class=\"product__buttons\"><div class=\"avail-cta\" id=\"out-of-stockcompare_sku6315472\" name=\"out-of-stock compare_sku6315472\"><!-- react-text: 4649 -->Out of stock at store<!-- /react-text --><span class=\"sr-only\">Out of stock at store</span></div><div class=\"avail-cta\"><a href=\"javascript:void(0)\" id=\"find-at-store-btncompare_sku6315472\" name=\"find-at-store-btn\" role=\"button\"><!-- react-text: 4653 -->Check other stores<!-- /react-text --><span class=\"sr-only\">Opens a simulated dialog</span></a></div><div class=\"avail-cta color__text-green-uc\" id=\"in-stock-for-shippingcompare_sku6315472\" name=\"in-stock-for-shipping compare_sku6315472\"><strong>In stock for shipping</strong><span class=\"sr-only\">In stock for shipping</span></div><button class=\"btn btn__blue\" id=\"pickup-ship-btncompare_sku6315472\" name=\"pickup-ship-btn\"><!-- react-text: 4659 -->Ship it<!-- /react-text --><span class=\"sr-only\">will open overlay</span></button></div></div><span aria-live=\"polite\" class=\"sr-only\" id=\"ownbrandAnnounce\"></span></div>, <div class=\"item card card__product\" id=\"productcardprod6170725\"><div aria-hidden=\"true\" id=\"productcardheightprod6170725\" style=\"text-align: center;\"><a href=\"/store/c/nerds-candy-rope-assorted/ID=prod6170725-product\" id=\"productOmniSelectcompare_sku6151904\" tabindex=\"-1\"><figure class=\"product__img\"></figure><span class=\"sr-only\"><!-- react-text: 4668 -->Nerds Candy Rope Assorted<!-- /react-text --><!-- react-text: 4669 --> (<!-- /react-text --><!-- react-text: 4670 -->0.92 oz <!-- /react-text --><!-- react-text: 4671 -->)<!-- /react-text --></span></a></div><div class=\"product__details\"><div class=\"product__text\"><a class=\"color__text-black\" href=\"/store/c/nerds-candy-rope-assorted/ID=prod6170725-product\"><div class=\"product__title font__fourteen\" id=\"title-secondary-0compare_sku6151904\" name=\"product-title\" title=\"Nerds Candy Rope Assorted\"><div class=\"brand\" id=\"prodBrandNamecompare_sku6151904\">Nerds</div><strong class=\"description\" id=\"prodTitleNamecompare_sku6151904\">Candy Rope Assorted</strong><span class=\"amount\" id=\"product-sizecompare_sku6151904\" name=\"wagproductsize\"><!-- react-text: 4679 --> - <!-- /react-text --><!-- react-text: 4680 -->0.92 oz <!-- /react-text --><!-- react-text: 4681 --> <!-- /react-text --><!-- react-text: 4682 --><!-- /react-text --></span></div><div class=\"product__price-contain\" name=\"wagproductprice\"><span class=\"price__contain\" id=\"regular-pricecompare_sku6151904\" name=\"regular-price\"><span class=\"product__price font__sixteen\"><!-- react-text: 4686 -->$0.79<!-- /react-text --><span class=\"sr-only\">$0.79</span></span></span></div></a><div class=\"product__deal-container font__fourteen\"><div class=\"product__deal color__text-red\" id=\"offerprod6170725\" title=\"Buy 1, Get 1 50% OFF\"><!-- react-text: 4690 -->Buy 1, Get 1 50% OFF<!-- /react-text --><span class=\"sr-only\">Buy 1, Get 1 50% OFF</span></div></div></div><div class=\"product__buttons\"><div class=\"avail-cta color__text-green-uc\" id=\"in-stock-at-storecompare_sku6151904\" name=\"in-stock-at-store compare_sku6151904\"><strong>In stock at store</strong><span class=\"sr-only\">In stock at store</span></div><div class=\"avail-cta\" id=\"not-available-for-shippingcompare_sku6151904\" name=\"not-available-for-shipping compare_sku6151904\"><!-- react-text: 4697 -->Not available for shipping<!-- /react-text --><span class=\"sr-only\">Not available for shipping</span></div><button class=\"btn btn__blue\" id=\"pickup-ship-btncompare_sku6151904\" name=\"pickup-ship-btn\"><!-- react-text: 4700 -->Pick up<!-- /react-text --><span class=\"sr-only\">will open overlay</span></button></div></div><span aria-live=\"polite\" class=\"sr-only\" id=\"ownbrandAnnounce\"></span></div>, <div class=\"item card card__product\" id=\"productcard300402658\"><div aria-hidden=\"true\" id=\"productcardheight300402658\" style=\"text-align: center;\"><a href=\"/store/c/reese's-reese's-peanut-butter-cup-minis-with-spooky-foils-bag/ID=300402658-product\" id=\"productOmniSelectcompare_400624009\" tabindex=\"-1\"><figure class=\"product__img\"></figure><span class=\"sr-only\"><!-- react-text: 4709 -->Reese's Reese's Peanut Butter Cup Minis with Spooky Foils bag<!-- /react-text --><!-- react-text: 4710 --> (<!-- /react-text --><!-- react-text: 4711 -->11 oz <!-- /react-text --><!-- react-text: 4712 -->)<!-- /react-text --></span></a></div><div class=\"product__details\"><div class=\"product__text\"><a class=\"color__text-black\" href=\"/store/c/reese's-reese's-peanut-butter-cup-minis-with-spooky-foils-bag/ID=300402658-product\"><div class=\"product__title font__fourteen\" id=\"title-secondary-0compare_400624009\" name=\"product-title\" title=\"Reese's Reese's Peanut Butter Cup Minis with Spooky Foils bag\"><div class=\"brand\" id=\"prodBrandNamecompare_400624009\">Reese's</div><strong class=\"description\" id=\"prodTitleNamecompare_400624009\">Reese's Peanut Butter Cup Minis with Spooky Foils bag</strong><span class=\"amount\" id=\"product-sizecompare_400624009\" name=\"wagproductsize\"><!-- react-text: 4720 --> - <!-- /react-text --><!-- react-text: 4721 -->11 oz <!-- /react-text --><!-- react-text: 4722 --> <!-- /react-text --><!-- react-text: 4723 --><!-- /react-text --></span></div><span class=\"product__rating\"><figure><img alt=\"4.9 out of 5 total 56 reviews\" id=\"reviewbazarcompare_400624009\" src=\"//www.walgreens.com/images/adaptive/bvrating/rating-4_9.gif\" title=\"4.9 out of 5\"/><figcaption>56</figcaption></figure></span><div class=\"product__price-contain\" name=\"wagproductprice\"><span class=\"price__contain\" id=\"regular-pricecompare_400624009\" name=\"regular-price\"><span class=\"product__price font__sixteen\"><!-- react-text: 4731 -->$4.99<!-- /react-text --><span class=\"sr-only\">$4.99</span></span></span></div></a><div class=\"product__deal-container font__fourteen\"></div></div><div class=\"product__buttons\"><div class=\"avail-cta color__text-green-uc\" id=\"in-stock-at-storecompare_400624009\" name=\"in-stock-at-store compare_400624009\"><strong>In stock at store</strong><span class=\"sr-only\">In stock at store</span></div><div class=\"avail-cta\" id=\"not-available-for-shippingcompare_400624009\" name=\"not-available-for-shipping compare_400624009\"><!-- react-text: 4739 -->Not available for shipping<!-- /react-text --><span class=\"sr-only\">Not available for shipping</span></div><button class=\"btn btn__blue\" id=\"pickup-ship-btncompare_400624009\" name=\"pickup-ship-btn\"><!-- react-text: 4742 -->Pick up<!-- /react-text --><span class=\"sr-only\">will open overlay</span></button></div></div><span aria-live=\"polite\" class=\"sr-only\" id=\"ownbrandAnnounce\"></span></div>, <div class=\"item card card__product\" id=\"productcardprod6279590\"><div aria-hidden=\"true\" id=\"productcardheightprod6279590\" style=\"text-align: center;\"><a href=\"/store/c/russell-stover-pumpkin-caramel-brownie/ID=prod6279590-product\" id=\"productOmniSelectcompare_sku6236831\" tabindex=\"-1\"><figure class=\"product__img\"></figure><span class=\"sr-only\"><!-- react-text: 4751 -->Russell Stover Pumpkin Caramel Brownie<!-- /react-text --><!-- react-text: 4752 --> (<!-- /react-text --><!-- react-text: 4753 -->1 oz <!-- /react-text --><!-- react-text: 4754 -->)<!-- /react-text --></span></a></div><div class=\"product__details\"><div class=\"product__text\"><a class=\"color__text-black\" href=\"/store/c/russell-stover-pumpkin-caramel-brownie/ID=prod6279590-product\"><div class=\"product__title font__fourteen\" id=\"title-secondary-0compare_sku6236831\" name=\"product-title\" title=\"Russell Stover Pumpkin Caramel Brownie\"><div class=\"brand\" id=\"prodBrandNamecompare_sku6236831\">Russell Stover</div><strong class=\"description\" id=\"prodTitleNamecompare_sku6236831\">Pumpkin Caramel Brownie</strong><span class=\"amount\" id=\"product-sizecompare_sku6236831\" name=\"wagproductsize\"><!-- react-text: 4762 --> - <!-- /react-text --><!-- react-text: 4763 -->1 oz <!-- /react-text --><!-- react-text: 4764 --> <!-- /react-text --><!-- react-text: 4765 --><!-- /react-text --></span></div><div class=\"product__price-contain\" name=\"wagproductprice\"><span class=\"price__contain\" id=\"regular-pricecompare_sku6236831\" name=\"regular-price\"><span class=\"product__price font__sixteen\"><span><!-- react-text: 4770 -->3/$2.00 <!-- /react-text --><span class=\"or\">or</span><!-- react-text: 4772 --> 1/$0.79<!-- /react-text --></span><span class=\"sr-only\"><!-- react-text: 4774 -->3/$2.00 <!-- /react-text --><span class=\"or\">or</span><!-- react-text: 4776 --> 1/$0.79<!-- /react-text --></span></span></span></div></a><div class=\"product__deal-container font__fourteen\"></div></div><div class=\"product__buttons\"><div class=\"avail-cta\" id=\"out-of-stockcompare_sku6236831\" name=\"out-of-stock compare_sku6236831\"><!-- react-text: 4780 -->Out of stock at store<!-- /react-text --><span class=\"sr-only\">Out of stock at store</span></div><div class=\"avail-cta\"><a href=\"javascript:void(0)\" id=\"find-at-store-btncompare_sku6236831\" name=\"find-at-store-btn\" role=\"button\"><!-- react-text: 4784 -->Check other stores<!-- /react-text --><span class=\"sr-only\">Opens a simulated dialog</span></a></div><div class=\"avail-cta\" id=\"not-available-for-shippingcompare_sku6236831\" name=\"not-available-for-shipping compare_sku6236831\"><!-- react-text: 4787 -->Not available for shipping<!-- /react-text --><span class=\"sr-only\">Not available for shipping</span></div></div></div><span aria-live=\"polite\" class=\"sr-only\" id=\"ownbrandAnnounce\"></span></div>, <div class=\"item card card__product\" id=\"productcardprod6283787\"><div aria-hidden=\"true\" id=\"productcardheightprod6283787\" style=\"text-align: center;\"><a href=\"/store/c/mars-mixed-chocolate-variety-halloween-bag/ID=prod6283787-product\" id=\"productOmniSelectcompare_sku6239902\" tabindex=\"-1\"><figure class=\"product__img\"></figure><span class=\"sr-only\"><!-- react-text: 4796 -->Mars Mixed Chocolate Variety Halloween Bag<!-- /react-text --><!-- react-text: 4797 --> (<!-- /react-text --><!-- react-text: 4798 -->29 oz <!-- /react-text --><!-- react-text: 4799 -->)<!-- /react-text --></span></a></div><div class=\"product__details\"><div class=\"product__text\"><a class=\"color__text-black\" href=\"/store/c/mars-mixed-chocolate-variety-halloween-bag/ID=prod6283787-product\"><div class=\"product__title font__fourteen\" id=\"title-secondary-0compare_sku6239902\" name=\"product-title\" title=\"Mars Mixed Chocolate Variety Halloween Bag\"><div class=\"brand\" id=\"prodBrandNamecompare_sku6239902\">Mars</div><strong class=\"description\" id=\"prodTitleNamecompare_sku6239902\">Mixed Chocolate Variety Halloween Bag</strong><span class=\"amount\" id=\"product-sizecompare_sku6239902\" name=\"wagproductsize\"><!-- react-text: 4807 --> - <!-- /react-text --><!-- react-text: 4808 -->29 oz <!-- /react-text --><!-- react-text: 4809 --> <!-- /react-text --><!-- react-text: 4810 --><!-- /react-text --></span></div><span class=\"product__rating\"><figure><img alt=\"5.0 out of 5 total 192 reviews\" id=\"reviewbazarcompare_sku6239902\" src=\"//www.walgreens.com/images/adaptive/bvrating/rating-5_0.gif\" title=\"5.0 out of 5\"/><figcaption>192</figcaption></figure></span><div class=\"product__price-contain\" name=\"wagproductprice\"><span class=\"price__contain\" id=\"sales-pricecompare_sku6239902\" name=\"sales-price\"><span class=\"product__price font__sixteen color__text-red\"><!-- react-text: 4818 -->$9.99<!-- /react-text --><span class=\"sr-only\">$9.99</span><!-- react-text: 4820 --> <!-- /react-text --></span><span class=\"product__weight font__twelve\"><!-- react-text: 4822 --> <!-- /react-text --></span><span class=\"product__slashed font__twelve\">$11.99</span></span></div></a><div class=\"product__deal-container font__fourteen\"><div class=\"product__deal color__text-red\" id=\"offerprod6283787\" title=\"Buy 1, Get 1 50% OFF\"><!-- react-text: 4826 -->Buy 1, Get 1 50% OFF<!-- /react-text --><span class=\"sr-only\">Buy 1, Get 1 50% OFF</span></div></div></div><div class=\"product__buttons\"><div class=\"avail-cta color__text-green-uc\" id=\"in-stock-at-storecompare_sku6239902\" name=\"in-stock-at-store compare_sku6239902\"><strong>In stock at store</strong><span class=\"sr-only\">In stock at store</span></div><div class=\"avail-cta\" id=\"not-available-for-shippingcompare_sku6239902\" name=\"not-available-for-shipping compare_sku6239902\"><!-- react-text: 4833 -->Not available for shipping<!-- /react-text --><span class=\"sr-only\">Not available for shipping</span></div><button class=\"btn btn__blue\" id=\"pickup-ship-btncompare_sku6239902\" name=\"pickup-ship-btn\"><!-- react-text: 4836 -->Pick up<!-- /react-text --><span class=\"sr-only\">will open overlay</span></button></div></div><span aria-live=\"polite\" class=\"sr-only\" id=\"ownbrandAnnounce\"></span></div>, <div class=\"item card card__product\" id=\"productcardprod6070417\"><div aria-hidden=\"true\" id=\"productcardheightprod6070417\" style=\"text-align: center;\"><a href=\"/store/c/russell-stover-halloween-candy-orange-marshmallow/ID=prod6070417-product\" id=\"productOmniSelectcompare_sku6064263\" tabindex=\"-1\"><figure class=\"product__img\"></figure><span class=\"sr-only\"><!-- react-text: 4845 -->Russell Stover Halloween Candy Orange Marshmallow<!-- /react-text --><!-- react-text: 4846 --> (<!-- /react-text --><!-- react-text: 4847 -->1 oz <!-- /react-text --><!-- react-text: 4848 -->)<!-- /react-text --></span></a></div><div class=\"product__details\"><div class=\"product__text\"><a class=\"color__text-black\" href=\"/store/c/russell-stover-halloween-candy-orange-marshmallow/ID=prod6070417-product\"><div class=\"product__title font__fourteen\" id=\"title-secondary-0compare_sku6064263\" name=\"product-title\" title=\"Russell Stover Halloween Candy Orange Marshmallow\"><div class=\"brand\" id=\"prodBrandNamecompare_sku6064263\">Russell Stover</div><strong class=\"description\" id=\"prodTitleNamecompare_sku6064263\">Halloween Candy Orange Marshmallow</strong><span class=\"amount\" id=\"product-sizecompare_sku6064263\" name=\"wagproductsize\"><!-- react-text: 4856 --> - <!-- /react-text --><!-- react-text: 4857 -->1 oz <!-- /react-text --><!-- react-text: 4858 --> <!-- /react-text --><!-- react-text: 4859 --><!-- /react-text --></span></div><div class=\"product__price-contain\" name=\"wagproductprice\"><span class=\"price__contain\" id=\"regular-pricecompare_sku6064263\" name=\"regular-price\"><span class=\"product__price font__sixteen\"><span><!-- react-text: 4864 -->3/$2.00 <!-- /react-text --><span class=\"or\">or</span><!-- react-text: 4866 --> 1/$0.79<!-- /react-text --></span><span class=\"sr-only\"><!-- react-text: 4868 -->3/$2.00 <!-- /react-text --><span class=\"or\">or</span><!-- react-text: 4870 --> 1/$0.79<!-- /react-text --></span></span></span></div></a><div class=\"product__deal-container font__fourteen\"></div></div><div class=\"product__buttons\"><div class=\"avail-cta color__text-green-uc\" id=\"in-stock-at-storecompare_sku6064263\" name=\"in-stock-at-store compare_sku6064263\"><strong>In stock at store</strong><span class=\"sr-only\">In stock at store</span></div><div class=\"avail-cta\" id=\"not-available-for-shippingcompare_sku6064263\" name=\"not-available-for-shipping compare_sku6064263\"><!-- react-text: 4877 -->Not available for shipping<!-- /react-text --><span class=\"sr-only\">Not available for shipping</span></div><button class=\"btn btn__blue\" id=\"pickup-ship-btncompare_sku6064263\" name=\"pickup-ship-btn\"><!-- react-text: 4880 -->Pick up<!-- /react-text --><span class=\"sr-only\">will open overlay</span></button></div></div><span aria-live=\"polite\" class=\"sr-only\" id=\"ownbrandAnnounce\"></span></div>, <div class=\"item card card__product\" id=\"productcard300399581\"><div aria-hidden=\"true\" id=\"productcardheight300399581\" style=\"text-align: center;\"><a href=\"/store/c/mars-fun-size-chocolate-candy-variety-mix-piece/ID=300399581-product\" id=\"productOmniSelectcompare_400620919\" tabindex=\"-1\"><figure class=\"product__img\"></figure><span class=\"sr-only\"><!-- react-text: 4889 -->Mars Fun Size Chocolate Candy Variety Mix Piece<!-- /react-text --><!-- react-text: 4890 --> (<!-- /react-text --><!-- react-text: 4891 -->31.18 oz <!-- /react-text --><!-- react-text: 4892 -->)<!-- /react-text --></span></a></div><div class=\"product__details\"><div class=\"product__text\"><a class=\"color__text-black\" href=\"/store/c/mars-fun-size-chocolate-candy-variety-mix-piece/ID=300399581-product\"><div class=\"product__title font__fourteen\" id=\"title-secondary-0compare_400620919\" name=\"product-title\" title=\"Mars Fun Size Chocolate Candy Variety Mix Piece\"><div class=\"brand\" id=\"prodBrandNamecompare_400620919\">Mars</div><strong class=\"description\" id=\"prodTitleNamecompare_400620919\">Fun Size Chocolate Candy Variety Mix Piece</strong><span class=\"amount\" id=\"product-sizecompare_400620919\" name=\"wagproductsize\"><!-- react-text: 4900 --> - <!-- /react-text --><!-- react-text: 4901 -->31.18 oz <!-- /react-text --><!-- react-text: 4902 --> <!-- /react-text --><!-- react-text: 4903 --><!-- /react-text --></span></div><span class=\"product__rating\"><figure><img alt=\"4.9 out of 5 total 349 reviews\" id=\"reviewbazarcompare_400620919\" src=\"//www.walgreens.com/images/adaptive/bvrating/rating-4_9.gif\" title=\"4.9 out of 5\"/><figcaption>349</figcaption></figure></span><div class=\"product__price-contain\" name=\"wagproductprice\"><span class=\"price__contain\" id=\"sales-pricecompare_400620919\" name=\"sales-price\"><span class=\"product__price font__sixteen color__text-red\"><!-- react-text: 4911 -->$9.99<!-- /react-text --><span class=\"sr-only\">$9.99</span><!-- react-text: 4913 --> <!-- /react-text --></span><span class=\"product__weight font__twelve\"><!-- react-text: 4915 -->$0.32<!-- /react-text --><!-- react-text: 4916 --> <!-- /react-text --><span> / oz</span></span><span class=\"product__slashed font__twelve\">$12.99</span></span></div></a><div class=\"product__deal-container font__fourteen\"><div class=\"product__deal color__text-red\" id=\"offer300399581\" title=\"Buy 1, Get 1 50% OFF\"><!-- react-text: 4921 -->Buy 1, Get 1 50% OFF<!-- /react-text --><span class=\"sr-only\">Buy 1, Get 1 50% OFF</span></div></div></div><div class=\"product__buttons\"><div class=\"avail-cta color__text-green-uc\" id=\"in-stock-at-storecompare_400620919\" name=\"in-stock-at-store compare_400620919\"><strong>In stock at store</strong><span class=\"sr-only\">In stock at store</span></div><div class=\"avail-cta\" id=\"out-of-stock-for-shippingcompare_400620919\" name=\"out-of-stock-for-shipping compare_400620919\"><!-- react-text: 4928 -->Out of stock for shipping<!-- /react-text --><span class=\"sr-only\">Out of stock for shipping</span></div><button class=\"btn btn__blue\" id=\"pickup-ship-btncompare_400620919\" name=\"pickup-ship-btn\"><!-- react-text: 4931 -->Pick up<!-- /react-text --><span class=\"sr-only\">will open overlay</span></button></div></div><span aria-live=\"polite\" class=\"sr-only\" id=\"ownbrandAnnounce\"></span></div>, <div class=\"item card card__product\" id=\"productcard300399572\"><div aria-hidden=\"true\" id=\"productcardheight300399572\" style=\"text-align: center;\"><a href=\"/store/c/m%26m's-milk-chocolate-halloween-ghouls/ID=300399572-product\" id=\"productOmniSelectcompare_400620910\" tabindex=\"-1\"><figure class=\"product__img\"></figure><span class=\"sr-only\"><!-- react-text: 4940 -->M&amp;M's Milk Chocolate Halloween Ghouls<!-- /react-text --><!-- react-text: 4941 --> (<!-- /react-text --><!-- react-text: 4942 -->10 oz <!-- /react-text --><!-- react-text: 4943 -->)<!-- /react-text --></span></a></div><div class=\"product__details\"><div class=\"product__text\"><a class=\"color__text-black\" href=\"/store/c/m%26m's-milk-chocolate-halloween-ghouls/ID=300399572-product\"><div class=\"product__title font__fourteen\" id=\"title-secondary-0compare_400620910\" name=\"product-title\" title=\"M&amp;M's Milk Chocolate Halloween Ghouls\"><div class=\"brand\" id=\"prodBrandNamecompare_400620910\">M&amp;M's</div><strong class=\"description\" id=\"prodTitleNamecompare_400620910\">Milk Chocolate Halloween Ghouls</strong><span class=\"amount\" id=\"product-sizecompare_400620910\" name=\"wagproductsize\"><!-- react-text: 4951 --> - <!-- /react-text --><!-- react-text: 4952 -->10 oz <!-- /react-text --><!-- react-text: 4953 --> <!-- /react-text --><!-- react-text: 4954 --><!-- /react-text --></span></div><span class=\"product__rating\"><figure><img alt=\"4.7 out of 5 total 202 reviews\" id=\"reviewbazarcompare_400620910\" src=\"//www.walgreens.com/images/adaptive/bvrating/rating-4_7.gif\" title=\"4.7 out of 5\"/><figcaption>202</figcaption></figure></span><div class=\"product__price-contain\" name=\"wagproductprice\"><span class=\"price__contain\" id=\"sales-pricecompare_400620910\" name=\"sales-price\"><span class=\"product__price font__sixteen color__text-red\"><span><!-- react-text: 4963 -->2/$6.00 <!-- /react-text --><span class=\"or\">or</span><!-- react-text: 4965 --> 1/$3.49<!-- /react-text --></span><span class=\"sr-only\"><!-- react-text: 4967 -->2/$6.00 <!-- /react-text --><span class=\"or\">or</span><!-- react-text: 4969 --> 1/$3.49<!-- /react-text --></span><!-- react-text: 4970 --> <!-- /react-text --></span><span class=\"product__weight font__twelve\"><!-- react-text: 4972 -->$0.35<!-- /react-text --><!-- react-text: 4973 --> <!-- /react-text --><span> / oz</span></span><span class=\"product__slashed font__twelve\">$4.29</span></span></div></a><div class=\"product__deal-container font__fourteen\"><div class=\"product__deal\" id=\"coupon300399572\"><a aria-describedby=\"coupon_overlay\" href=\"javascript:void(0)\" name=\"coupondetailsclick\">Save $1.25 Coupon</a><span class=\"sr-only\" id=\"coupon_overlay\">Open simulated dialog</span></div></div></div><div class=\"product__buttons\"><div class=\"avail-cta color__text-green-uc\" id=\"in-stock-at-storecompare_400620910\" name=\"in-stock-at-store compare_400620910\"><strong>In stock at store</strong><span class=\"sr-only\">In stock at store</span></div><div class=\"avail-cta\" id=\"out-of-stock-for-shippingcompare_400620910\" name=\"out-of-stock-for-shipping compare_400620910\"><!-- react-text: 4985 -->Out of stock for shipping<!-- /react-text --><span class=\"sr-only\">Out of stock for shipping</span></div><button class=\"btn btn__blue\" id=\"pickup-ship-btncompare_400620910\" name=\"pickup-ship-btn\"><!-- react-text: 4988 -->Pick up<!-- /react-text --><span class=\"sr-only\">will open overlay</span></button></div></div><span aria-live=\"polite\" class=\"sr-only\" id=\"ownbrandAnnounce\"></span></div>, <div class=\"item card card__product\" id=\"productcardprod6070399\"><div aria-hidden=\"true\" id=\"productcardheightprod6070399\" style=\"text-align: center;\"><a href=\"/store/c/mars-original-halloween-candy-bag-assorted/ID=prod6070399-product\" id=\"productOmniSelectcompare_sku6064245\" tabindex=\"-1\"><figure class=\"product__img\"></figure><span class=\"sr-only\"><!-- react-text: 4997 -->Mars Original Halloween Candy Bag Assorted<!-- /react-text --><!-- react-text: 4998 --> (<!-- /react-text --><!-- react-text: 4999 -->90 ea <!-- /react-text --><!-- react-text: 5000 -->)<!-- /react-text --></span></a></div><div class=\"product__details\"><div class=\"product__text\"><a class=\"color__text-black\" href=\"/store/c/mars-original-halloween-candy-bag-assorted/ID=prod6070399-product\"><div class=\"product__title font__fourteen\" id=\"title-secondary-0compare_sku6064245\" name=\"product-title\" title=\"Mars Original Halloween Candy Bag Assorted\"><div class=\"brand\" id=\"prodBrandNamecompare_sku6064245\">Mars</div><strong class=\"description\" id=\"prodTitleNamecompare_sku6064245\">Original Halloween Candy Bag Assorted</strong><span class=\"amount\" id=\"product-sizecompare_sku6064245\" name=\"wagproductsize\"><!-- react-text: 5008 --> - <!-- /react-text --><!-- react-text: 5009 -->90 ea <!-- /react-text --><!-- react-text: 5010 --> <!-- /react-text --><!-- react-text: 5011 --><!-- /react-text --></span></div><span class=\"product__rating\"><figure><img alt=\"4.9 out of 5 total 80 reviews\" id=\"reviewbazarcompare_sku6064245\" src=\"//www.walgreens.com/images/adaptive/bvrating/rating-4_9.gif\" title=\"4.9 out of 5\"/><figcaption>80</figcaption></figure></span><div class=\"product__price-contain\" name=\"wagproductprice\"><span class=\"price__contain\" id=\"sales-pricecompare_sku6064245\" name=\"sales-price\"><span class=\"product__price font__sixteen color__text-red\"><!-- react-text: 5019 -->$9.99<!-- /react-text --><span class=\"sr-only\">$9.99</span><!-- react-text: 5021 --> <!-- /react-text --></span><span class=\"product__weight font__twelve\"><!-- react-text: 5023 -->$0.11<!-- /react-text --><!-- react-text: 5024 --> <!-- /react-text --><span> / ea</span></span><span class=\"product__slashed font__twelve\">$11.99</span></span></div></a><div class=\"product__deal-container font__fourteen\"><div class=\"product__deal color__text-red\" id=\"offerprod6070399\" title=\"Buy 1, Get 1 50% OFF\"><!-- react-text: 5029 -->Buy 1, Get 1 50% OFF<!-- /react-text --><span class=\"sr-only\">Buy 1, Get 1 50% OFF</span></div></div></div><div class=\"product__buttons\"><div class=\"avail-cta color__text-green-uc\" id=\"in-stock-at-storecompare_sku6064245\" name=\"in-stock-at-store compare_sku6064245\"><strong>In stock at store</strong><span class=\"sr-only\">In stock at store</span></div><div class=\"avail-cta color__text-green-uc\" id=\"in-stock-for-shippingcompare_sku6064245\" name=\"in-stock-for-shipping compare_sku6064245\"><strong>In stock for shipping</strong><span class=\"sr-only\">In stock for shipping</span></div><button class=\"btn btn__blue\" id=\"pickup-ship-btncompare_sku6064245\" name=\"pickup-ship-btn\"><!-- react-text: 5039 -->Pick up or ship<!-- /react-text --><span class=\"sr-only\">will open overlay</span></button></div></div><span aria-live=\"polite\" class=\"sr-only\" id=\"ownbrandAnnounce\"></span></div>, <div class=\"item card card__product\" id=\"productcardprod6388327\"><div aria-hidden=\"true\" id=\"productcardheightprod6388327\" style=\"text-align: center;\"><a href=\"/store/c/brach's-milk-maid-caramels/ID=prod6388327-product\" id=\"productOmniSelectcompare_sku6320903\" tabindex=\"-1\"><figure class=\"product__img\"></figure><span class=\"sr-only\"><!-- react-text: 5048 -->Brach's Milk Maid Caramels<!-- /react-text --><!-- react-text: 5049 --> (<!-- /react-text --><!-- react-text: 5050 -->10 oz <!-- /react-text --><!-- react-text: 5051 -->)<!-- /react-text --></span></a></div><div class=\"product__details\"><div class=\"product__text\"><a class=\"color__text-black\" href=\"/store/c/brach's-milk-maid-caramels/ID=prod6388327-product\"><div class=\"product__title font__fourteen\" id=\"title-secondary-0compare_sku6320903\" name=\"product-title\" title=\"Brach's Milk Maid Caramels\"><div class=\"brand\" id=\"prodBrandNamecompare_sku6320903\">Brach's</div><strong class=\"description\" id=\"prodTitleNamecompare_sku6320903\">Milk Maid Caramels</strong><span class=\"amount\" id=\"product-sizecompare_sku6320903\" name=\"wagproductsize\"><!-- react-text: 5059 --> - <!-- /react-text --><!-- react-text: 5060 -->10 oz <!-- /react-text --><!-- react-text: 5061 --> <!-- /react-text --><!-- react-text: 5062 --><!-- /react-text --></span></div><div class=\"product__price-contain\" name=\"wagproductprice\"><span class=\"price__contain\" id=\"regular-pricecompare_sku6320903\" name=\"regular-price\"><span class=\"product__price font__sixteen\"><!-- react-text: 5066 -->$2.99<!-- /react-text --><span class=\"sr-only\">$2.99</span></span></span></div></a><div class=\"product__deal-container font__fourteen\"></div></div><div class=\"product__buttons\"><div class=\"avail-cta\" id=\"out-of-stockcompare_sku6320903\" name=\"out-of-stock compare_sku6320903\"><!-- react-text: 5071 -->Out of stock at store<!-- /react-text --><span class=\"sr-only\">Out of stock at store</span></div><div class=\"avail-cta\"><a href=\"javascript:void(0)\" id=\"find-at-store-btncompare_sku6320903\" name=\"find-at-store-btn\" role=\"button\"><!-- react-text: 5075 -->Check other stores<!-- /react-text --><span class=\"sr-only\">Opens a simulated dialog</span></a></div><div class=\"avail-cta\" id=\"not-available-for-shippingcompare_sku6320903\" name=\"not-available-for-shipping compare_sku6320903\"><!-- react-text: 5078 -->Not available for shipping<!-- /react-text --><span class=\"sr-only\">Not available for shipping</span></div></div></div><span aria-live=\"polite\" class=\"sr-only\" id=\"ownbrandAnnounce\"></span></div>, <div class=\"item card card__product\" id=\"productcardprod6070330\"><div aria-hidden=\"true\" id=\"productcardheightprod6070330\" style=\"text-align: center;\"><a href=\"/store/c/snickers-almond-fun-size-chocolate-halloween-candy-bars-almond/ID=prod6070330-product\" id=\"productOmniSelectcompare_sku6064176\" tabindex=\"-1\"><figure class=\"product__img\"></figure><span class=\"sr-only\"><!-- react-text: 5087 -->Snickers Almond Fun Size Chocolate Halloween Candy Bars Almond<!-- /react-text --><!-- react-text: 5088 --> (<!-- /react-text --><!-- react-text: 5089 -->10.23 oz <!-- /react-text --><!-- react-text: 5090 -->)<!-- /react-text --></span></a></div><div class=\"product__details\"><div class=\"product__text\"><a class=\"color__text-black\" href=\"/store/c/snickers-almond-fun-size-chocolate-halloween-candy-bars-almond/ID=prod6070330-product\"><div class=\"product__title font__fourteen\" id=\"title-secondary-0compare_sku6064176\" name=\"product-title\" title=\"Snickers Almond Fun Size Chocolate Halloween Candy Bars Almond\"><div class=\"brand\" id=\"prodBrandNamecompare_sku6064176\">Snickers</div><strong class=\"description\" id=\"prodTitleNamecompare_sku6064176\">Almond Fun Size Chocolate Halloween Candy Bars Almond</strong><span class=\"amount\" id=\"product-sizecompare_sku6064176\" name=\"wagproductsize\"><!-- react-text: 5098 --> - <!-- /react-text --><!-- react-text: 5099 -->10.23 oz <!-- /react-text --><!-- react-text: 5100 --> <!-- /react-text --><!-- react-text: 5101 --><!-- /react-text --></span></div><span class=\"product__rating\"><figure><img alt=\"4.9 out of 5 total 36 reviews\" id=\"reviewbazarcompare_sku6064176\" src=\"//www.walgreens.com/images/adaptive/bvrating/rating-4_9.gif\" title=\"4.9 out of 5\"/><figcaption>36</figcaption></figure></span><div class=\"product__price-contain\" name=\"wagproductprice\"><span class=\"price__contain\" id=\"regular-pricecompare_sku6064176\" name=\"regular-price\"><span class=\"product__price font__sixteen\"><!-- react-text: 5109 -->$4.99<!-- /react-text --><span class=\"sr-only\">$4.99</span></span></span></div></a><div class=\"product__deal-container font__fourteen\"><div class=\"product__deal color__text-red\" id=\"offerprod6070330\" title=\"Buy 1, Get 1 FREE\"><!-- react-text: 5113 -->Buy 1, Get 1 FREE<!-- /react-text --><span class=\"sr-only\">Buy 1, Get 1 FREE</span></div><div class=\"product__deal\" id=\"couponprod6070330\"><a aria-describedby=\"coupon_overlay\" href=\"javascript:void(0)\" name=\"coupondetailsclick\">Save $1.25 Coupon</a><span class=\"sr-only\" id=\"coupon_overlay\">Open simulated dialog</span></div></div></div><div class=\"product__buttons\"><div class=\"avail-cta color__text-green-uc\" id=\"in-stock-at-storecompare_sku6064176\" name=\"in-stock-at-store compare_sku6064176\"><strong>In stock at store</strong><span class=\"sr-only\">In stock at store</span></div><div class=\"avail-cta\" id=\"not-available-for-shippingcompare_sku6064176\" name=\"not-available-for-shipping compare_sku6064176\"><!-- react-text: 5123 -->Not available for shipping<!-- /react-text --><span class=\"sr-only\">Not available for shipping</span></div><button class=\"btn btn__blue\" id=\"pickup-ship-btncompare_sku6064176\" name=\"pickup-ship-btn\"><!-- react-text: 5126 -->Pick up<!-- /react-text --><span class=\"sr-only\">will open overlay</span></button></div></div><span aria-live=\"polite\" class=\"sr-only\" id=\"ownbrandAnnounce\"></span></div>, <div class=\"item card card__product\" id=\"productcard300402656\"><div aria-hidden=\"true\" id=\"productcardheight300402656\" style=\"text-align: center;\"><a href=\"/store/c/hershey's-hershey's-strawberry-creme-filled-kisses-with-vampire-foils/ID=300402656-product\" id=\"productOmniSelectcompare_400624007\" tabindex=\"-1\"><figure class=\"product__img\"></figure><span class=\"sr-only\"><!-- react-text: 5135 -->Hershey's Hershey's Strawberry Creme Filled Kisses with Vampire Foils<!-- /react-text --><!-- react-text: 5136 --> (<!-- /react-text --><!-- react-text: 5137 -->9 oz <!-- /react-text --><!-- react-text: 5138 -->)<!-- /react-text --></span></a></div><div class=\"product__details\"><div class=\"product__text\"><a class=\"color__text-black\" href=\"/store/c/hershey's-hershey's-strawberry-creme-filled-kisses-with-vampire-foils/ID=300402656-product\"><div class=\"product__title font__fourteen\" id=\"title-secondary-0compare_400624007\" name=\"product-title\" title=\"Hershey's Hershey's Strawberry Creme Filled Kisses with Vampire Foils\"><div class=\"brand\" id=\"prodBrandNamecompare_400624007\">Hershey's</div><strong class=\"description\" id=\"prodTitleNamecompare_400624007\">Hershey's Strawberry Creme Filled Kisses with Vampire Foils</strong><span class=\"amount\" id=\"product-sizecompare_400624007\" name=\"wagproductsize\"><!-- react-text: 5146 --> - <!-- /react-text --><!-- react-text: 5147 -->9 oz <!-- /react-text --><!-- react-text: 5148 --> <!-- /react-text --><!-- react-text: 5149 --><!-- /react-text --></span></div><span class=\"product__rating\"><figure><img alt=\"4.9 out of 5 total 70 reviews\" id=\"reviewbazarcompare_400624007\" src=\"//www.walgreens.com/images/adaptive/bvrating/rating-4_9.gif\" title=\"4.9 out of 5\"/><figcaption>70</figcaption></figure></span><div class=\"product__price-contain\" name=\"wagproductprice\"><span class=\"price__contain\" id=\"regular-pricecompare_400624007\" name=\"regular-price\"><span class=\"product__price font__sixteen\"><!-- react-text: 5157 -->$4.99<!-- /react-text --><span class=\"sr-only\">$4.99</span></span></span></div></a><div class=\"product__deal-container font__fourteen\"></div></div><div class=\"product__buttons\"><div class=\"avail-cta color__text-green-uc\" id=\"in-stock-at-storecompare_400624007\" name=\"in-stock-at-store compare_400624007\"><strong>In stock at store</strong><span class=\"sr-only\">In stock at store</span></div><div class=\"avail-cta\" id=\"not-available-for-shippingcompare_400624007\" name=\"not-available-for-shipping compare_400624007\"><!-- react-text: 5165 -->Not available for shipping<!-- /react-text --><span class=\"sr-only\">Not available for shipping</span></div><button class=\"btn btn__blue\" id=\"pickup-ship-btncompare_400624007\" name=\"pickup-ship-btn\"><!-- react-text: 5168 -->Pick up<!-- /react-text --><span class=\"sr-only\">will open overlay</span></button></div></div><span aria-live=\"polite\" class=\"sr-only\" id=\"ownbrandAnnounce\"></span></div>]\n"
     ]
    }
   ],
   "source": [
    "# <div class=\"brand\" id=\"prodBrandNamecompare_sku6253945\" data-reactid=\"468\">PayDay</div>\n",
    "# \"brand\"\n",
    "#<input type=\"checkbox\" id=\"filter_353669\" tabindex=\"0\" value=\"353669\" name=\"353669\" title=\"Sour Punch(2)\">\n",
    "results = soup.find_all(\"div\", class_=\"item card card__product\")\n",
    "print(results)"
   ]
  },
  {
   "cell_type": "code",
   "execution_count": 8,
   "metadata": {},
   "outputs": [
    {
     "output_type": "execute_result",
     "data": {
      "text/plain": [
       "72"
      ]
     },
     "metadata": {},
     "execution_count": 8
    }
   ],
   "source": [
    "len(results)"
   ]
  },
  {
   "cell_type": "code",
   "execution_count": 9,
   "metadata": {
    "tags": []
   },
   "outputs": [
    {
     "output_type": "execute_result",
     "data": {
      "text/plain": [
       "[{'brand': 'PayDay',\n",
       "  'description': 'Snack Size Peanut Caramel Bars Peanut Caramel',\n",
       "  'rating': '4.6 out of 5 total 12 reviews'},\n",
       " {'brand': 'Snickers',\n",
       "  'description': 'Peanut Butter Squared Fun Size Candy',\n",
       "  'rating': '5.0 out of 5 total 1 reviews'},\n",
       " {'brand': 'Tootsie Roll',\n",
       "  'description': 'Caramel Apple Pops Green Apple',\n",
       "  'rating': '5.0 out of 5 total 6 reviews'},\n",
       " {'brand': 'Milky Way',\n",
       "  'description': 'Chocolate Candy Bar Fun Size',\n",
       "  'rating': '4.9 out of 5 total 44 reviews'},\n",
       " {'brand': \"Reese's\",\n",
       "  'description': 'Snack Size Peanut Butter Cups',\n",
       "  'rating': '5.0 out of 5 total 3 reviews'},\n",
       " {'brand': 'Mounds',\n",
       "  'description': 'Snack Size Candy Bars Dark Chocolate Coconut Filled',\n",
       "  'rating': '4.8 out of 5 total 16 reviews'},\n",
       " {'brand': \"Hershey's\",\n",
       "  'description': 'All Time Greats Snack Size Assortment, 30 Pieces',\n",
       "  'rating': '3.9 out of 5 total 37 reviews'},\n",
       " {'brand': 'Kisses',\n",
       "  'description': 'Gold with Pretzel Bits Candy',\n",
       "  'rating': '5.0 out of 5 total 1 reviews'},\n",
       " {'brand': 'Snickers',\n",
       "  'description': 'Chocolate Candy Bars Fun Size',\n",
       "  'rating': '4.7 out of 5 total 27 reviews'},\n",
       " {'brand': \"Hershey's\",\n",
       "  'description': 'Snack Size Milk Chocolate Bars Milk Chocolate',\n",
       "  'rating': '4.7 out of 5 total 44 reviews'},\n",
       " {'brand': '3 Musketeers',\n",
       "  'description': 'Fun Size Chocolate Candy Bars',\n",
       "  'rating': '4.6 out of 5 total 16 reviews'},\n",
       " {'brand': \"Werther's Original\",\n",
       "  'description': 'Chewy and Creamy Caramels',\n",
       "  'rating': '5.0 out of 5 total 4 reviews'},\n",
       " {'brand': \"Werther's Original\",\n",
       "  'description': 'Soft and Creamy Caramels',\n",
       "  'rating': '5.0 out of 5 total 3 reviews'},\n",
       " {'brand': 'Snickers',\n",
       "  'description': 'Fun Size Chocolate Bars Variety Mix Candy',\n",
       "  'rating': '5.0 out of 5 total 23 reviews'},\n",
       " {'brand': \"Werther's Original\",\n",
       "  'description': 'Soft and Creamy Caramels with Vanilla',\n",
       "  'rating': '5.0 out of 5 total 2 reviews'},\n",
       " {'brand': 'Almond Joy',\n",
       "  'description': 'Snack Size Candy Bars Almond',\n",
       "  'rating': '4.1 out of 5 total 24 reviews'},\n",
       " {'brand': 'Mars',\n",
       "  'description': 'Minis Size Candy Bars Halloween Variety Mix Family Size',\n",
       "  'rating': '4.9 out of 5 total 350 reviews'},\n",
       " {'brand': 'Kit Kat',\n",
       "  'description': 'Snack Size Wafer Bars Milk Chocolate',\n",
       "  'rating': '3.7 out of 5 total 3 reviews'},\n",
       " {'brand': 'Tootsie',\n",
       "  'description': 'Pops Assorted Flavors Lollipops Candy',\n",
       "  'rating': '5.0 out of 5 total 6 reviews'},\n",
       " {'brand': 'Twix',\n",
       "  'description': 'Caramel Fun Size Chocolate Cookie Candy Bar',\n",
       "  'rating': '4.9 out of 5 total 117 reviews'},\n",
       " {'brand': 'Airheads',\n",
       "  'description': 'Variety Bag',\n",
       "  'rating': '3.5 out of 5 total 2 reviews'},\n",
       " {'brand': 'Dubble Bubble',\n",
       "  'description': 'Gum',\n",
       "  'rating': '3.8 out of 5 total 4 reviews'},\n",
       " {'brand': 'Airheads',\n",
       "  'description': 'Mini Bars Assorted Flavors',\n",
       "  'rating': '4.5 out of 5 total 2 reviews'},\n",
       " {'brand': 'Dum Dums',\n",
       "  'description': 'Original Pops 200 Count',\n",
       "  'rating': '5.0 out of 5 total 2 reviews'},\n",
       " {'brand': 'Laffy Taffy',\n",
       "  'description': 'Candy Variety Bag Strawberry, Banana, Sour Apple, Grape',\n",
       "  'rating': '3.0 out of 5 total 1 reviews'},\n",
       " {'brand': 'Blow Pop',\n",
       "  'description': 'Assorted Bubble Gum Filled Pops',\n",
       "  'rating': '5.0 out of 5 total 2 reviews'},\n",
       " {'brand': 'Wonka',\n",
       "  'description': 'Trickster Treats Spree, Gobstopper, Laffy Taffy, Sweet Tarts',\n",
       "  'rating': nan},\n",
       " {'brand': \"M&M's\",\n",
       "  'description': 'Fun Size Peanut Chocolate Candy Peanut',\n",
       "  'rating': '4.8 out of 5 total 1413 reviews'},\n",
       " {'brand': \"Hershey's\",\n",
       "  'description': \"Reese's and Kit Kat Chocolate Candy Assorted Bag\",\n",
       "  'rating': '4.9 out of 5 total 23 reviews'},\n",
       " {'brand': 'Butterfinger',\n",
       "  'description': 'Chocolate Bar Fun Size',\n",
       "  'rating': nan},\n",
       " {'brand': 'Crunch', 'description': 'Chocolate Bar Fun Size', 'rating': nan},\n",
       " {'brand': \"Hershey's\",\n",
       "  'description': 'Snack Size Candy Assortment',\n",
       "  'rating': nan},\n",
       " {'brand': \"Hershey's\",\n",
       "  'description': 'Miniatures Assorted Stand Up Bag',\n",
       "  'rating': '5.0 out of 5 total 3 reviews'},\n",
       " {'brand': 'Baby Ruth',\n",
       "  'description': 'Chocolate Bar Fun Size',\n",
       "  'rating': nan},\n",
       " {'brand': \"Reese's\",\n",
       "  'description': 'Snack Size Peanut Butter Cups',\n",
       "  'rating': '5.0 out of 5 total 3 reviews'},\n",
       " {'brand': 'Butterfinger & Co.',\n",
       "  'description': 'Assorted Funsize Chocolates',\n",
       "  'rating': nan},\n",
       " {'brand': \"Brach's\",\n",
       "  'description': 'Haunted Tropics Candy Corn',\n",
       "  'rating': nan},\n",
       " {'brand': \"Hershey's\",\n",
       "  'description': 'Halloween Snack Size Nut Lovers Assorted',\n",
       "  'rating': nan},\n",
       " {'brand': 'Nice!',\n",
       "  'description': 'Candy Corn',\n",
       "  'rating': '3.8 out of 5 total 6 reviews'},\n",
       " {'brand': 'Karma', 'description': 'Pumpkin Ball Mesh Bag', 'rating': nan},\n",
       " {'brand': 'Butterfinger & Co.',\n",
       "  'description': 'Assorted Halloween Candy 230ct',\n",
       "  'rating': nan},\n",
       " {'brand': 'Ferrara Candy',\n",
       "  'description': 'Nerds Grape, Strawberry  Crunch Minis',\n",
       "  'rating': nan},\n",
       " {'brand': 'Sour Patch Kids',\n",
       "  'description': 'Halloween Treat Size Multibrand Bag 75ct',\n",
       "  'rating': nan},\n",
       " {'brand': 'Sour Punch', 'description': 'Candy Twists 50ct', 'rating': nan},\n",
       " {'brand': \"Hershey's\",\n",
       "  'description': 'Halloween Candy Assortment 55ct',\n",
       "  'rating': nan},\n",
       " {'brand': 'Mars',\n",
       "  'description': 'Halloween Bag',\n",
       "  'rating': '5.0 out of 5 total 192 reviews'},\n",
       " {'brand': 'CandyRific',\n",
       "  'description': 'M&M Halloween Flashlight',\n",
       "  'rating': nan},\n",
       " {'brand': 'Kathy Kaye',\n",
       "  'description': 'Halloween Popcorn Balls',\n",
       "  'rating': '3.0 out of 5 total 2 reviews'},\n",
       " {'brand': 'Kit Kat',\n",
       "  'description': 'Halloween Orange Colored White Creme Wafer Bars',\n",
       "  'rating': '3.5 out of 5 total 10 reviews'},\n",
       " {'brand': 'Twix',\n",
       "  'description': 'Caramel Fun Size Chocolate Cookie Halloween Candy Bar',\n",
       "  'rating': '5.0 out of 5 total 109 reviews'},\n",
       " {'brand': \"Hershey's\",\n",
       "  'description': 'Halloween Assorted Laydown Bag',\n",
       "  'rating': nan},\n",
       " {'brand': 'Kit Kat',\n",
       "  'description': \"Wafer Bar Witch's Brew Halloween Candy\",\n",
       "  'rating': nan},\n",
       " {'brand': \"Reese's\",\n",
       "  'description': 'Take 5 Snack Size Candy Bars',\n",
       "  'rating': '4.3 out of 5 total 37 reviews'},\n",
       " {'brand': 'Airheads', 'description': 'Variety Bag', 'rating': nan},\n",
       " {'brand': 'Nerds',\n",
       "  'description': 'Candy Strawberry & Grape',\n",
       "  'rating': '5.0 out of 5 total 3 reviews'},\n",
       " {'brand': \"Hershey's\",\n",
       "  'description': 'Halloween All Time Greats Snack Size Candy Assorted Flavors',\n",
       "  'rating': nan},\n",
       " {'brand': 'Haribo',\n",
       "  'description': 'Sweet & Scary Mix Assorted, Laydown Bag',\n",
       "  'rating': nan},\n",
       " {'brand': 'Mars',\n",
       "  'description': 'Favorite Sugar Grab Bag Halloween',\n",
       "  'rating': '5.0 out of 5 total 49 reviews'},\n",
       " {'brand': 'Mars',\n",
       "  'description': 'Mixed Candy Halloween',\n",
       "  'rating': '4.9 out of 5 total 122 reviews'},\n",
       " {'brand': \"Reese's\",\n",
       "  'description': 'Milk Chocolate Peanut Butter Pumpkin',\n",
       "  'rating': '3.0 out of 5 total 2 reviews'},\n",
       " {'brand': \"Hershey's\",\n",
       "  'description': 'Halloween Candy Assorted',\n",
       "  'rating': nan},\n",
       " {'brand': 'Nerds', 'description': 'Candy Rope Assorted', 'rating': nan},\n",
       " {'brand': \"Reese's\",\n",
       "  'description': \"Reese's Peanut Butter Cup Minis with Spooky Foils bag\",\n",
       "  'rating': '4.9 out of 5 total 56 reviews'},\n",
       " {'brand': 'Russell Stover',\n",
       "  'description': 'Pumpkin Caramel Brownie',\n",
       "  'rating': nan},\n",
       " {'brand': 'Mars',\n",
       "  'description': 'Mixed Chocolate Variety Halloween Bag',\n",
       "  'rating': '5.0 out of 5 total 192 reviews'},\n",
       " {'brand': 'Russell Stover',\n",
       "  'description': 'Halloween Candy Orange Marshmallow',\n",
       "  'rating': nan},\n",
       " {'brand': 'Mars',\n",
       "  'description': 'Fun Size Chocolate Candy Variety Mix Piece',\n",
       "  'rating': '4.9 out of 5 total 349 reviews'},\n",
       " {'brand': \"M&M's\",\n",
       "  'description': 'Milk Chocolate Halloween Ghouls',\n",
       "  'rating': '4.7 out of 5 total 202 reviews'},\n",
       " {'brand': 'Mars',\n",
       "  'description': 'Original Halloween Candy Bag Assorted',\n",
       "  'rating': '4.9 out of 5 total 80 reviews'},\n",
       " {'brand': \"Brach's\", 'description': 'Milk Maid Caramels', 'rating': nan},\n",
       " {'brand': 'Snickers',\n",
       "  'description': 'Almond Fun Size Chocolate Halloween Candy Bars Almond',\n",
       "  'rating': '4.9 out of 5 total 36 reviews'},\n",
       " {'brand': \"Hershey's\",\n",
       "  'description': \"Hershey's Strawberry Creme Filled Kisses with Vampire Foils\",\n",
       "  'rating': '4.9 out of 5 total 70 reviews'}]"
      ]
     },
     "metadata": {},
     "execution_count": 9
    }
   ],
   "source": [
    "ratings_list = []\n",
    "# loop through each result and scrape brand name, description and rating\n",
    "for result in results:\n",
    "    candy_ratings = {}\n",
    "    candy_ratings['brand'] = result.find('div', class_='brand').text\n",
    "    candy_ratings['description'] = result.find('strong', class_='description').text\n",
    "    # We are using a try and except block to convert results that did not have a rating or review to 'NaN'\n",
    "    try:\n",
    "        candy_ratings['rating'] = result.find(\"span\", class_=\"product__rating\").img[\"alt\"]\n",
    "        \n",
    "    except AttributeError:\n",
    "        candy_ratings['rating'] = np.nan\n",
    "    ratings_list.append(candy_ratings)\n",
    "ratings_list"
   ]
  },
  {
   "cell_type": "code",
   "execution_count": 10,
   "metadata": {},
   "outputs": [
    {
     "output_type": "execute_result",
     "data": {
      "text/plain": [
       "          brand                                    description  \\\n",
       "0        PayDay  Snack Size Peanut Caramel Bars Peanut Caramel   \n",
       "1      Snickers           Peanut Butter Squared Fun Size Candy   \n",
       "2  Tootsie Roll                 Caramel Apple Pops Green Apple   \n",
       "3     Milky Way                   Chocolate Candy Bar Fun Size   \n",
       "4       Reese's                  Snack Size Peanut Butter Cups   \n",
       "\n",
       "                          rating  \n",
       "0  4.6 out of 5 total 12 reviews  \n",
       "1   5.0 out of 5 total 1 reviews  \n",
       "2   5.0 out of 5 total 6 reviews  \n",
       "3  4.9 out of 5 total 44 reviews  \n",
       "4   5.0 out of 5 total 3 reviews  "
      ],
      "text/html": "<div>\n<style scoped>\n    .dataframe tbody tr th:only-of-type {\n        vertical-align: middle;\n    }\n\n    .dataframe tbody tr th {\n        vertical-align: top;\n    }\n\n    .dataframe thead th {\n        text-align: right;\n    }\n</style>\n<table border=\"1\" class=\"dataframe\">\n  <thead>\n    <tr style=\"text-align: right;\">\n      <th></th>\n      <th>brand</th>\n      <th>description</th>\n      <th>rating</th>\n    </tr>\n  </thead>\n  <tbody>\n    <tr>\n      <th>0</th>\n      <td>PayDay</td>\n      <td>Snack Size Peanut Caramel Bars Peanut Caramel</td>\n      <td>4.6 out of 5 total 12 reviews</td>\n    </tr>\n    <tr>\n      <th>1</th>\n      <td>Snickers</td>\n      <td>Peanut Butter Squared Fun Size Candy</td>\n      <td>5.0 out of 5 total 1 reviews</td>\n    </tr>\n    <tr>\n      <th>2</th>\n      <td>Tootsie Roll</td>\n      <td>Caramel Apple Pops Green Apple</td>\n      <td>5.0 out of 5 total 6 reviews</td>\n    </tr>\n    <tr>\n      <th>3</th>\n      <td>Milky Way</td>\n      <td>Chocolate Candy Bar Fun Size</td>\n      <td>4.9 out of 5 total 44 reviews</td>\n    </tr>\n    <tr>\n      <th>4</th>\n      <td>Reese's</td>\n      <td>Snack Size Peanut Butter Cups</td>\n      <td>5.0 out of 5 total 3 reviews</td>\n    </tr>\n  </tbody>\n</table>\n</div>"
     },
     "metadata": {},
     "execution_count": 10
    }
   ],
   "source": [
    "# Using our list of dictionaries, create a dataframe\n",
    "df = pd.DataFrame(ratings_list)\n",
    "# drop any results that did not have a rating\n",
    "df = df.dropna(how='any')\n",
    "df.head()"
   ]
  },
  {
   "cell_type": "code",
   "execution_count": 11,
   "metadata": {},
   "outputs": [
    {
     "output_type": "execute_result",
     "data": {
      "text/plain": [
       "          brand                                    description  \\\n",
       "0        PayDay  Snack Size Peanut Caramel Bars Peanut Caramel   \n",
       "1      Snickers           Peanut Butter Squared Fun Size Candy   \n",
       "2  Tootsie Roll                 Caramel Apple Pops Green Apple   \n",
       "3     Milky Way                   Chocolate Candy Bar Fun Size   \n",
       "4       Reese's                  Snack Size Peanut Butter Cups   \n",
       "\n",
       "                          rating  individual_rating  review  \n",
       "0  4.6 out of 5 total 12 reviews                4.6    12.0  \n",
       "1   5.0 out of 5 total 1 reviews                5.0     1.0  \n",
       "2   5.0 out of 5 total 6 reviews                5.0     6.0  \n",
       "3  4.9 out of 5 total 44 reviews                4.9    44.0  \n",
       "4   5.0 out of 5 total 3 reviews                5.0     3.0  "
      ],
      "text/html": "<div>\n<style scoped>\n    .dataframe tbody tr th:only-of-type {\n        vertical-align: middle;\n    }\n\n    .dataframe tbody tr th {\n        vertical-align: top;\n    }\n\n    .dataframe thead th {\n        text-align: right;\n    }\n</style>\n<table border=\"1\" class=\"dataframe\">\n  <thead>\n    <tr style=\"text-align: right;\">\n      <th></th>\n      <th>brand</th>\n      <th>description</th>\n      <th>rating</th>\n      <th>individual_rating</th>\n      <th>review</th>\n    </tr>\n  </thead>\n  <tbody>\n    <tr>\n      <th>0</th>\n      <td>PayDay</td>\n      <td>Snack Size Peanut Caramel Bars Peanut Caramel</td>\n      <td>4.6 out of 5 total 12 reviews</td>\n      <td>4.6</td>\n      <td>12.0</td>\n    </tr>\n    <tr>\n      <th>1</th>\n      <td>Snickers</td>\n      <td>Peanut Butter Squared Fun Size Candy</td>\n      <td>5.0 out of 5 total 1 reviews</td>\n      <td>5.0</td>\n      <td>1.0</td>\n    </tr>\n    <tr>\n      <th>2</th>\n      <td>Tootsie Roll</td>\n      <td>Caramel Apple Pops Green Apple</td>\n      <td>5.0 out of 5 total 6 reviews</td>\n      <td>5.0</td>\n      <td>6.0</td>\n    </tr>\n    <tr>\n      <th>3</th>\n      <td>Milky Way</td>\n      <td>Chocolate Candy Bar Fun Size</td>\n      <td>4.9 out of 5 total 44 reviews</td>\n      <td>4.9</td>\n      <td>44.0</td>\n    </tr>\n    <tr>\n      <th>4</th>\n      <td>Reese's</td>\n      <td>Snack Size Peanut Butter Cups</td>\n      <td>5.0 out of 5 total 3 reviews</td>\n      <td>5.0</td>\n      <td>3.0</td>\n    </tr>\n  </tbody>\n</table>\n</div>"
     },
     "metadata": {},
     "execution_count": 11
    }
   ],
   "source": [
    "\n",
    "for index, row in df.iterrows():\n",
    "    # extract the individual rating\n",
    "    rating = row['rating'][0:3]\n",
    "    df.loc[index, 'individual_rating'] = float(rating)\n",
    "    # extract number of reviews    \n",
    "    count = [int(i) for i in row['rating'].split() if i.isnumeric()]\n",
    "    df.loc[index, 'review'] = count[1]\n",
    "df.head()"
   ]
  },
  {
   "cell_type": "code",
   "execution_count": 12,
   "metadata": {},
   "outputs": [
    {
     "output_type": "execute_result",
     "data": {
      "text/plain": [
       "                    Avg_Rating  Avg_Num_Reviews\n",
       "brand                                          \n",
       "3 Musketeers          4.600000        16.000000\n",
       "Airheads              4.000000         2.000000\n",
       "Almond Joy            4.100000        24.000000\n",
       "Blow Pop              5.000000         2.000000\n",
       "Dubble Bubble         3.800000         4.000000\n",
       "Dum Dums              5.000000         2.000000\n",
       "Hershey's             4.680000        35.400000\n",
       "Kathy Kaye            3.000000         2.000000\n",
       "Kisses                5.000000         1.000000\n",
       "Kit Kat               3.600000         6.500000\n",
       "Laffy Taffy           3.000000         1.000000\n",
       "M&M's                 4.750000       807.500000\n",
       "Mars                  4.942857       190.571429\n",
       "Milky Way             4.900000        44.000000\n",
       "Mounds                4.800000        16.000000\n",
       "Nerds                 5.000000         3.000000\n",
       "Nice!                 3.800000         6.000000\n",
       "PayDay                4.600000        12.000000\n",
       "Reese's               4.440000        20.200000\n",
       "Snickers              4.900000        21.750000\n",
       "Tootsie               5.000000         6.000000\n",
       "Tootsie Roll          5.000000         6.000000\n",
       "Twix                  4.950000       113.000000\n",
       "Werther's Original    5.000000         3.000000"
      ],
      "text/html": "<div>\n<style scoped>\n    .dataframe tbody tr th:only-of-type {\n        vertical-align: middle;\n    }\n\n    .dataframe tbody tr th {\n        vertical-align: top;\n    }\n\n    .dataframe thead th {\n        text-align: right;\n    }\n</style>\n<table border=\"1\" class=\"dataframe\">\n  <thead>\n    <tr style=\"text-align: right;\">\n      <th></th>\n      <th>Avg_Rating</th>\n      <th>Avg_Num_Reviews</th>\n    </tr>\n    <tr>\n      <th>brand</th>\n      <th></th>\n      <th></th>\n    </tr>\n  </thead>\n  <tbody>\n    <tr>\n      <th>3 Musketeers</th>\n      <td>4.600000</td>\n      <td>16.000000</td>\n    </tr>\n    <tr>\n      <th>Airheads</th>\n      <td>4.000000</td>\n      <td>2.000000</td>\n    </tr>\n    <tr>\n      <th>Almond Joy</th>\n      <td>4.100000</td>\n      <td>24.000000</td>\n    </tr>\n    <tr>\n      <th>Blow Pop</th>\n      <td>5.000000</td>\n      <td>2.000000</td>\n    </tr>\n    <tr>\n      <th>Dubble Bubble</th>\n      <td>3.800000</td>\n      <td>4.000000</td>\n    </tr>\n    <tr>\n      <th>Dum Dums</th>\n      <td>5.000000</td>\n      <td>2.000000</td>\n    </tr>\n    <tr>\n      <th>Hershey's</th>\n      <td>4.680000</td>\n      <td>35.400000</td>\n    </tr>\n    <tr>\n      <th>Kathy Kaye</th>\n      <td>3.000000</td>\n      <td>2.000000</td>\n    </tr>\n    <tr>\n      <th>Kisses</th>\n      <td>5.000000</td>\n      <td>1.000000</td>\n    </tr>\n    <tr>\n      <th>Kit Kat</th>\n      <td>3.600000</td>\n      <td>6.500000</td>\n    </tr>\n    <tr>\n      <th>Laffy Taffy</th>\n      <td>3.000000</td>\n      <td>1.000000</td>\n    </tr>\n    <tr>\n      <th>M&amp;M's</th>\n      <td>4.750000</td>\n      <td>807.500000</td>\n    </tr>\n    <tr>\n      <th>Mars</th>\n      <td>4.942857</td>\n      <td>190.571429</td>\n    </tr>\n    <tr>\n      <th>Milky Way</th>\n      <td>4.900000</td>\n      <td>44.000000</td>\n    </tr>\n    <tr>\n      <th>Mounds</th>\n      <td>4.800000</td>\n      <td>16.000000</td>\n    </tr>\n    <tr>\n      <th>Nerds</th>\n      <td>5.000000</td>\n      <td>3.000000</td>\n    </tr>\n    <tr>\n      <th>Nice!</th>\n      <td>3.800000</td>\n      <td>6.000000</td>\n    </tr>\n    <tr>\n      <th>PayDay</th>\n      <td>4.600000</td>\n      <td>12.000000</td>\n    </tr>\n    <tr>\n      <th>Reese's</th>\n      <td>4.440000</td>\n      <td>20.200000</td>\n    </tr>\n    <tr>\n      <th>Snickers</th>\n      <td>4.900000</td>\n      <td>21.750000</td>\n    </tr>\n    <tr>\n      <th>Tootsie</th>\n      <td>5.000000</td>\n      <td>6.000000</td>\n    </tr>\n    <tr>\n      <th>Tootsie Roll</th>\n      <td>5.000000</td>\n      <td>6.000000</td>\n    </tr>\n    <tr>\n      <th>Twix</th>\n      <td>4.950000</td>\n      <td>113.000000</td>\n    </tr>\n    <tr>\n      <th>Werther's Original</th>\n      <td>5.000000</td>\n      <td>3.000000</td>\n    </tr>\n  </tbody>\n</table>\n</div>"
     },
     "metadata": {},
     "execution_count": 12
    }
   ],
   "source": [
    "# group by the brand to see the average brand rating and review\n",
    "brands_df = df[['brand', 'individual_rating', 'review']].groupby('brand').mean()\n",
    "brands_df = brands_df.rename(columns={'individual_rating': \"Avg_Rating\", \"review\": \"Avg_Num_Reviews\"})\n",
    "brands_df"
   ]
  },
  {
   "cell_type": "code",
   "execution_count": 15,
   "metadata": {},
   "outputs": [],
   "source": [
    "# Create connection to postgresql\n",
    "rds_connection_string = f\"{username}:{password}@localhost:5432/Web_Scraping_Challenge\"\n",
    "engine = create_engine(f'postgresql://{rds_connection_string}')"
   ]
  },
  {
   "cell_type": "code",
   "execution_count": 16,
   "metadata": {},
   "outputs": [],
   "source": [
    "# Use pandas to load csv converted DataFrame into database\n",
    "df.to_sql(name='walgreens_candy', con=engine, if_exists='append', index=False)"
   ]
  },
  {
   "cell_type": "code",
   "execution_count": 22,
   "metadata": {},
   "outputs": [
    {
     "output_type": "execute_result",
     "data": {
      "text/plain": [
       "          brand                                    description  \\\n",
       "0        PayDay  Snack Size Peanut Caramel Bars Peanut Caramel   \n",
       "1      Snickers           Peanut Butter Squared Fun Size Candy   \n",
       "2  Tootsie Roll                 Caramel Apple Pops Green Apple   \n",
       "3     Milky Way                   Chocolate Candy Bar Fun Size   \n",
       "4       Reese's                  Snack Size Peanut Butter Cups   \n",
       "\n",
       "                          rating  individual_rating  review  \n",
       "0  4.6 out of 5 total 12 reviews                4.6    12.0  \n",
       "1   5.0 out of 5 total 1 reviews                5.0     1.0  \n",
       "2   5.0 out of 5 total 6 reviews                5.0     6.0  \n",
       "3  4.9 out of 5 total 44 reviews                4.9    44.0  \n",
       "4   5.0 out of 5 total 3 reviews                5.0     3.0  "
      ],
      "text/html": "<div>\n<style scoped>\n    .dataframe tbody tr th:only-of-type {\n        vertical-align: middle;\n    }\n\n    .dataframe tbody tr th {\n        vertical-align: top;\n    }\n\n    .dataframe thead th {\n        text-align: right;\n    }\n</style>\n<table border=\"1\" class=\"dataframe\">\n  <thead>\n    <tr style=\"text-align: right;\">\n      <th></th>\n      <th>brand</th>\n      <th>description</th>\n      <th>rating</th>\n      <th>individual_rating</th>\n      <th>review</th>\n    </tr>\n  </thead>\n  <tbody>\n    <tr>\n      <th>0</th>\n      <td>PayDay</td>\n      <td>Snack Size Peanut Caramel Bars Peanut Caramel</td>\n      <td>4.6 out of 5 total 12 reviews</td>\n      <td>4.6</td>\n      <td>12.0</td>\n    </tr>\n    <tr>\n      <th>1</th>\n      <td>Snickers</td>\n      <td>Peanut Butter Squared Fun Size Candy</td>\n      <td>5.0 out of 5 total 1 reviews</td>\n      <td>5.0</td>\n      <td>1.0</td>\n    </tr>\n    <tr>\n      <th>2</th>\n      <td>Tootsie Roll</td>\n      <td>Caramel Apple Pops Green Apple</td>\n      <td>5.0 out of 5 total 6 reviews</td>\n      <td>5.0</td>\n      <td>6.0</td>\n    </tr>\n    <tr>\n      <th>3</th>\n      <td>Milky Way</td>\n      <td>Chocolate Candy Bar Fun Size</td>\n      <td>4.9 out of 5 total 44 reviews</td>\n      <td>4.9</td>\n      <td>44.0</td>\n    </tr>\n    <tr>\n      <th>4</th>\n      <td>Reese's</td>\n      <td>Snack Size Peanut Butter Cups</td>\n      <td>5.0 out of 5 total 3 reviews</td>\n      <td>5.0</td>\n      <td>3.0</td>\n    </tr>\n  </tbody>\n</table>\n</div>"
     },
     "metadata": {},
     "execution_count": 22
    }
   ],
   "source": [
    "# verify table was loaded successfully\n",
    "pd.read_sql_query('select * from walgreens_candy', con=engine).head()"
   ]
  },
  {
   "cell_type": "code",
   "execution_count": 28,
   "metadata": {},
   "outputs": [],
   "source": [
    "# Use pandas to brands DataFrame into database\n",
    "brands_df.to_sql(name='walgreens_brand_avg', con=engine, if_exists='append', index=True)"
   ]
  },
  {
   "cell_type": "code",
   "execution_count": 29,
   "metadata": {},
   "outputs": [
    {
     "output_type": "execute_result",
     "data": {
      "text/plain": [
       "           brand  Avg_Rating  Avg_Num_Reviews\n",
       "0   3 Musketeers         4.6             16.0\n",
       "1       Airheads         4.0              2.0\n",
       "2     Almond Joy         4.1             24.0\n",
       "3       Blow Pop         5.0              2.0\n",
       "4  Dubble Bubble         3.8              4.0"
      ],
      "text/html": "<div>\n<style scoped>\n    .dataframe tbody tr th:only-of-type {\n        vertical-align: middle;\n    }\n\n    .dataframe tbody tr th {\n        vertical-align: top;\n    }\n\n    .dataframe thead th {\n        text-align: right;\n    }\n</style>\n<table border=\"1\" class=\"dataframe\">\n  <thead>\n    <tr style=\"text-align: right;\">\n      <th></th>\n      <th>brand</th>\n      <th>Avg_Rating</th>\n      <th>Avg_Num_Reviews</th>\n    </tr>\n  </thead>\n  <tbody>\n    <tr>\n      <th>0</th>\n      <td>3 Musketeers</td>\n      <td>4.6</td>\n      <td>16.0</td>\n    </tr>\n    <tr>\n      <th>1</th>\n      <td>Airheads</td>\n      <td>4.0</td>\n      <td>2.0</td>\n    </tr>\n    <tr>\n      <th>2</th>\n      <td>Almond Joy</td>\n      <td>4.1</td>\n      <td>24.0</td>\n    </tr>\n    <tr>\n      <th>3</th>\n      <td>Blow Pop</td>\n      <td>5.0</td>\n      <td>2.0</td>\n    </tr>\n    <tr>\n      <th>4</th>\n      <td>Dubble Bubble</td>\n      <td>3.8</td>\n      <td>4.0</td>\n    </tr>\n  </tbody>\n</table>\n</div>"
     },
     "metadata": {},
     "execution_count": 29
    }
   ],
   "source": [
    "# verify table was loaded successfully\n",
    "pd.read_sql_query('select * from walgreens_brand_avg', con=engine).head()"
   ]
  },
  {
   "cell_type": "code",
   "execution_count": null,
   "metadata": {},
   "outputs": [],
   "source": []
  }
 ],
 "metadata": {
  "kernelspec": {
   "name": "Python 3.6.10 64-bit ('bcs': conda)",
   "display_name": "Python 3.6.10 64-bit ('bcs': conda)",
   "metadata": {
    "interpreter": {
     "hash": "8ef29466f74bf088a378c30282cf9d03bb14ca16f25d014dbaac1c7b0c54b402"
    }
   }
  },
  "language_info": {
   "codemirror_mode": {
    "name": "ipython",
    "version": 3
   },
   "file_extension": ".py",
   "mimetype": "text/x-python",
   "name": "python",
   "nbconvert_exporter": "python",
   "pygments_lexer": "ipython3",
   "version": "3.6.10-final"
  },
  "varInspector": {
   "cols": {
    "lenName": 16,
    "lenType": 16,
    "lenVar": 40
   },
   "kernels_config": {
    "python": {
     "delete_cmd_postfix": "",
     "delete_cmd_prefix": "del ",
     "library": "var_list.py",
     "varRefreshCmd": "print(var_dic_list())"
    },
    "r": {
     "delete_cmd_postfix": ") ",
     "delete_cmd_prefix": "rm(",
     "library": "var_list.r",
     "varRefreshCmd": "cat(var_dic_list()) "
    }
   },
   "types_to_exclude": [
    "module",
    "function",
    "builtin_function_or_method",
    "instance",
    "_Feature"
   ],
   "window_display": false
  }
 },
 "nbformat": 4,
 "nbformat_minor": 2
}